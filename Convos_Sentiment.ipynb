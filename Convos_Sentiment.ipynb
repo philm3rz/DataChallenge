{
 "cells": [
  {
   "cell_type": "code",
   "execution_count": 2,
   "metadata": {},
   "outputs": [],
   "source": [
    "import pandas as pd\n",
    "import matplotlib.pyplot as plt\n",
    "import numpy as np\n",
    "import sklearn as skl\n",
    "import json\n",
    "import pickle\n",
    "import re\n",
    "import pprint\n",
    "import datetime\n",
    "import statistics as st"
   ]
  },
  {
   "cell_type": "code",
   "execution_count": 3,
   "metadata": {},
   "outputs": [],
   "source": [
    "import sqlite3\n",
    "high_performance_mode = False #Changed this to default false\n",
    "db_file_path = \"db.db\" #CHANGE THIS\n",
    "from urllib.parse import unquote\n",
    "from urllib.parse import quote"
   ]
  },
  {
   "cell_type": "code",
   "execution_count": 4,
   "metadata": {},
   "outputs": [
    {
     "name": "stdout",
     "output_type": "stream",
     "text": [
      "Loaded\n"
     ]
    }
   ],
   "source": [
    "##DO NOT TOUCH THESE\n",
    "db = sqlite3.connect(\":memory:\")\n",
    "db2 = sqlite3.connect(db_file_path)\n",
    "##DO NOT TOUCH THESE\n",
    "if high_performance_mode:\n",
    "    db2.backup(db)\n",
    "    db2.close()\n",
    "else:\n",
    "    db = db2\n",
    "db.execute('PRAGMA journal_mode = MEMORY')\n",
    "#Rollback journal in mem so that indexing is faster and crashes are catastrophic >:D\n",
    "db.execute('PRAGMA cache_size = 536870912') #<- 512MB in B\n",
    "#This is dinamically resized but the default is really low so let it grow!\n",
    "db.execute('PRAGMA temp_store = MEMORY')\n",
    "#Anything that needs to be generated, do it in mem because faster\n",
    "db.execute('PRAGMA locking_mode = EXCLUSIVE')\n",
    "#Remove lock/unlock overhead let it zoom\n",
    "print(\"Loaded\")"
   ]
  },
  {
   "cell_type": "code",
   "execution_count": 5,
   "metadata": {},
   "outputs": [],
   "source": [
    "c = db.cursor()\n",
    "class Helper:\n",
    "      def __init__(self, db):\n",
    "        self.db = db;\n",
    "        #If anybody wants to use this Google \"SQLite IN\"\n",
    "        self.airline_names = {20626359: 'virginatlantic', 18332190: 'British Airways', 22536055: 'American Airlines', 1542862735: 'Ryanair', 38676903: 'easyJet', 124476322: 'Lufthansa', 218730857: 'Qantas', 106062176: 'Air France', 56377143: 'Royal Dutch Airlines', 45621423: 'SocialLogin%40etihad.ae', 253340062: 'Singapore Airlines', 26223583: 'airberlin', 2182373406: 'airberlin Assist'}\n",
    "        self.airline_ids = [56377143, 106062176, 18332190, 22536055, 124476322, 26223583, 2182373406, 38676903, 1542862735, 253340062, 218730857, 45621423, 20626359]\n",
    "      def exec_custom(self, query: str):\n",
    "        return self.db.execute(query)\n",
    "      def get_vars(self, table: str):\n",
    "        return self.db.execute(\"pragma table_info('{0}');\".format(table))\n",
    "      def get_tables(self): \n",
    "        return self.db.execute(\"SELECT name FROM sqlite_master WHERE type ='table' AND name NOT LIKE 'sqlite_%';\")\n",
    "      def get_tweet(self, id: int, vars, filter):\n",
    "        return self.db.execute(self.build_query('tweets', vars, filter))\n",
    "      def get_user_tweets(self, id: int):\n",
    "        return self.db.execute(self.build_query('tweets', '*', [['user', id]]))\n",
    "      def get_airline_tweets_by_mention(self, id: int, vars):\n",
    "        return self.db.execute(self.build_query('mentions', vars, \"WHERE user_id = '{0}'\".format(id)))\n",
    "      def get_airline_tweets_by_user_id_in_tweet(self, id: int, vars):\n",
    "        return self.db.execute(self.build_query('tweets', vars, \"WHERE user = '{0}'\".format(id)))\n",
    "      def build_query(self, table, return_values, search_values, raw_filter = 0):\n",
    "        def createLimit(limit: list):\n",
    "            return limit[0] + \" = \" + \"'{0}'\".format(limit[1])\n",
    "        #You'd have to sort and/or/* search values and then apply them accordingly because of how the .join function works and im not about that life\n",
    "        #Or use the list comprehension output to process the logic behind it (but usually complex things require brackets and f that)\n",
    "        if(type(search_values) == list):\n",
    "            query = \"select \" + \",\".join(return_values) + \" from \" + table + \" where \" + ' and '.join([createLimit(limit) for limit in search_values])\n",
    "        else:\n",
    "            query = \"select \" + \",\".join(return_values) + \" from \" + table + \" where \" + search_values\n",
    "        return query\n"
   ]
  },
  {
   "cell_type": "code",
   "execution_count": 6,
   "metadata": {},
   "outputs": [],
   "source": [
    "hp = Helper(c)"
   ]
  },
  {
   "cell_type": "code",
   "execution_count": 7,
   "metadata": {
    "scrolled": true
   },
   "outputs": [
    {
     "name": "stdout",
     "output_type": "stream",
     "text": [
      "<[tweets]>\n",
      "    id\n",
      "    text\n",
      "    in_reply_to_status_id\n",
      "    in_reply_to_user_id\n",
      "    user\n",
      "    retweeted_status\n",
      "    quoted_status\n",
      "    language\n",
      "    timestamp_ms\n",
      "<[users]>\n",
      "    timestamp\n",
      "    id\n",
      "    name\n",
      "    verified\n",
      "    followers_count\n",
      "    friends_count\n",
      "    listed_count\n",
      "    favourites_count\n",
      "    statuses_count\n",
      "    location\n",
      "<[retweets]>\n",
      "    id\n",
      "    in_reply_to_status_id\n",
      "    in_reply_to_user_id\n",
      "    user\n",
      "<[quotes]>\n",
      "    id\n",
      "    in_reply_to_status_id\n",
      "    in_reply_to_user_id\n",
      "    user\n",
      "<[to_delete]>\n",
      "    id\n",
      "    timestamp\n",
      "<[ent_hashtags]>\n",
      "    id\n",
      "    text\n",
      "<[ent_urls]>\n",
      "    id\n",
      "    url\n",
      "<[ent_mentions]>\n",
      "    id\n",
      "    name\n",
      "    user_id\n",
      "<[convs]>\n",
      "    root\n",
      "    reply\n",
      "    id\n",
      "    level\n"
     ]
    }
   ],
   "source": [
    "#See all tables\n",
    "hp_t = Helper(db)\n",
    "for table_name in hp_t.get_tables():\n",
    "    print('<[{0}]>'.format(table_name[0]))\n",
    "    for column_name in hp_t.get_vars(table_name[0]):\n",
    "        print(\"    {0}\".format(column_name[1]))"
   ]
  },
  {
   "cell_type": "code",
   "execution_count": 8,
   "metadata": {},
   "outputs": [],
   "source": [
    "airlines = {'KLM':56377143, \n",
    "            'AirFrance': 106062176, \n",
    "            'British_Airways': 18332190, \n",
    "            'AmericanAir': 22536055, \n",
    "           'Lufthansa': 124476322, \n",
    "           'AirBerlin': 26223583, \n",
    "           'AirBerlinAssist': 2182373406, \n",
    "           'easyJet': 38676903, \n",
    "           'RyanAir': 1542862735, \n",
    "           'SingaporeAir': 253340062, \n",
    "           'Qantas': 218730857, \n",
    "           'EtihadAirways': 45621423, \n",
    "           'VirginAtlantic': 20626359}"
   ]
  },
  {
   "cell_type": "code",
   "execution_count": 9,
   "metadata": {},
   "outputs": [],
   "source": [
    "air_count = pickle.load(open(\"save2.p\", \"rb\"))"
   ]
  },
  {
   "cell_type": "code",
   "execution_count": 10,
   "metadata": {},
   "outputs": [],
   "source": [
    "del air_count['AirBerlin']['nr_conv']\n",
    "del air_count['AirBerlinAssist']['nr_conv']"
   ]
  },
  {
   "cell_type": "markdown",
   "metadata": {},
   "source": [
    "- KLM received about 133 000 tweets from users (whether directly or as a reply)\n",
    "- did they reply more to famous users? (famous defined as users with more than 5000 followers)"
   ]
  },
  {
   "cell_type": "code",
   "execution_count": 11,
   "metadata": {},
   "outputs": [
    {
     "name": "stdout",
     "output_type": "stream",
     "text": [
      "(1564,)\n"
     ]
    }
   ],
   "source": [
    "q1 = \"\"\"\n",
    "SELECT COUNT(DISTINCT(tweets.id))\n",
    "FROM users, tweets\n",
    "WHERE users.id = tweets.user AND users.id = 56377143 AND tweets.in_reply_to_user_id != 'null'\n",
    "AND tweets.in_reply_to_user_id IN (SELECT id FROM users WHERE followers_count > 5000);\n",
    "\"\"\"\n",
    "for row in hp.exec_custom(q1):\n",
    "    print(row)"
   ]
  },
  {
   "cell_type": "markdown",
   "metadata": {},
   "source": [
    "# A-B-A structure for the sentiment analysis"
   ]
  },
  {
   "cell_type": "markdown",
   "metadata": {},
   "source": [
    "First, find the tweets from users that get a reply later on"
   ]
  },
  {
   "cell_type": "code",
   "execution_count": 12,
   "metadata": {},
   "outputs": [
    {
     "data": {
      "text/html": [
       "<div>\n",
       "<style scoped>\n",
       "    .dataframe tbody tr th:only-of-type {\n",
       "        vertical-align: middle;\n",
       "    }\n",
       "\n",
       "    .dataframe tbody tr th {\n",
       "        vertical-align: top;\n",
       "    }\n",
       "\n",
       "    .dataframe thead th {\n",
       "        text-align: right;\n",
       "    }\n",
       "</style>\n",
       "<table border=\"1\" class=\"dataframe\">\n",
       "  <thead>\n",
       "    <tr style=\"text-align: right;\">\n",
       "      <th></th>\n",
       "      <th>start</th>\n",
       "      <th>user_id</th>\n",
       "    </tr>\n",
       "  </thead>\n",
       "  <tbody>\n",
       "    <tr>\n",
       "      <th>0</th>\n",
       "      <td>1131185677230575600</td>\n",
       "      <td>824207173425262600</td>\n",
       "    </tr>\n",
       "    <tr>\n",
       "      <th>1</th>\n",
       "      <td>1131215415164702700</td>\n",
       "      <td>123663454</td>\n",
       "    </tr>\n",
       "    <tr>\n",
       "      <th>2</th>\n",
       "      <td>1131260934087991300</td>\n",
       "      <td>267418667</td>\n",
       "    </tr>\n",
       "    <tr>\n",
       "      <th>3</th>\n",
       "      <td>1131277493674156000</td>\n",
       "      <td>2186639444</td>\n",
       "    </tr>\n",
       "    <tr>\n",
       "      <th>4</th>\n",
       "      <td>1131281689051828200</td>\n",
       "      <td>977096243204804600</td>\n",
       "    </tr>\n",
       "    <tr>\n",
       "      <th>...</th>\n",
       "      <td>...</td>\n",
       "      <td>...</td>\n",
       "    </tr>\n",
       "    <tr>\n",
       "      <th>3449</th>\n",
       "      <td>1243899605483323400</td>\n",
       "      <td>66617261</td>\n",
       "    </tr>\n",
       "    <tr>\n",
       "      <th>3450</th>\n",
       "      <td>1243920892272562200</td>\n",
       "      <td>187541638</td>\n",
       "    </tr>\n",
       "    <tr>\n",
       "      <th>3451</th>\n",
       "      <td>1244183751820742700</td>\n",
       "      <td>934431504</td>\n",
       "    </tr>\n",
       "    <tr>\n",
       "      <th>3452</th>\n",
       "      <td>1244521027285045200</td>\n",
       "      <td>52662462</td>\n",
       "    </tr>\n",
       "    <tr>\n",
       "      <th>3453</th>\n",
       "      <td>1244545235130220500</td>\n",
       "      <td>146872603</td>\n",
       "    </tr>\n",
       "  </tbody>\n",
       "</table>\n",
       "<p>3454 rows × 2 columns</p>\n",
       "</div>"
      ],
      "text/plain": [
       "                    start             user_id\n",
       "0     1131185677230575600  824207173425262600\n",
       "1     1131215415164702700           123663454\n",
       "2     1131260934087991300           267418667\n",
       "3     1131277493674156000          2186639444\n",
       "4     1131281689051828200  977096243204804600\n",
       "...                   ...                 ...\n",
       "3449  1243899605483323400            66617261\n",
       "3450  1243920892272562200           187541638\n",
       "3451  1244183751820742700           934431504\n",
       "3452  1244521027285045200            52662462\n",
       "3453  1244545235130220500           146872603\n",
       "\n",
       "[3454 rows x 2 columns]"
      ]
     },
     "execution_count": 12,
     "metadata": {},
     "output_type": "execute_result"
    }
   ],
   "source": [
    "unfiltered_a_q = \"\"\"\n",
    "SELECT DISTINCT(id) as 'start', user as 'user_id'\n",
    "FROM tweets\n",
    "WHERE tweets.user != 56377143 AND tweets.id IN ({0}) AND tweets.in_reply_to_user_id = 'null' \n",
    "AND id IN (SELECT DISTINCT(in_reply_to_status_id) FROM tweets WHERE user = 56377143 AND in_reply_to_status_id != 'null')\n",
    "\"\"\".format(','.join([str(x) for x in air_count['KLM']['ids']]))\n",
    "\n",
    "unfiltered_a = pd.read_sql_query(unfiltered_a_q, db)\n",
    "unfiltered_a"
   ]
  },
  {
   "cell_type": "markdown",
   "metadata": {},
   "source": [
    "We have to filter these tweets to those that end in a ABA structured converstion "
   ]
  },
  {
   "cell_type": "markdown",
   "metadata": {},
   "source": [
    "   - going backwards from the third (A) tweet to klm's reply (B) "
   ]
  },
  {
   "cell_type": "code",
   "execution_count": 13,
   "metadata": {
    "scrolled": false
   },
   "outputs": [
    {
     "data": {
      "text/html": [
       "<div>\n",
       "<style scoped>\n",
       "    .dataframe tbody tr th:only-of-type {\n",
       "        vertical-align: middle;\n",
       "    }\n",
       "\n",
       "    .dataframe tbody tr th {\n",
       "        vertical-align: top;\n",
       "    }\n",
       "\n",
       "    .dataframe thead th {\n",
       "        text-align: right;\n",
       "    }\n",
       "</style>\n",
       "<table border=\"1\" class=\"dataframe\">\n",
       "  <thead>\n",
       "    <tr style=\"text-align: right;\">\n",
       "      <th></th>\n",
       "      <th>change</th>\n",
       "      <th>user_id</th>\n",
       "      <th>klms reply</th>\n",
       "    </tr>\n",
       "  </thead>\n",
       "  <tbody>\n",
       "    <tr>\n",
       "      <th>0</th>\n",
       "      <td>1131190988561629200</td>\n",
       "      <td>824207173425262600</td>\n",
       "      <td>1131188287803142100</td>\n",
       "    </tr>\n",
       "    <tr>\n",
       "      <th>1</th>\n",
       "      <td>1131191297312723000</td>\n",
       "      <td>824207173425262600</td>\n",
       "      <td>1131188287803142100</td>\n",
       "    </tr>\n",
       "    <tr>\n",
       "      <th>2</th>\n",
       "      <td>1131283711679508500</td>\n",
       "      <td>2186639444</td>\n",
       "      <td>1131282681692610600</td>\n",
       "    </tr>\n",
       "    <tr>\n",
       "      <th>3</th>\n",
       "      <td>1131283955230105600</td>\n",
       "      <td>977096243204804600</td>\n",
       "      <td>1131283320266993700</td>\n",
       "    </tr>\n",
       "    <tr>\n",
       "      <th>4</th>\n",
       "      <td>1131503882079809500</td>\n",
       "      <td>146872603</td>\n",
       "      <td>1131502675101659100</td>\n",
       "    </tr>\n",
       "    <tr>\n",
       "      <th>...</th>\n",
       "      <td>...</td>\n",
       "      <td>...</td>\n",
       "      <td>...</td>\n",
       "    </tr>\n",
       "    <tr>\n",
       "      <th>770</th>\n",
       "      <td>1243722308457361400</td>\n",
       "      <td>73875631</td>\n",
       "      <td>1243715503677415400</td>\n",
       "    </tr>\n",
       "    <tr>\n",
       "      <th>771</th>\n",
       "      <td>1244351715790459000</td>\n",
       "      <td>1935225229</td>\n",
       "      <td>1243766315908837400</td>\n",
       "    </tr>\n",
       "    <tr>\n",
       "      <th>772</th>\n",
       "      <td>1244550930365927400</td>\n",
       "      <td>146872603</td>\n",
       "      <td>1244550301018992600</td>\n",
       "    </tr>\n",
       "    <tr>\n",
       "      <th>773</th>\n",
       "      <td>1244559335902118000</td>\n",
       "      <td>146872603</td>\n",
       "      <td>1244550301018992600</td>\n",
       "    </tr>\n",
       "    <tr>\n",
       "      <th>774</th>\n",
       "      <td>1244681370061987800</td>\n",
       "      <td>40791505</td>\n",
       "      <td>1244679294036652000</td>\n",
       "    </tr>\n",
       "  </tbody>\n",
       "</table>\n",
       "<p>775 rows × 3 columns</p>\n",
       "</div>"
      ],
      "text/plain": [
       "                  change             user_id           klms reply\n",
       "0    1131190988561629200  824207173425262600  1131188287803142100\n",
       "1    1131191297312723000  824207173425262600  1131188287803142100\n",
       "2    1131283711679508500          2186639444  1131282681692610600\n",
       "3    1131283955230105600  977096243204804600  1131283320266993700\n",
       "4    1131503882079809500           146872603  1131502675101659100\n",
       "..                   ...                 ...                  ...\n",
       "770  1243722308457361400            73875631  1243715503677415400\n",
       "771  1244351715790459000          1935225229  1243766315908837400\n",
       "772  1244550930365927400           146872603  1244550301018992600\n",
       "773  1244559335902118000           146872603  1244550301018992600\n",
       "774  1244681370061987800            40791505  1244679294036652000\n",
       "\n",
       "[775 rows x 3 columns]"
      ]
     },
     "execution_count": 13,
     "metadata": {},
     "output_type": "execute_result"
    }
   ],
   "source": [
    "b_tweets_id = \"\"\"(SELECT DISTINCT(id) FROM tweets WHERE tweets.user = 56377143 AND in_reply_to_status_id IN ({0}))\"\"\".format( ','.join([str(x) for x in unfiltered_a['start']]))\n",
    "b_tweets_in_reply_user = \"\"\"(SELECT DISTINCT(in_reply_to_user_id) FROM tweets WHERE tweets.user = 56377143 AND in_reply_to_status_id IN ({0}))\"\"\".format( ','.join([str(x) for x in unfiltered_a['start']]))\n",
    "a_tweets = \"\"\"(SELECT DISTINCT(in_reply_to_status_id) FROM tweets WHERE tweets.user = 56377143 AND in_reply_to_status_id IN ({0}))\"\"\".format( ','.join([str(x) for x in unfiltered_a['start']]))\n",
    "backward_a_b_q = \"\"\"\n",
    "SELECT DISTINCT(id) as 'change', user as 'user_id', in_reply_to_status_id as 'klms reply'\n",
    "FROM tweets\n",
    "WHERE tweets.user != 56377143 AND tweets.id IN ({0}) AND tweets.user IN {1}\n",
    "AND tweets.in_reply_to_status_id IN {2}\n",
    "\"\"\".format(','.join([str(x) for x in air_count['KLM']['ids']]), b_tweets_in_reply_user, b_tweets_id)\n",
    "backward_a_b = pd.read_sql_query(backward_a_b_q, db)\n",
    "backward_a_b"
   ]
  },
  {
   "cell_type": "markdown",
   "metadata": {},
   "source": [
    "- first (A) tweets from users that ended in a conversation"
   ]
  },
  {
   "cell_type": "code",
   "execution_count": 14,
   "metadata": {},
   "outputs": [
    {
     "data": {
      "text/html": [
       "<div>\n",
       "<style scoped>\n",
       "    .dataframe tbody tr th:only-of-type {\n",
       "        vertical-align: middle;\n",
       "    }\n",
       "\n",
       "    .dataframe tbody tr th {\n",
       "        vertical-align: top;\n",
       "    }\n",
       "\n",
       "    .dataframe thead th {\n",
       "        text-align: right;\n",
       "    }\n",
       "</style>\n",
       "<table border=\"1\" class=\"dataframe\">\n",
       "  <thead>\n",
       "    <tr style=\"text-align: right;\">\n",
       "      <th></th>\n",
       "      <th>start</th>\n",
       "    </tr>\n",
       "  </thead>\n",
       "  <tbody>\n",
       "    <tr>\n",
       "      <th>0</th>\n",
       "      <td>1131185677230575600</td>\n",
       "    </tr>\n",
       "    <tr>\n",
       "      <th>1</th>\n",
       "      <td>1131277493674156000</td>\n",
       "    </tr>\n",
       "    <tr>\n",
       "      <th>2</th>\n",
       "      <td>1131277493674156000</td>\n",
       "    </tr>\n",
       "    <tr>\n",
       "      <th>3</th>\n",
       "      <td>1131281689051828200</td>\n",
       "    </tr>\n",
       "    <tr>\n",
       "      <th>4</th>\n",
       "      <td>1131281689051828200</td>\n",
       "    </tr>\n",
       "    <tr>\n",
       "      <th>...</th>\n",
       "      <td>...</td>\n",
       "    </tr>\n",
       "    <tr>\n",
       "      <th>719</th>\n",
       "      <td>1243172327854047200</td>\n",
       "    </tr>\n",
       "    <tr>\n",
       "      <th>720</th>\n",
       "      <td>1243702683564834800</td>\n",
       "    </tr>\n",
       "    <tr>\n",
       "      <th>721</th>\n",
       "      <td>1241403462379884500</td>\n",
       "    </tr>\n",
       "    <tr>\n",
       "      <th>722</th>\n",
       "      <td>1244545235130220500</td>\n",
       "    </tr>\n",
       "    <tr>\n",
       "      <th>723</th>\n",
       "      <td>1243746434626846700</td>\n",
       "    </tr>\n",
       "  </tbody>\n",
       "</table>\n",
       "<p>724 rows × 1 columns</p>\n",
       "</div>"
      ],
      "text/plain": [
       "                   start\n",
       "0    1131185677230575600\n",
       "1    1131277493674156000\n",
       "2    1131277493674156000\n",
       "3    1131281689051828200\n",
       "4    1131281689051828200\n",
       "..                   ...\n",
       "719  1243172327854047200\n",
       "720  1243702683564834800\n",
       "721  1241403462379884500\n",
       "722  1244545235130220500\n",
       "723  1243746434626846700\n",
       "\n",
       "[724 rows x 1 columns]"
      ]
     },
     "execution_count": 14,
     "metadata": {},
     "output_type": "execute_result"
    }
   ],
   "source": [
    "a_tweets_q = \"\"\"\n",
    "SELECT in_reply_to_status_id as 'start'\n",
    "FROM tweets\n",
    "WHERE id IN ({0})\n",
    "\"\"\".format(','.join([str(x) for x in backward_a_b['klms reply']]))\n",
    "a_tweets = pd.read_sql_query(a_tweets_q, db)\n",
    "a_tweets"
   ]
  },
  {
   "cell_type": "markdown",
   "metadata": {},
   "source": [
    "# Sentiment change on conversations"
   ]
  },
  {
   "cell_type": "code",
   "execution_count": 17,
   "metadata": {},
   "outputs": [],
   "source": [
    "import numpy as np\n",
    "import re\n",
    "from textblob import TextBlob\n",
    "from wordcloud import WordCloud, STOPWORDS \n",
    "import matplotlib.pyplot as plt \n",
    "#from emoji_unicode import UNICODE_EMO\n",
    "import nltk\n",
    "from nltk.tokenize import word_tokenize\n",
    "from nltk.tokenize import sent_tokenize\n",
    "from nltk.corpus import stopwords\n",
    "from nltk.text import Text\n",
    "import string, re\n",
    "from textblob_nl.nl import sentiment as pattern_sentiment\n",
    "from textblob.classifiers import NaiveBayesClassifier\n",
    "from textblob.sentiments import NaiveBayesAnalyzer\n",
    "pd.set_option('max_colwidth', 1000)\n",
    "import seaborn as sns\n",
    "import matplotlib.pyplot as plt\n",
    "import pymongo\n",
    "from pymongo import MongoClient"
   ]
  },
  {
   "cell_type": "code",
   "execution_count": 18,
   "metadata": {},
   "outputs": [],
   "source": [
    "client = MongoClient('localhost', 27017)\n",
    "mydb = client.tweet\n",
    "convos = mydb['convos']\n",
    "tweets = mydb['_tweets']"
   ]
  },
  {
   "cell_type": "code",
   "execution_count": 19,
   "metadata": {},
   "outputs": [],
   "source": [
    "klm_df = pd.DataFrame()\n",
    "klm_df['tweet'] = [t['text'] for t in tweets.find({}) if 'KLM' in t['text'] if t['language']=='eng']\n",
    "klm_df['id'] = [t['id'] for t in tweets.find({}) if 'KLM' in t['text'] if t['language']=='eng']\n",
    "klm_df['user_id'] = [t['user']['id'] for t in tweets.find({}) if 'KLM' in t['text'] if t['language']=='eng']\n",
    "klm_df['timestamp'] = [t['timestamp_ms'] for t in tweets.find({}) if 'KLM' in t['text'] if t['language']=='eng']"
   ]
  },
  {
   "cell_type": "code",
   "execution_count": 153,
   "metadata": {
    "scrolled": true
   },
   "outputs": [],
   "source": [
    "#klm_df"
   ]
  },
  {
   "cell_type": "markdown",
   "metadata": {},
   "source": [
    "#### First-A tweets dataframe"
   ]
  },
  {
   "cell_type": "code",
   "execution_count": 21,
   "metadata": {},
   "outputs": [
    {
     "data": {
      "text/plain": [
       "478"
      ]
     },
     "execution_count": 21,
     "metadata": {},
     "output_type": "execute_result"
    }
   ],
   "source": [
    "id_list = []\n",
    "for i in a_tweets['start']:\n",
    "    for j in klm_df['id']:\n",
    "        if j == i:\n",
    "            id_list.append(j)\n",
    "len(id_list)"
   ]
  },
  {
   "cell_type": "code",
   "execution_count": 37,
   "metadata": {},
   "outputs": [],
   "source": [
    "c_df = pd.DataFrame()\n",
    "c_df['tweet'] = [t['text'] for t in tweets.find({}) for i in id_list if i == t['id'] if t['language']=='eng']\n",
    "c_df['id'] = [t['id'] for t in tweets.find({}) for i in id_list if i == t['id'] if t['language']=='eng']\n",
    "c_df['user_id'] = [t['user']['id'] for t in tweets.find({}) for i in id_list if i == t['id'] if t['language']=='eng']\n",
    "c_df['timestamp'] = [t['timestamp_ms'] for t in tweets.find({}) for i in id_list if i == t['id'] if t['language']=='eng']"
   ]
  },
  {
   "cell_type": "code",
   "execution_count": 38,
   "metadata": {
    "scrolled": true
   },
   "outputs": [],
   "source": [
    "#c_df"
   ]
  },
  {
   "cell_type": "code",
   "execution_count": 39,
   "metadata": {},
   "outputs": [],
   "source": [
    "c_df.drop_duplicates(inplace=True)\n",
    "#c_df #443"
   ]
  },
  {
   "cell_type": "code",
   "execution_count": 40,
   "metadata": {},
   "outputs": [],
   "source": [
    "#function which cleans the text \n",
    "def cleantxt(text):\n",
    "    text = text.lower()\n",
    "    text = re.sub('airline', '', text)\n",
    "    text = re.sub('travel', '', text)\n",
    "    text = re.sub('airways', '', text)\n",
    "    text = re.sub('amp', '', text)\n",
    "    text = re.sub('amsterdam', '', text)\n",
    "    text = re.sub('people', '', text)\n",
    "    text = re.sub('flight', '', text)\n",
    "    text = re.sub('\\[.*?\\]', '', text) \n",
    "    text = re.sub(r'@[A-Za-z0-9]+', '', text) \n",
    "    text = re.sub(r'https?:\\/\\/\\S+', '', text) \n",
    "    text = re.sub(r'RT[\\s]+', '', text) \n",
    "    text = re.sub(r'#[A-Za-z0-9]+', '', text)  \n",
    "    text = re.sub('[%s]' % re.escape(string.punctuation), '', text)\n",
    "    text = re.sub('\\w*\\d\\w*', '', text)\n",
    "    text = re.sub('\\n', '', text)\n",
    "    #for emot in UNICODE_EMO:\n",
    "    #    text = re.sub(r'('+emot+')', \"_\".join(UNICODE_EMO[emot].replace(\",\",\"\").replace(\":\",\"\").split()), text)\n",
    "    return text"
   ]
  },
  {
   "cell_type": "code",
   "execution_count": 41,
   "metadata": {
    "scrolled": true
   },
   "outputs": [],
   "source": [
    "c_df['tweet'] = c_df['tweet'].apply(cleantxt)\n",
    "#c_df[['tweet']]"
   ]
  },
  {
   "cell_type": "code",
   "execution_count": 42,
   "metadata": {
    "scrolled": true
   },
   "outputs": [],
   "source": [
    "from collections import Counter\n",
    "cnt = Counter()\n",
    "for text in c_df[\"tweet\"].values:\n",
    "    for word in text.split():\n",
    "        cnt[word] += 1\n",
    "        \n",
    "#cnt.most_common(20)"
   ]
  },
  {
   "cell_type": "code",
   "execution_count": 43,
   "metadata": {},
   "outputs": [],
   "source": [
    "FREQWORDS = set([w for (w, wc) in cnt.most_common(40)])\n",
    "def remove_freqwords(text):\n",
    "    \"\"\"custom function to remove the frequent words\"\"\"\n",
    "    return \" \".join([word for word in str(text).split() if word not in FREQWORDS])\n",
    "\n",
    "c_df['tweet'] = c_df['tweet'].apply(remove_freqwords)\n",
    "#_df[['tweet']].head()"
   ]
  },
  {
   "cell_type": "code",
   "execution_count": 259,
   "metadata": {},
   "outputs": [],
   "source": [
    "#removing emojis\n",
    "def deEmojify(inputString):\n",
    "    return inputString.encode('ascii', 'ignore').decode('ascii')\n",
    "\n",
    "c_df['tweet'] = c_df['tweet'].apply(deEmojify)"
   ]
  },
  {
   "cell_type": "code",
   "execution_count": 260,
   "metadata": {},
   "outputs": [],
   "source": [
    "def getPolarity(text):\n",
    "    return TextBlob(text).sentiment.polarity\n",
    "\n",
    "def getSubjectivity(text):\n",
    "    return TextBlob(text).sentiment.subjectivity"
   ]
  },
  {
   "cell_type": "code",
   "execution_count": 261,
   "metadata": {},
   "outputs": [],
   "source": [
    "def getAnalysis(score):\n",
    "    if score < 0:\n",
    "        return 'negative'\n",
    "    elif score == 0:\n",
    "        return 'neutral'\n",
    "    else:\n",
    "        return 'positive'"
   ]
  },
  {
   "cell_type": "code",
   "execution_count": 262,
   "metadata": {},
   "outputs": [],
   "source": [
    "c_df['polarity'] = c_df['tweet'].apply(getPolarity)\n",
    "c_df['subjectivity'] = c_df['tweet'].apply(getSubjectivity)\n",
    "c_df['analysis'] = c_df['polarity'].apply(getAnalysis)"
   ]
  },
  {
   "cell_type": "code",
   "execution_count": 263,
   "metadata": {
    "scrolled": true
   },
   "outputs": [],
   "source": [
    "#c_df"
   ]
  },
  {
   "cell_type": "code",
   "execution_count": 264,
   "metadata": {},
   "outputs": [
    {
     "data": {
      "text/plain": [
       "count    443.000000\n",
       "mean       0.038061\n",
       "std        0.270283\n",
       "min       -1.000000\n",
       "25%       -0.080556\n",
       "50%        0.021429\n",
       "75%        0.200000\n",
       "max        0.800000\n",
       "Name: polarity, dtype: float64"
      ]
     },
     "execution_count": 264,
     "metadata": {},
     "output_type": "execute_result"
    }
   ],
   "source": [
    "c_df['polarity'].describe() # mean sentiment is 0.03"
   ]
  },
  {
   "cell_type": "markdown",
   "metadata": {},
   "source": [
    "#### Second-A tweets dataframe "
   ]
  },
  {
   "cell_type": "code",
   "execution_count": 265,
   "metadata": {},
   "outputs": [
    {
     "data": {
      "text/plain": [
       "486"
      ]
     },
     "execution_count": 265,
     "metadata": {},
     "output_type": "execute_result"
    }
   ],
   "source": [
    "id_list2 = []\n",
    "for i in backward_a_b['change']:\n",
    "    for j in klm_df['id']:\n",
    "        if j == i:\n",
    "            id_list2.append(j)\n",
    "len(id_list2)"
   ]
  },
  {
   "cell_type": "code",
   "execution_count": 50,
   "metadata": {},
   "outputs": [],
   "source": [
    "c_df2 = pd.DataFrame()\n",
    "c_df2['tweet'] = [t['text'] for t in tweets.find({}) for i in id_list2 if i == t['id'] if t['language']=='eng']\n",
    "c_df2['id'] = [t['id'] for t in tweets.find({}) for i in id_list2 if i == t['id'] if t['language']=='eng']\n",
    "c_df2['user_id'] = [t['user']['id'] for t in tweets.find({}) for i in id_list2 if i == t['id'] if t['language']=='eng']\n",
    "c_df2['timestamp'] = [t['timestamp_ms'] for t in tweets.find({}) for i in id_list2 if i == t['id'] if t['language']=='eng']"
   ]
  },
  {
   "cell_type": "code",
   "execution_count": 51,
   "metadata": {
    "scrolled": true
   },
   "outputs": [],
   "source": [
    "c_df2.drop_duplicates(inplace=True)\n",
    "#c_df2"
   ]
  },
  {
   "cell_type": "code",
   "execution_count": 52,
   "metadata": {
    "scrolled": true
   },
   "outputs": [],
   "source": [
    "c_df2['tweet'] = c_df2['tweet'].apply(cleantxt)\n",
    "#c_df2[['tweet']]"
   ]
  },
  {
   "cell_type": "code",
   "execution_count": 53,
   "metadata": {
    "scrolled": true
   },
   "outputs": [],
   "source": [
    "from collections import Counter\n",
    "cnt = Counter()\n",
    "for text in c_df2[\"tweet\"].values:\n",
    "    for word in text.split():\n",
    "        cnt[word] += 1\n",
    "        \n",
    "#cnt.most_common(40)"
   ]
  },
  {
   "cell_type": "code",
   "execution_count": 54,
   "metadata": {},
   "outputs": [],
   "source": [
    "FREQWORDS = set([w for (w, wc) in cnt.most_common(40)])\n",
    "def remove_freqwords(text):\n",
    "    \"\"\"custom function to remove the frequent words\"\"\"\n",
    "    return \" \".join([word for word in str(text).split() if word not in FREQWORDS])\n",
    "\n",
    "c_df2['tweet'] = c_df2['tweet'].apply(remove_freqwords)\n",
    "#c_df2[['tweet']].head()"
   ]
  },
  {
   "cell_type": "code",
   "execution_count": 266,
   "metadata": {},
   "outputs": [],
   "source": [
    "def deEmojify(inputString):\n",
    "    return inputString.encode('ascii', 'ignore').decode('ascii')\n",
    "\n",
    "c_df2['tweet'] = c_df2['tweet'].apply(deEmojify)"
   ]
  },
  {
   "cell_type": "code",
   "execution_count": 267,
   "metadata": {},
   "outputs": [],
   "source": [
    "c_df2['polarity'] = c_df2['tweet'].apply(getPolarity)\n",
    "c_df2['subjectivity'] = c_df2['tweet'].apply(getSubjectivity)\n",
    "c_df2['analysis'] = c_df2['polarity'].apply(getAnalysis)"
   ]
  },
  {
   "cell_type": "code",
   "execution_count": 268,
   "metadata": {},
   "outputs": [
    {
     "data": {
      "text/plain": [
       "count    486.000000\n",
       "mean       0.086636\n",
       "std        0.240292\n",
       "min       -1.000000\n",
       "25%       -0.012798\n",
       "50%        0.066667\n",
       "75%        0.216406\n",
       "max        0.900000\n",
       "Name: polarity, dtype: float64"
      ]
     },
     "execution_count": 268,
     "metadata": {},
     "output_type": "execute_result"
    }
   ],
   "source": [
    "c_df2['polarity'].describe() # mean sentiment is 0.08"
   ]
  },
  {
   "cell_type": "markdown",
   "metadata": {},
   "source": [
    "* Since TextBlob isnt so accurate decided to use Naive Bayes Classifier again"
   ]
  },
  {
   "cell_type": "code",
   "execution_count": 269,
   "metadata": {},
   "outputs": [
    {
     "data": {
      "text/plain": [
       "0.8947368421052632"
      ]
     },
     "execution_count": 269,
     "metadata": {},
     "output_type": "execute_result"
    }
   ],
   "source": [
    "train = [\n",
    "    ('i wish the food service was better', 'neg'),\n",
    "    ('Great costumer service!', 'pos'),\n",
    "    ('I am happy with the flight and service', 'pos'),\n",
    "    ('glad I chose this airline', 'pos'),\n",
    "    ('fucking costumer service is so bad', 'neg'),\n",
    "    ('The flight was late, I am not happy with this', 'neg'),\n",
    "    ('I will never fly with this airline again', 'neg'),\n",
    "    ('Airline sucks at organization, total nightmare', 'neg'),\n",
    "    ('Staff was very helpful, very nice', 'pos'),\n",
    "    ('great to see such developments!', 'pos'),\n",
    "    ('Today was my last trip outside schengen with klm / amsterdam is the worst airport for international connecting flights', 'neg'),\n",
    "    ('I like flying with this airline!', 'pos'),\n",
    "    ('its not helping me at all. Companies too big to solve real problems', 'neg'),\n",
    "    ('your staff seemingly unaware', 'neg'),\n",
    "    ('Thank you. But thats not enough. If my flight is delayed more than 3 hours, you must advise Im entitled to assistance AND compensation. Not just say download the brochure.', 'neg'),\n",
    "    ('worst experience in my life,', 'neg'),\n",
    "    ('last minute flight cancellation, very dissapointed', 'neg'),\n",
    "    ('great job at cancelling our flight again!', 'neg'), #sarcasm\n",
    "    ('you have truly excelled yourself in providing the worst customer service ever', 'neg'), #sarcasm\n",
    "    ('the food on this airplane was delicious', 'pos'),\n",
    "    ('delighted with the costumer service here', 'pos'),\n",
    "    ('the money was refunded quite fast, thanks', 'pos'),\n",
    "    ('i lost my bag/luggage, but the flight attendants helped me, thank you', 'pos'),\n",
    "    ('i was disappointed because noone helped me find my luggage/bag', 'neg'),\n",
    "    ('the flight was very pleasant and fast', 'pos'),\n",
    "    ('very slow check-in', 'neg'),\n",
    "    ('the food was bad, maybe u should fix that', 'neg'),\n",
    "    ('im trying reserve seat upcoming every time give technical error site invite contact resolve help please', 'neg'),\n",
    "    ('very uncomfortable seats, my back hurts', 'neg'),\n",
    "    ('the flight was delayed AGAIN, so typical of them', 'neg'),\n",
    "    ('great work take a suit carrier off me and then have me waste a full hour waiting on your incompetent services', 'neg'),\n",
    "    ('we appreciate customer service representative who agreed to change tickets and emailed us', 'pos'),\n",
    "    ('we havent got a reply from you yet, its been so long', 'neg'),\n",
    "    ('thanks got email saying cancelled but it wont change anything since youre confirming its still scheduled', 'neg'),\n",
    "    ('tickets all sorted out all five them many thanx taking time going extra mile even make international call ensure family fly time rock','pos'),\n",
    "    ('talked to the service team, issue has been corrected', 'pos'),\n",
    "    ('i lost bags, emailed you guys but heard nothing. it is unacceptable', 'neg'),\n",
    "    ('it’s outrageous','neg')\n",
    "]\n",
    "\n",
    "test = [\n",
    "    ('I wish the food on the plane was better, disgusting', 'neg'),\n",
    "    ('the check-in was very slow', 'neg'),\n",
    "    ('i wish the check in was faster', 'neg'),\n",
    "    ('delightful with the costumer service!', 'pos'),\n",
    "    ('the flight was fast and steady', 'pos'),\n",
    "    ('fucking costumer service sucks', 'neg'),\n",
    "    ('it took so long to get my money refunded, maybe you can fix that', 'neg'),\n",
    "    ('good job at cancelling the flight', 'neg'), #sarcasm\n",
    "    ('no one from this agency helped me find my bag', 'neg'),\n",
    "    ('flight attendant helped me with finding my bag, thank you', 'pos'),\n",
    "    ('helpful staff, glad i chose this airline', 'pos'),\n",
    "    ('im having technical issues in the site, help please', 'neg'),\n",
    "    ('me and my family are happy with your service', 'pos'),\n",
    "    ('the seats were very uncomfortable,', 'neg'),\n",
    "    ('no space for my legs','neg'),\n",
    "    ('2/10 experience, people were treated badly', 'neg'),\n",
    "    ('your reply didnt help me at all', 'neg'),\n",
    "    ('thank you for replying, that helped a lot', 'pos'),\n",
    "    ('i hope you actually reply to me this time, i have a big problem', 'neg')\n",
    "]\n",
    "\n",
    "cl = NaiveBayesClassifier(train)\n",
    "cl.accuracy(test)"
   ]
  },
  {
   "cell_type": "code",
   "execution_count": 272,
   "metadata": {},
   "outputs": [],
   "source": [
    "def classify(text):\n",
    "    prob_dist = cl.prob_classify(text)\n",
    "    return prob_dist.max()"
   ]
  },
  {
   "cell_type": "code",
   "execution_count": 273,
   "metadata": {},
   "outputs": [],
   "source": [
    "c_df['class'] = c_df['tweet'].apply(classify)"
   ]
  },
  {
   "cell_type": "code",
   "execution_count": 274,
   "metadata": {},
   "outputs": [],
   "source": [
    "#c_df.head()"
   ]
  },
  {
   "cell_type": "code",
   "execution_count": 275,
   "metadata": {},
   "outputs": [],
   "source": [
    "c_df2['class'] = c_df2['tweet'].apply(classify)"
   ]
  },
  {
   "cell_type": "code",
   "execution_count": 276,
   "metadata": {
    "scrolled": true
   },
   "outputs": [],
   "source": [
    "#c_df2.tail(35)"
   ]
  },
  {
   "cell_type": "markdown",
   "metadata": {},
   "source": [
    "KLM sentiment after conversation"
   ]
  },
  {
   "cell_type": "code",
   "execution_count": 277,
   "metadata": {},
   "outputs": [
    {
     "data": {
      "image/png": "[encoded data removed]",
      "text/plain": [
       "<Figure size 432x288 with 1 Axes>"
      ]
     },
     "metadata": {
      "needs_background": "light"
     },
     "output_type": "display_data"
    }
   ],
   "source": [
    "count=c_df['class'].value_counts()/len(c_df['tweet'])*100\n",
    "Index = [1,2]\n",
    "colorsi = [\"red\", \"windows blue\"]\n",
    "plt.bar(Index, count, color=sns.xkcd_palette(colorsi))\n",
    "plt.xticks(Index,['negative','positive'])\n",
    "plt.ylabel('Percentage (%)')\n",
    "plt.xlabel('Mood')\n",
    "plt.title('Pos/neg difference of first-A tweets');"
   ]
  },
  {
   "cell_type": "code",
   "execution_count": 311,
   "metadata": {},
   "outputs": [
    {
     "data": {
      "image/png": "[encoded data removed]",
      "text/plain": [
       "<Figure size 432x288 with 1 Axes>"
      ]
     },
     "metadata": {
      "needs_background": "light"
     },
     "output_type": "display_data"
    }
   ],
   "source": [
    "count=c_df2['class'].value_counts()/len(c_df2['tweet'])*100\n",
    "Index = [1,2]\n",
    "colorsi = [\"red\", \"windows blue\"]\n",
    "plt.bar(Index, count, color=sns.xkcd_palette(colorsi))\n",
    "plt.xticks(Index,['negative','positive'])\n",
    "plt.ylabel('Percentage (%)')\n",
    "plt.xlabel('Mood')\n",
    "plt.title('Pos/neg difference of second-A tweets');"
   ]
  },
  {
   "cell_type": "markdown",
   "metadata": {},
   "source": [
    "- KLM has 443 First-A's (received tweets) and 486 Second-A's (replies to KLM's reply to the first-A)                           \n",
    "- Majority is complaints (negative tweets) from both first-A and second-A\n",
    "\n",
    "- Second-A tweets are basically people complaining about the response time or them expanding on what their initial problem was"
   ]
  },
  {
   "cell_type": "code",
   "execution_count": 312,
   "metadata": {},
   "outputs": [
    {
     "data": {
      "text/plain": [
       "neg    378\n",
       "pos    108\n",
       "Name: class, dtype: int64"
      ]
     },
     "execution_count": 312,
     "metadata": {},
     "output_type": "execute_result"
    }
   ],
   "source": [
    "c_df2['class'].value_counts()"
   ]
  },
  {
   "cell_type": "code",
   "execution_count": 313,
   "metadata": {},
   "outputs": [
    {
     "data": {
      "text/plain": [
       "neg    367\n",
       "pos     76\n",
       "Name: class, dtype: int64"
      ]
     },
     "execution_count": 313,
     "metadata": {},
     "output_type": "execute_result"
    }
   ],
   "source": [
    "c_df['class'].value_counts()"
   ]
  },
  {
   "cell_type": "markdown",
   "metadata": {},
   "source": [
    "* Getting A-B-A convos from British Airways - 18332190 and Singapore Air - 253340062 (for comparison)"
   ]
  },
  {
   "cell_type": "code",
   "execution_count": 72,
   "metadata": {
    "scrolled": true
   },
   "outputs": [],
   "source": [
    "unfiltered_a_q_brit = \"\"\"\n",
    "SELECT DISTINCT(id) as 'start', user as 'user_id'\n",
    "FROM tweets\n",
    "WHERE tweets.user != 18332190 AND tweets.id IN ({0}) AND tweets.in_reply_to_user_id = 'null' \n",
    "AND id IN (SELECT DISTINCT(in_reply_to_status_id) FROM tweets WHERE user = 18332190 AND in_reply_to_status_id != 'null')\n",
    "\"\"\".format(','.join([str(x) for x in air_count['British_Airways']['ids']]))\n",
    "\n",
    "unfiltered_a_brit = pd.read_sql_query(unfiltered_a_q_brit, db)\n",
    "#unfiltered_a_brit"
   ]
  },
  {
   "cell_type": "code",
   "execution_count": 73,
   "metadata": {
    "scrolled": true
   },
   "outputs": [],
   "source": [
    "b_tweets_id_brit = \"\"\"(SELECT DISTINCT(id) FROM tweets WHERE tweets.user = 18332190 AND in_reply_to_status_id IN ({0}))\"\"\".format( ','.join([str(x) for x in unfiltered_a_brit['start']]))\n",
    "b_tweets_in_reply_user_brit = \"\"\"(SELECT DISTINCT(in_reply_to_user_id) FROM tweets WHERE tweets.user = 18332190 AND in_reply_to_status_id IN ({0}))\"\"\".format( ','.join([str(x) for x in unfiltered_a_brit['start']]))\n",
    "a_tweets_brit = \"\"\"(SELECT DISTINCT(in_reply_to_status_id) FROM tweets WHERE tweets.user = 18332190 AND in_reply_to_status_id IN ({0}))\"\"\".format( ','.join([str(x) for x in unfiltered_a_brit['start']]))\n",
    "backward_a_b_q_brit = \"\"\"\n",
    "SELECT DISTINCT(id) as 'change', user as 'user_id', in_reply_to_status_id as 'brits reply'\n",
    "FROM tweets\n",
    "WHERE tweets.user != 18332190 AND tweets.id IN ({0}) AND tweets.user IN {1}\n",
    "AND tweets.in_reply_to_status_id IN {2}\n",
    "\"\"\".format(','.join([str(x) for x in air_count['British_Airways']['ids']]), b_tweets_in_reply_user_brit, b_tweets_id_brit)\n",
    "backward_a_b_brit = pd.read_sql_query(backward_a_b_q_brit, db)\n",
    "#backward_a_b_brit"
   ]
  },
  {
   "cell_type": "code",
   "execution_count": 74,
   "metadata": {
    "scrolled": true
   },
   "outputs": [],
   "source": [
    "a_tweets_q_brit = \"\"\"\n",
    "SELECT in_reply_to_status_id as 'start'\n",
    "FROM tweets\n",
    "WHERE id IN ({0})\n",
    "\"\"\".format(','.join([str(x) for x in backward_a_b_brit['brits reply']]))\n",
    "a_tweets_brit = pd.read_sql_query(a_tweets_q_brit, db)\n",
    "#a_tweets_brit"
   ]
  },
  {
   "cell_type": "markdown",
   "metadata": {},
   "source": [
    "                                  First-A tweets for brit"
   ]
  },
  {
   "cell_type": "code",
   "execution_count": 75,
   "metadata": {},
   "outputs": [
    {
     "data": {
      "text/plain": [
       "2705"
      ]
     },
     "execution_count": 75,
     "metadata": {},
     "output_type": "execute_result"
    }
   ],
   "source": [
    "brit_id = []\n",
    "for i in a_tweets_brit['start']:\n",
    "    brit_id.append(i)\n",
    "len(brit_id)"
   ]
  },
  {
   "cell_type": "code",
   "execution_count": 76,
   "metadata": {},
   "outputs": [],
   "source": [
    "brit_df = pd.DataFrame()\n",
    "brit_df['tweet'] = [t['text'] for t in tweets.find({}) for i in brit_id if i == t['id'] if t['language']=='eng']\n",
    "brit_df['id'] = [t['id'] for t in tweets.find({}) for i in brit_id if i == t['id'] if t['language']=='eng']\n",
    "brit_df['user_id'] = [t['user']['id'] for t in tweets.find({}) for i in brit_id if i == t['id'] if t['language']=='eng']\n",
    "brit_df['timestamp'] = [t['timestamp_ms'] for t in tweets.find({}) for i in brit_id if i == t['id'] if t['language']=='eng']"
   ]
  },
  {
   "cell_type": "code",
   "execution_count": 77,
   "metadata": {
    "scrolled": true
   },
   "outputs": [],
   "source": [
    "brit_df.drop_duplicates(inplace=True)\n",
    "#brit_df"
   ]
  },
  {
   "cell_type": "code",
   "execution_count": 78,
   "metadata": {},
   "outputs": [],
   "source": [
    "brit_df['tweet'] = brit_df['tweet'].apply(cleantxt)\n",
    "#brit_df[['tweet']]"
   ]
  },
  {
   "cell_type": "code",
   "execution_count": 79,
   "metadata": {},
   "outputs": [],
   "source": [
    "from collections import Counter\n",
    "cnt = Counter()\n",
    "for text in brit_df[\"tweet\"].values:\n",
    "    for word in text.split():\n",
    "        cnt[word] += 1       \n",
    "#cnt.most_common(35)"
   ]
  },
  {
   "cell_type": "code",
   "execution_count": 80,
   "metadata": {},
   "outputs": [],
   "source": [
    "FREQWORDS = set([w for (w, wc) in cnt.most_common(35)])\n",
    "def remove_freqwords(text):\n",
    "    \"\"\"custom function to remove the frequent words\"\"\"\n",
    "    return \" \".join([word for word in str(text).split() if word not in FREQWORDS])\n",
    "\n",
    "brit_df['tweet'] = brit_df['tweet'].apply(remove_freqwords)\n",
    "#brit_df[['tweet']].head()"
   ]
  },
  {
   "cell_type": "code",
   "execution_count": 286,
   "metadata": {},
   "outputs": [],
   "source": [
    "def deEmojify(inputString):\n",
    "    return inputString.encode('ascii', 'ignore').decode('ascii')\n",
    "\n",
    "brit_df['tweet'] = brit_df['tweet'].apply(deEmojify)"
   ]
  },
  {
   "cell_type": "code",
   "execution_count": 287,
   "metadata": {},
   "outputs": [],
   "source": [
    "brit_df['polarity'] = brit_df['tweet'].apply(getPolarity)\n",
    "brit_df['subjectivity'] = brit_df['tweet'].apply(getSubjectivity)\n",
    "brit_df['analysis'] = brit_df['polarity'].apply(getAnalysis)"
   ]
  },
  {
   "cell_type": "code",
   "execution_count": 288,
   "metadata": {},
   "outputs": [],
   "source": [
    "brit_df['class'] = brit_df['tweet'].apply(classify)"
   ]
  },
  {
   "cell_type": "code",
   "execution_count": 289,
   "metadata": {},
   "outputs": [
    {
     "data": {
      "text/plain": [
       "neg    1968\n",
       "pos     547\n",
       "Name: class, dtype: int64"
      ]
     },
     "execution_count": 289,
     "metadata": {},
     "output_type": "execute_result"
    }
   ],
   "source": [
    "brit_df['class'].value_counts()"
   ]
  },
  {
   "cell_type": "markdown",
   "metadata": {},
   "source": [
    "                                         Second-A tweets for brit"
   ]
  },
  {
   "cell_type": "code",
   "execution_count": 83,
   "metadata": {},
   "outputs": [
    {
     "data": {
      "text/plain": [
       "2793"
      ]
     },
     "execution_count": 83,
     "metadata": {},
     "output_type": "execute_result"
    }
   ],
   "source": [
    "brit_id2 = []\n",
    "for i in backward_a_b_brit['change']:\n",
    "    brit_id2.append(i)\n",
    "len(brit_id2)"
   ]
  },
  {
   "cell_type": "code",
   "execution_count": 84,
   "metadata": {},
   "outputs": [],
   "source": [
    "brit_df2 = pd.DataFrame()\n",
    "brit_df2['tweet'] = [t['text'] for t in tweets.find({}) for i in brit_id2 if i == t['id'] if t['language']=='eng']\n",
    "brit_df2['id'] = [t['id'] for t in tweets.find({}) for i in brit_id2 if i == t['id'] if t['language']=='eng']\n",
    "brit_df2['user_id'] = [t['user']['id'] for t in tweets.find({}) for i in brit_id2 if i == t['id'] if t['language']=='eng']\n",
    "brit_df2['timestamp'] = [t['timestamp_ms'] for t in tweets.find({}) for i in brit_id2 if i == t['id'] if t['language']=='eng']"
   ]
  },
  {
   "cell_type": "code",
   "execution_count": 85,
   "metadata": {},
   "outputs": [],
   "source": [
    "brit_df2.drop_duplicates(inplace=True)\n",
    "#brit_df2"
   ]
  },
  {
   "cell_type": "code",
   "execution_count": 86,
   "metadata": {},
   "outputs": [],
   "source": [
    "brit_df2['tweet'] = brit_df2['tweet'].apply(cleantxt)\n",
    "#brit_df[['tweet']]"
   ]
  },
  {
   "cell_type": "code",
   "execution_count": 87,
   "metadata": {},
   "outputs": [],
   "source": [
    "from collections import Counter\n",
    "cnt = Counter()\n",
    "for text in brit_df2[\"tweet\"].values:\n",
    "    for word in text.split():\n",
    "        cnt[word] += 1       \n",
    "#cnt.most_common(35)"
   ]
  },
  {
   "cell_type": "code",
   "execution_count": 88,
   "metadata": {},
   "outputs": [],
   "source": [
    "FREQWORDS = set([w for (w, wc) in cnt.most_common(35)])\n",
    "def remove_freqwords(text):\n",
    "    \"\"\"custom function to remove the frequent words\"\"\"\n",
    "    return \" \".join([word for word in str(text).split() if word not in FREQWORDS])\n",
    "\n",
    "brit_df2['tweet'] = brit_df2['tweet'].apply(remove_freqwords)\n",
    "#brit_df[['tweet']].head()"
   ]
  },
  {
   "cell_type": "code",
   "execution_count": 290,
   "metadata": {},
   "outputs": [],
   "source": [
    "def deEmojify(inputString):\n",
    "    return inputString.encode('ascii', 'ignore').decode('ascii')\n",
    "\n",
    "brit_df2['tweet'] = brit_df2['tweet'].apply(deEmojify)"
   ]
  },
  {
   "cell_type": "code",
   "execution_count": 291,
   "metadata": {},
   "outputs": [],
   "source": [
    "brit_df2['polarity'] = brit_df2['tweet'].apply(getPolarity)\n",
    "brit_df2['subjectivity'] = brit_df2['tweet'].apply(getSubjectivity)\n",
    "brit_df2['analysis'] = brit_df2['polarity'].apply(getAnalysis)"
   ]
  },
  {
   "cell_type": "code",
   "execution_count": 292,
   "metadata": {},
   "outputs": [],
   "source": [
    "brit_df2['class'] = brit_df2['tweet'].apply(classify)"
   ]
  },
  {
   "cell_type": "code",
   "execution_count": 293,
   "metadata": {},
   "outputs": [
    {
     "data": {
      "text/plain": [
       "neg    2235\n",
       "pos     554\n",
       "Name: class, dtype: int64"
      ]
     },
     "execution_count": 293,
     "metadata": {},
     "output_type": "execute_result"
    }
   ],
   "source": [
    "brit_df2['class'].value_counts()"
   ]
  },
  {
   "cell_type": "markdown",
   "metadata": {},
   "source": [
    "                                First-A tweets for singa"
   ]
  },
  {
   "cell_type": "code",
   "execution_count": 93,
   "metadata": {},
   "outputs": [],
   "source": [
    "unfiltered_a_q_singa = \"\"\"\n",
    "SELECT DISTINCT(id) as 'start', user as 'user_id'\n",
    "FROM tweets\n",
    "WHERE tweets.user != 253340062 AND tweets.id IN ({0}) AND tweets.in_reply_to_user_id = 'null' \n",
    "AND id IN (SELECT DISTINCT(in_reply_to_status_id) FROM tweets WHERE user = 253340062 AND in_reply_to_status_id != 'null')\n",
    "\"\"\".format(','.join([str(x) for x in air_count['SingaporeAir']['ids']]))\n",
    "\n",
    "unfiltered_a_singa = pd.read_sql_query(unfiltered_a_q_singa, db)\n",
    "#unfiltered_a_singa"
   ]
  },
  {
   "cell_type": "code",
   "execution_count": 94,
   "metadata": {},
   "outputs": [],
   "source": [
    "b_tweets_id_singa = \"\"\"(SELECT DISTINCT(id) FROM tweets WHERE tweets.user = 253340062 AND in_reply_to_status_id IN ({0}))\"\"\".format( ','.join([str(x) for x in unfiltered_a_singa['start']]))\n",
    "b_tweets_in_reply_user_singa = \"\"\"(SELECT DISTINCT(in_reply_to_user_id) FROM tweets WHERE tweets.user = 253340062 AND in_reply_to_status_id IN ({0}))\"\"\".format( ','.join([str(x) for x in unfiltered_a_singa['start']]))\n",
    "a_tweets_singa = \"\"\"(SELECT DISTINCT(in_reply_to_status_id) FROM tweets WHERE tweets.user = 253340062 AND in_reply_to_status_id IN ({0}))\"\"\".format( ','.join([str(x) for x in unfiltered_a_singa['start']]))\n",
    "backward_a_b_q_singa = \"\"\"\n",
    "SELECT DISTINCT(id) as 'change', user as 'user_id', in_reply_to_status_id as 'singas reply'\n",
    "FROM tweets\n",
    "WHERE tweets.user != 18332190 AND tweets.id IN ({0}) AND tweets.user IN {1}\n",
    "AND tweets.in_reply_to_status_id IN {2}\n",
    "\"\"\".format(','.join([str(x) for x in air_count['SingaporeAir']['ids']]), b_tweets_in_reply_user_singa, b_tweets_id_singa)\n",
    "backward_a_b_singa = pd.read_sql_query(backward_a_b_q_singa, db)\n",
    "#backward_a_b_singa"
   ]
  },
  {
   "cell_type": "code",
   "execution_count": 95,
   "metadata": {},
   "outputs": [],
   "source": [
    "a_tweets_q_singa = \"\"\"\n",
    "SELECT in_reply_to_status_id as 'start'\n",
    "FROM tweets\n",
    "WHERE id IN ({0})\n",
    "\"\"\".format(','.join([str(x) for x in backward_a_b_singa['singas reply']]))\n",
    "a_tweets_singa = pd.read_sql_query(a_tweets_q_singa, db)\n",
    "#a_tweets_singa"
   ]
  },
  {
   "cell_type": "code",
   "execution_count": 96,
   "metadata": {},
   "outputs": [
    {
     "data": {
      "text/plain": [
       "261"
      ]
     },
     "execution_count": 96,
     "metadata": {},
     "output_type": "execute_result"
    }
   ],
   "source": [
    "singa_id = []\n",
    "for i in a_tweets_singa['start']:\n",
    "    singa_id.append(i)\n",
    "len(singa_id)"
   ]
  },
  {
   "cell_type": "code",
   "execution_count": 97,
   "metadata": {},
   "outputs": [],
   "source": [
    "singa_df = pd.DataFrame()\n",
    "singa_df['tweet'] = [t['text'] for t in tweets.find({}) for i in singa_id if i == t['id'] if t['language']=='eng']\n",
    "singa_df['id'] = [t['id'] for t in tweets.find({}) for i in singa_id if i == t['id'] if t['language']=='eng']\n",
    "singa_df['user_id'] = [t['user']['id'] for t in tweets.find({}) for i in singa_id if i == t['id'] if t['language']=='eng']\n",
    "singa_df['timestamp'] = [t['timestamp_ms'] for t in tweets.find({}) for i in singa_id if i == t['id'] if t['language']=='eng']"
   ]
  },
  {
   "cell_type": "code",
   "execution_count": 98,
   "metadata": {},
   "outputs": [],
   "source": [
    "singa_df.drop_duplicates(inplace=True)\n",
    "singa_df['tweet'] = singa_df['tweet'].apply(cleantxt)"
   ]
  },
  {
   "cell_type": "code",
   "execution_count": 99,
   "metadata": {},
   "outputs": [],
   "source": [
    "cnt = Counter()\n",
    "for text in singa_df[\"tweet\"].values:\n",
    "    for word in text.split():\n",
    "        cnt[word] += 1       \n",
    "#cnt.most_common(35)"
   ]
  },
  {
   "cell_type": "code",
   "execution_count": 100,
   "metadata": {},
   "outputs": [],
   "source": [
    "FREQWORDS = set([w for (w, wc) in cnt.most_common(35)])\n",
    "def remove_freqwords(text):\n",
    "    \"\"\"custom function to remove the frequent words\"\"\"\n",
    "    return \" \".join([word for word in str(text).split() if word not in FREQWORDS])\n",
    "\n",
    "singa_df['tweet'] = singa_df['tweet'].apply(remove_freqwords)"
   ]
  },
  {
   "cell_type": "code",
   "execution_count": 294,
   "metadata": {},
   "outputs": [],
   "source": [
    "singa_df['tweet'] = singa_df['tweet'].apply(deEmojify)"
   ]
  },
  {
   "cell_type": "code",
   "execution_count": 295,
   "metadata": {},
   "outputs": [],
   "source": [
    "singa_df['polarity'] = singa_df['tweet'].apply(getPolarity)\n",
    "singa_df['subjectivity'] = singa_df['tweet'].apply(getSubjectivity)\n",
    "singa_df['analysis'] = singa_df['polarity'].apply(getAnalysis)\n",
    "singa_df['class'] = singa_df['tweet'].apply(classify)"
   ]
  },
  {
   "cell_type": "markdown",
   "metadata": {},
   "source": [
    "                                         Second-A tweets for singa"
   ]
  },
  {
   "cell_type": "code",
   "execution_count": 102,
   "metadata": {},
   "outputs": [
    {
     "data": {
      "text/plain": [
       "274"
      ]
     },
     "execution_count": 102,
     "metadata": {},
     "output_type": "execute_result"
    }
   ],
   "source": [
    "singa_id2 = []\n",
    "for i in backward_a_b_singa['change']:\n",
    "    singa_id2.append(i)\n",
    "len(singa_id2)"
   ]
  },
  {
   "cell_type": "code",
   "execution_count": 103,
   "metadata": {},
   "outputs": [],
   "source": [
    "singa_df2 = pd.DataFrame()\n",
    "singa_df2['tweet'] = [t['text'] for t in tweets.find({}) for i in singa_id2 if i == t['id'] if t['language']=='eng']\n",
    "singa_df2['id'] = [t['id'] for t in tweets.find({}) for i in singa_id2 if i == t['id'] if t['language']=='eng']\n",
    "singa_df2['user_id'] = [t['user']['id'] for t in tweets.find({}) for i in singa_id2 if i == t['id'] if t['language']=='eng']\n",
    "singa_df2['timestamp'] = [t['timestamp_ms'] for t in tweets.find({}) for i in singa_id2 if i == t['id'] if t['language']=='eng']"
   ]
  },
  {
   "cell_type": "code",
   "execution_count": 104,
   "metadata": {},
   "outputs": [],
   "source": [
    "singa_df2.drop_duplicates(inplace=True)\n",
    "singa_df2['tweet'] = singa_df2['tweet'].apply(cleantxt)"
   ]
  },
  {
   "cell_type": "code",
   "execution_count": 105,
   "metadata": {},
   "outputs": [],
   "source": [
    "cnt = Counter()\n",
    "for text in singa_df2[\"tweet\"].values:\n",
    "    for word in text.split():\n",
    "        cnt[word] += 1 \n",
    "    \n",
    "FREQWORDS = set([w for (w, wc) in cnt.most_common(35)])\n",
    "def remove_freqwords(text):\n",
    "    \"\"\"custom function to remove the frequent words\"\"\"\n",
    "    return \" \".join([word for word in str(text).split() if word not in FREQWORDS])\n",
    "\n",
    "singa_df2['tweet'] = singa_df2['tweet'].apply(remove_freqwords)"
   ]
  },
  {
   "cell_type": "code",
   "execution_count": 297,
   "metadata": {},
   "outputs": [],
   "source": [
    "singa_df2['tweet'] = singa_df2['tweet'].apply(deEmojify)"
   ]
  },
  {
   "cell_type": "code",
   "execution_count": 298,
   "metadata": {},
   "outputs": [],
   "source": [
    "singa_df2['polarity'] = singa_df2['tweet'].apply(getPolarity)\n",
    "singa_df2['subjectivity'] = singa_df2['tweet'].apply(getSubjectivity)\n",
    "singa_df2['analysis'] = singa_df2['polarity'].apply(getAnalysis)\n",
    "singa_df2['class'] = singa_df2['tweet'].apply(classify)"
   ]
  },
  {
   "cell_type": "markdown",
   "metadata": {},
   "source": [
    "### Comparison of the convo sentiment change between KLM, British Airways and Singapore Air\n",
    "All three airlines have more second-A tweets (replies to KLM's reply) than first-A tweets (initial sent tweets to KLM).    \n",
    "They all have around 80% negative first-A tweets and then it drops after airlines reply, tho not significantly.                                                           \n",
    "After replying to their costumers (visualization below):\n",
    "* KLM negative sentiment is ~4% lower \n",
    "* British Airways negative sentiment is ~2% higher\n",
    "* Singapore Air negative seniment is ~10% lower"
   ]
  },
  {
   "cell_type": "code",
   "execution_count": 331,
   "metadata": {},
   "outputs": [
    {
     "data": {
      "text/plain": [
       "((2515, 8), (2789, 8), (246, 8), (274, 8))"
      ]
     },
     "execution_count": 331,
     "metadata": {},
     "output_type": "execute_result"
    }
   ],
   "source": [
    "brit_df.shape, brit_df2.shape, singa_df.shape, singa_df2.shape"
   ]
  },
  {
   "cell_type": "code",
   "execution_count": 332,
   "metadata": {
    "scrolled": false
   },
   "outputs": [
    {
     "data": {
      "image/png": "[encoded data removed]",
      "text/plain": [
       "<Figure size 432x288 with 1 Axes>"
      ]
     },
     "metadata": {
      "needs_background": "light"
     },
     "output_type": "display_data"
    }
   ],
   "source": [
    "#fig, ax = plt.subplots(nrows=1, ncols=2, figsize=(12,5))\n",
    "#fig.suptitle('Conversation Sentiment Change', fontsize=16)\n",
    "\n",
    "p1 = plt.bar(0,(c_df['class'].value_counts()/len(c_df['tweet'])*100)['neg'], color='red')\n",
    "p2 = plt.bar(0,(c_df['class'].value_counts()/len(c_df['tweet'])*100)['pos'], color='blue')\n",
    "p3 = plt.bar(1,(brit_df['class'].value_counts()/len(brit_df['tweet'])*100)['neg'], color='red')\n",
    "p4 = plt.bar(1,(brit_df['class'].value_counts()/len(brit_df['tweet'])*100)['pos'], color='blue')\n",
    "p5 = plt.bar(2,(singa_df['class'].value_counts()/len(singa_df['tweet'])*100)['neg'], color='red')\n",
    "p6 = plt.bar(2,(singa_df['class'].value_counts()/len(singa_df['tweet'])*100)['pos'], color='blue')\n",
    "\n",
    "plt.ylabel('Percentage (%)')\n",
    "plt.title('Percentage of pos/neg first-A tweets', weight='bold')\n",
    "plt.xticks(ind, ('KLM', 'British Airways','Singapore Air'))\n",
    "plt.yticks(np.arange(0, 101,10));\n",
    "#plt.legend((p1[0], p2[0]), ('neg', 'pos'))"
   ]
  },
  {
   "cell_type": "code",
   "execution_count": 333,
   "metadata": {},
   "outputs": [
    {
     "data": {
      "image/png": "[encoded data removed]",
      "text/plain": [
       "<Figure size 432x288 with 1 Axes>"
      ]
     },
     "metadata": {
      "needs_background": "light"
     },
     "output_type": "display_data"
    }
   ],
   "source": [
    "p7 = plt.bar(0,(c_df2['class'].value_counts()/len(c_df2['tweet'])*100)['neg'], color='red')\n",
    "p8 = plt.bar(0,(c_df2['class'].value_counts()/len(c_df2['tweet'])*100)['pos'], color='blue')\n",
    "p9 = plt.bar(1,(brit_df2['class'].value_counts()/len(brit_df2['tweet'])*100)['neg'], color='red')\n",
    "p10 = plt.bar(1,(brit_df2['class'].value_counts()/len(brit_df2['tweet'])*100)['pos'], color='blue')\n",
    "p11 = plt.bar(2,(singa_df2['class'].value_counts()/len(singa_df2['tweet'])*100)['neg'], color='red')\n",
    "p12 = plt.bar(2,(singa_df2['class'].value_counts()/len(singa_df2['tweet'])*100)['pos'], color='blue') \n",
    "\n",
    "plt.ylabel('Percentage (%)')\n",
    "plt.title('Percentage of pos/neg second-A tweets', weight='bold')\n",
    "plt.xticks(ind, ('KLM', 'British Airways','Singapore Air'))\n",
    "plt.yticks(np.arange(0, 101,10));"
   ]
  },
  {
   "cell_type": "markdown",
   "metadata": {},
   "source": [
    "Based on TextBlob (mean - see below):\n",
    "* KLM's sentiment changed from 0.03 to 0.08 \n",
    "* British Airways' sentiment changed from 0.03 to 0.06\n",
    "* Singapore Air's sentiment changed from 0.04 to 0.08"
   ]
  },
  {
   "cell_type": "code",
   "execution_count": 320,
   "metadata": {},
   "outputs": [
    {
     "data": {
      "text/plain": [
       "(count    443.000000\n",
       " mean       0.038061\n",
       " std        0.270283\n",
       " min       -1.000000\n",
       " 25%       -0.080556\n",
       " 50%        0.021429\n",
       " 75%        0.200000\n",
       " max        0.800000\n",
       " Name: polarity, dtype: float64, count    486.000000\n",
       " mean       0.086636\n",
       " std        0.240292\n",
       " min       -1.000000\n",
       " 25%       -0.012798\n",
       " 50%        0.066667\n",
       " 75%        0.216406\n",
       " max        0.900000\n",
       " Name: polarity, dtype: float64)"
      ]
     },
     "execution_count": 320,
     "metadata": {},
     "output_type": "execute_result"
    }
   ],
   "source": [
    "c_df['polarity'].describe(), c_df2['polarity'].describe()"
   ]
  },
  {
   "cell_type": "code",
   "execution_count": 321,
   "metadata": {},
   "outputs": [
    {
     "data": {
      "text/plain": [
       "(count    2515.000000\n",
       " mean        0.032342\n",
       " std         0.280503\n",
       " min        -1.000000\n",
       " 25%        -0.100000\n",
       " 50%         0.000000\n",
       " 75%         0.200000\n",
       " max         1.000000\n",
       " Name: polarity, dtype: float64, count    2789.000000\n",
       " mean        0.068385\n",
       " std         0.248806\n",
       " min        -1.000000\n",
       " 25%        -0.050000\n",
       " 50%         0.050000\n",
       " 75%         0.207143\n",
       " max         1.000000\n",
       " Name: polarity, dtype: float64)"
      ]
     },
     "execution_count": 321,
     "metadata": {},
     "output_type": "execute_result"
    }
   ],
   "source": [
    "brit_df['polarity'].describe(), brit_df2['polarity'].describe()"
   ]
  },
  {
   "cell_type": "code",
   "execution_count": 322,
   "metadata": {},
   "outputs": [
    {
     "data": {
      "text/plain": [
       "(count    246.000000\n",
       " mean       0.041882\n",
       " std        0.298900\n",
       " min       -1.000000\n",
       " 25%       -0.100000\n",
       " 50%        0.000000\n",
       " 75%        0.225000\n",
       " max        0.800000\n",
       " Name: polarity, dtype: float64, count    274.000000\n",
       " mean       0.085270\n",
       " std        0.256626\n",
       " min       -1.000000\n",
       " 25%       -0.015000\n",
       " 50%        0.076894\n",
       " 75%        0.239524\n",
       " max        0.910000\n",
       " Name: polarity, dtype: float64)"
      ]
     },
     "execution_count": 322,
     "metadata": {},
     "output_type": "execute_result"
    }
   ],
   "source": [
    "singa_df['polarity'].describe(), singa_df2['polarity'].describe()"
   ]
  },
  {
   "cell_type": "code",
   "execution_count": 112,
   "metadata": {},
   "outputs": [
    {
     "data": {
      "text/plain": [
       "775"
      ]
     },
     "execution_count": 112,
     "metadata": {},
     "output_type": "execute_result"
    }
   ],
   "source": [
    "klm_reply_id = []\n",
    "for i in backward_a_b['klms reply']:\n",
    "    klm_reply_id.append(i)\n",
    "len(klm_reply_id)\n",
    "#klm_reply_id"
   ]
  },
  {
   "cell_type": "code",
   "execution_count": 590,
   "metadata": {},
   "outputs": [],
   "source": [
    "klm_reply = pd.DataFrame()\n",
    "klm_reply['tweet'] = [t['text'] for t in tweets.find({}) for i in klm_reply_id if i == t['id'] if t['language']=='eng']\n",
    "klm_reply['id'] = [t['id'] for t in tweets.find({}) for i in klm_reply_id if i == t['id'] if t['language']=='eng']\n",
    "klm_reply['user_id'] = [t['user']['id'] for t in tweets.find({}) for i in klm_reply_id if i == t['id'] if t['language']=='eng']\n",
    "klm_reply['timestamp'] = [t['timestamp_ms'] for t in tweets.find({}) for i in klm_reply_id if i == t['id'] if t['language']=='eng']"
   ]
  },
  {
   "cell_type": "code",
   "execution_count": 593,
   "metadata": {
    "scrolled": true
   },
   "outputs": [
    {
     "data": {
      "text/html": [
       "<div>\n",
       "<style scoped>\n",
       "    .dataframe tbody tr th:only-of-type {\n",
       "        vertical-align: middle;\n",
       "    }\n",
       "\n",
       "    .dataframe tbody tr th {\n",
       "        vertical-align: top;\n",
       "    }\n",
       "\n",
       "    .dataframe thead th {\n",
       "        text-align: right;\n",
       "    }\n",
       "</style>\n",
       "<table border=\"1\" class=\"dataframe\">\n",
       "  <thead>\n",
       "    <tr style=\"text-align: right;\">\n",
       "      <th></th>\n",
       "      <th>tweet</th>\n",
       "      <th>id</th>\n",
       "      <th>user_id</th>\n",
       "      <th>timestamp</th>\n",
       "    </tr>\n",
       "  </thead>\n",
       "  <tbody>\n",
       "    <tr>\n",
       "      <th>0</th>\n",
       "      <td>@recklesscitizen We regret to hear your baggage has been delayed.  Have you created a PIR with us?  If you still have to do so, you can create this report via https://t.co/h5Uo0XLysN.</td>\n",
       "      <td>1139414658421387300</td>\n",
       "      <td>56377143</td>\n",
       "      <td>1560492598525</td>\n",
       "    </tr>\n",
       "    <tr>\n",
       "      <th>1</th>\n",
       "      <td>@Golsong We regret to read this. Have you created a PIR with us?  If you still have to do so, you can create this report via https://t.co/h5Uo0Y39Rn.</td>\n",
       "      <td>1135269182281539600</td>\n",
       "      <td>56377143</td>\n",
       "      <td>1559504239994</td>\n",
       "    </tr>\n",
       "    <tr>\n",
       "      <th>2</th>\n",
       "      <td>@mumbaimuscat As a global carrier, KLM values all of its passengers. We do not distinguish between age, gender, race, religion or lifestyle. Can you please elaborate your concern so we can assist you further? Please share your booking code and ticket number via private message.</td>\n",
       "      <td>1135500525686931500</td>\n",
       "      <td>56377143</td>\n",
       "      <td>1559559396560</td>\n",
       "    </tr>\n",
       "    <tr>\n",
       "      <th>5</th>\n",
       "      <td>@pryonic We regret to read this, Jamie. If all your flights are booked in one ticket, you will be automatically rebooked to the next available flight if you miss your connection in the unfortunate event of a delay. Please send us a DM if you need further assistance.</td>\n",
       "      <td>1137132936950669300</td>\n",
       "      <td>56377143</td>\n",
       "      <td>1559948593734</td>\n",
       "    </tr>\n",
       "    <tr>\n",
       "      <th>6</th>\n",
       "      <td>@TapanSh28133927 We regret to hear this.  Thank you for bringing this to our attention. Could you kindly share your full name, flight number, date and seat number via a DM?</td>\n",
       "      <td>1137306741576802300</td>\n",
       "      <td>56377143</td>\n",
       "      <td>1559990031986</td>\n",
       "    </tr>\n",
       "    <tr>\n",
       "      <th>8</th>\n",
       "      <td>@tommygbyrne We are sorry to read this. We would like to advise you to arrange the necessary accommodation yourself. Afterwards you can claim the costs with our Customer Care department: https://t.co/2Y6XnE3Ox4.</td>\n",
       "      <td>1137359666483204100</td>\n",
       "      <td>56377143</td>\n",
       "      <td>1560002650267</td>\n",
       "    </tr>\n",
       "    <tr>\n",
       "      <th>9</th>\n",
       "      <td>@jornandinha KLM introduced three new types of Economy tickets at the end of 2017 on routes within Europe to/from North America: Light, Standard and Flex. This has been gradually phased in on Central and South American routes, in the Caribbean, Africa, and now Asia and the Middle East. &amp;gt;&amp;gt;</td>\n",
       "      <td>1133833504041635800</td>\n",
       "      <td>56377143</td>\n",
       "      <td>1559161947628</td>\n",
       "    </tr>\n",
       "    <tr>\n",
       "      <th>10</th>\n",
       "      <td>@TurkKenya Thank you for reaching out to us.  We’re sorry to read this. Normal use of your baggage may result in scratches, marks and small dents on your baggage and in other wear and tear. We are not liable for this. 1/2</td>\n",
       "      <td>1136780373977980900</td>\n",
       "      <td>56377143</td>\n",
       "      <td>1559864536171</td>\n",
       "    </tr>\n",
       "    <tr>\n",
       "      <th>11</th>\n",
       "      <td>@virajpari We regret reading this.  We can understand that this was not how you expected your journey to go. For unforeseen expenses due to a cancellation or a flight delay, you may request for possible compensation through this link here: https://t.co/y6e6TyT6j4.</td>\n",
       "      <td>1136783067056681000</td>\n",
       "      <td>56377143</td>\n",
       "      <td>1559865178251</td>\n",
       "    </tr>\n",
       "    <tr>\n",
       "      <th>12</th>\n",
       "      <td>@carlopiana We appreciate you bringing this to our attention. We are thankful that you shared your story with us as we are very open to feedback. That way, we are able to find out the areas that we still need to improve on.  Thank you.</td>\n",
       "      <td>1137370751319912400</td>\n",
       "      <td>56377143</td>\n",
       "      <td>1560005293098</td>\n",
       "    </tr>\n",
       "    <tr>\n",
       "      <th>13</th>\n",
       "      <td>@natp80 We regret to read this, Natalie. May we confirm if you are currently at the airport? If so, we kindly advise you to approach our colleagues there, as they can inform you further.</td>\n",
       "      <td>1138809289622138900</td>\n",
       "      <td>56377143</td>\n",
       "      <td>1560348267356</td>\n",
       "    </tr>\n",
       "    <tr>\n",
       "      <th>14</th>\n",
       "      <td>@evacalado Please get in touch with your travel agency to assist you with your rebooking or refund request, Eva. Thank you for understanding.</td>\n",
       "      <td>1138517166989463600</td>\n",
       "      <td>56377143</td>\n",
       "      <td>1560278619893</td>\n",
       "    </tr>\n",
       "    <tr>\n",
       "      <th>15</th>\n",
       "      <td>@dscinclincoln All contact details of KLM can be found via: https://t.co/FTcYYzt0nu. If you need the details for a different country, go to the bottom of the page and choose the desired country from the list.</td>\n",
       "      <td>1142828750280777700</td>\n",
       "      <td>56377143</td>\n",
       "      <td>1561306581455</td>\n",
       "    </tr>\n",
       "    <tr>\n",
       "      <th>16</th>\n",
       "      <td>@yetamore As part of our aim to create a customised offer at the best price, we introduced new fares for flights to certain destinations. With this option, we want to provide our Economy Class-passengers the possibility to book tickets excluding baggage at a lower cost. &amp;gt;&amp;gt;&amp;gt;</td>\n",
       "      <td>1135131064299655200</td>\n",
       "      <td>56377143</td>\n",
       "      <td>1559471310101</td>\n",
       "    </tr>\n",
       "    <tr>\n",
       "      <th>17</th>\n",
       "      <td>@hylda_stewart We checked your booking and you've been rebooked to your new https://t.co/QcTIHKTvOD can check your full flight details via My trip: https://t.co/XX0ex2PA0l. In case this flight doesn't work for you, please coordinate this with our team at the airport to check your options.</td>\n",
       "      <td>1136961726572912600</td>\n",
       "      <td>56377143</td>\n",
       "      <td>1559907773999</td>\n",
       "    </tr>\n",
       "    <tr>\n",
       "      <th>18</th>\n",
       "      <td>@HilaryHuang6 We noticed that you have been in contact with us via Facebook and we are glad that you’ve already received a response. We kindly ask you to keep the communication via one channel if possible, to avoid any confusion.</td>\n",
       "      <td>1138031371111338000</td>\n",
       "      <td>56377143</td>\n",
       "      <td>1560162797130</td>\n",
       "    </tr>\n",
       "    <tr>\n",
       "      <th>19</th>\n",
       "      <td>@Lore1968NL We regret to learn about this. In case of delay, we advise you to approach the transfer desk in case you would like to be rebooked in any other flights.</td>\n",
       "      <td>1141765276968656900</td>\n",
       "      <td>56377143</td>\n",
       "      <td>1561053029659</td>\n",
       "    </tr>\n",
       "    <tr>\n",
       "      <th>20</th>\n",
       "      <td>@glaumenezess We appreciate you bringing this to our attention. We truly value your feedback. We will relay your message to the relevant department. Thank you.</td>\n",
       "      <td>1141914078392270800</td>\n",
       "      <td>56377143</td>\n",
       "      <td>1561088506683</td>\n",
       "    </tr>\n",
       "    <tr>\n",
       "      <th>21</th>\n",
       "      <td>@les_peacock_87 If all your flights are booked in one ticket, you will be automatically rebooked to the next available flight if you miss your connection in the unfortunate event of a delay.</td>\n",
       "      <td>1131283320266993700</td>\n",
       "      <td>56377143</td>\n",
       "      <td>1558553936436</td>\n",
       "    </tr>\n",
       "    <tr>\n",
       "      <th>22</th>\n",
       "      <td>@LiekeMuller We would like to greet you an advance Happy Birthday, Lieke! Did your know that it is possible to pay a ticket partly with Miles and partly with money. You can pay up to 25% of the Miles with cash. More information can be found here: https://t.co/lv2k9n2Gjl.&amp;gt;&amp;gt;</td>\n",
       "      <td>1135662738527674400</td>\n",
       "      <td>56377143</td>\n",
       "      <td>1559598071115</td>\n",
       "    </tr>\n",
       "  </tbody>\n",
       "</table>\n",
       "</div>"
      ],
      "text/plain": [
       "                                                                                                                                                                                                                                                                                                      tweet  \\\n",
       "0                                                                                                                   @recklesscitizen We regret to hear your baggage has been delayed.  Have you created a PIR with us?  If you still have to do so, you can create this report via https://t.co/h5Uo0XLysN.   \n",
       "1                                                                                                                                                     @Golsong We regret to read this. Have you created a PIR with us?  If you still have to do so, you can create this report via https://t.co/h5Uo0Y39Rn.   \n",
       "2                    @mumbaimuscat As a global carrier, KLM values all of its passengers. We do not distinguish between age, gender, race, religion or lifestyle. Can you please elaborate your concern so we can assist you further? Please share your booking code and ticket number via private message.   \n",
       "5                                @pryonic We regret to read this, Jamie. If all your flights are booked in one ticket, you will be automatically rebooked to the next available flight if you miss your connection in the unfortunate event of a delay. Please send us a DM if you need further assistance.   \n",
       "6                                                                                                                              @TapanSh28133927 We regret to hear this.  Thank you for bringing this to our attention. Could you kindly share your full name, flight number, date and seat number via a DM?   \n",
       "8                                                                                       @tommygbyrne We are sorry to read this. We would like to advise you to arrange the necessary accommodation yourself. Afterwards you can claim the costs with our Customer Care department: https://t.co/2Y6XnE3Ox4.   \n",
       "9   @jornandinha KLM introduced three new types of Economy tickets at the end of 2017 on routes within Europe to/from North America: Light, Standard and Flex. This has been gradually phased in on Central and South American routes, in the Caribbean, Africa, and now Asia and the Middle East. &gt;&gt;   \n",
       "10                                                                            @TurkKenya Thank you for reaching out to us.  We’re sorry to read this. Normal use of your baggage may result in scratches, marks and small dents on your baggage and in other wear and tear. We are not liable for this. 1/2   \n",
       "11                                 @virajpari We regret reading this.  We can understand that this was not how you expected your journey to go. For unforeseen expenses due to a cancellation or a flight delay, you may request for possible compensation through this link here: https://t.co/y6e6TyT6j4.   \n",
       "12                                                              @carlopiana We appreciate you bringing this to our attention. We are thankful that you shared your story with us as we are very open to feedback. That way, we are able to find out the areas that we still need to improve on.  Thank you.   \n",
       "13                                                                                                               @natp80 We regret to read this, Natalie. May we confirm if you are currently at the airport? If so, we kindly advise you to approach our colleagues there, as they can inform you further.   \n",
       "14                                                                                                                                                            @evacalado Please get in touch with your travel agency to assist you with your rebooking or refund request, Eva. Thank you for understanding.   \n",
       "15                                                                                         @dscinclincoln All contact details of KLM can be found via: https://t.co/FTcYYzt0nu. If you need the details for a different country, go to the bottom of the page and choose the desired country from the list.   \n",
       "16              @yetamore As part of our aim to create a customised offer at the best price, we introduced new fares for flights to certain destinations. With this option, we want to provide our Economy Class-passengers the possibility to book tickets excluding baggage at a lower cost. &gt;&gt;&gt;   \n",
       "17        @hylda_stewart We checked your booking and you've been rebooked to your new https://t.co/QcTIHKTvOD can check your full flight details via My trip: https://t.co/XX0ex2PA0l. In case this flight doesn't work for you, please coordinate this with our team at the airport to check your options.   \n",
       "18                                                                    @HilaryHuang6 We noticed that you have been in contact with us via Facebook and we are glad that you’ve already received a response. We kindly ask you to keep the communication via one channel if possible, to avoid any confusion.   \n",
       "19                                                                                                                                     @Lore1968NL We regret to learn about this. In case of delay, we advise you to approach the transfer desk in case you would like to be rebooked in any other flights.   \n",
       "20                                                                                                                                          @glaumenezess We appreciate you bringing this to our attention. We truly value your feedback. We will relay your message to the relevant department. Thank you.   \n",
       "21                                                                                                           @les_peacock_87 If all your flights are booked in one ticket, you will be automatically rebooked to the next available flight if you miss your connection in the unfortunate event of a delay.   \n",
       "22                  @LiekeMuller We would like to greet you an advance Happy Birthday, Lieke! Did your know that it is possible to pay a ticket partly with Miles and partly with money. You can pay up to 25% of the Miles with cash. More information can be found here: https://t.co/lv2k9n2Gjl.&gt;&gt;   \n",
       "\n",
       "                     id   user_id      timestamp  \n",
       "0   1139414658421387300  56377143  1560492598525  \n",
       "1   1135269182281539600  56377143  1559504239994  \n",
       "2   1135500525686931500  56377143  1559559396560  \n",
       "5   1137132936950669300  56377143  1559948593734  \n",
       "6   1137306741576802300  56377143  1559990031986  \n",
       "8   1137359666483204100  56377143  1560002650267  \n",
       "9   1133833504041635800  56377143  1559161947628  \n",
       "10  1136780373977980900  56377143  1559864536171  \n",
       "11  1136783067056681000  56377143  1559865178251  \n",
       "12  1137370751319912400  56377143  1560005293098  \n",
       "13  1138809289622138900  56377143  1560348267356  \n",
       "14  1138517166989463600  56377143  1560278619893  \n",
       "15  1142828750280777700  56377143  1561306581455  \n",
       "16  1135131064299655200  56377143  1559471310101  \n",
       "17  1136961726572912600  56377143  1559907773999  \n",
       "18  1138031371111338000  56377143  1560162797130  \n",
       "19  1141765276968656900  56377143  1561053029659  \n",
       "20  1141914078392270800  56377143  1561088506683  \n",
       "21  1131283320266993700  56377143  1558553936436  \n",
       "22  1135662738527674400  56377143  1559598071115  "
      ]
     },
     "execution_count": 593,
     "metadata": {},
     "output_type": "execute_result"
    }
   ],
   "source": [
    "klm_reply.drop_duplicates().head(20)"
   ]
  },
  {
   "cell_type": "markdown",
   "metadata": {},
   "source": [
    "* Getting 10 most used words before and after KLM replied"
   ]
  },
  {
   "cell_type": "code",
   "execution_count": 324,
   "metadata": {},
   "outputs": [
    {
     "data": {
      "image/png": "[encoded data removed]",
      "text/plain": [
       "<Figure size 720x576 with 1 Axes>"
      ]
     },
     "metadata": {
      "needs_background": "light"
     },
     "output_type": "display_data"
    }
   ],
   "source": [
    "from sklearn.feature_extraction.text import CountVectorizer\n",
    "import numpy as np\n",
    "import matplotlib.pyplot as plt\n",
    "import seaborn as sns\n",
    "sns.set_style('whitegrid')\n",
    "%matplotlib inline\n",
    "#Helper function\n",
    "def plot_10_most_common_words(count_data, count_vectorizer):\n",
    "    import matplotlib.pyplot as plt\n",
    "    words = count_vectorizer.get_feature_names()\n",
    "    total_counts = np.zeros(len(words))\n",
    "    for t in count_data:\n",
    "        total_counts+=t.toarray()[0]\n",
    "    \n",
    "    count_dict = (zip(words, total_counts))\n",
    "    count_dict = sorted(count_dict, key=lambda x:x[1], reverse=True)[0:18]\n",
    "    nogo = ['just','customer','flying','really','way','thanks','hey','passengers']\n",
    "    words = [w[0] for w in count_dict if w[0] not in nogo]\n",
    "    counts = [w[1] for w in count_dict if w[0] not in nogo]\n",
    "    x_pos = np.arange(len(words)) \n",
    "    \n",
    "    plt.figure(2, figsize=(10, 8))\n",
    "    plt.subplot(title='10 most common words from tweets sent to KLM')\n",
    "    sns.set_context(\"notebook\", font_scale=1.25, rc={\"lines.linewidth\": 2.5})\n",
    "    sns.barplot(x_pos, counts, palette='husl')\n",
    "    plt.xticks(x_pos, words, rotation=45) \n",
    "    plt.xlabel('words')\n",
    "    plt.ylabel('counts')\n",
    "    plt.show()\n",
    "#Initialise the count vectorizer with the English stop words\n",
    "count_vectorizer = CountVectorizer(stop_words='english')\n",
    "#Fit and transform the processed titles\n",
    "count_data = count_vectorizer.fit_transform(c_df['tweet'])\n",
    "#Visualise the 10 most common words\n",
    "plot_10_most_common_words(count_data, count_vectorizer)"
   ]
  },
  {
   "cell_type": "code",
   "execution_count": 326,
   "metadata": {},
   "outputs": [
    {
     "data": {
      "image/png": "[encoded data removed]",
      "text/plain": [
       "<Figure size 720x576 with 1 Axes>"
      ]
     },
     "metadata": {
      "needs_background": "light"
     },
     "output_type": "display_data"
    }
   ],
   "source": [
    "from sklearn.feature_extraction.text import CountVectorizer\n",
    "import numpy as np\n",
    "import matplotlib.pyplot as plt\n",
    "import seaborn as sns\n",
    "sns.set_style('whitegrid')\n",
    "%matplotlib inline\n",
    "def plot_10_most_common_words(count_data, count_vectorizer):\n",
    "    import matplotlib.pyplot as plt\n",
    "    words = count_vectorizer.get_feature_names()\n",
    "    total_counts = np.zeros(len(words))\n",
    "    for t in count_data:\n",
    "        total_counts+=t.toarray()[0]\n",
    "    \n",
    "    count_dict = (zip(words, total_counts))\n",
    "    count_dict = sorted(count_dict, key=lambda x:x[1], reverse=True)[0:25]\n",
    "    nogo = ['thanks','know','need','dont','really','airport','flying','customer','im','make','want','passengers','did','don','sure','days','like']\n",
    "    words = [w[0] for w in count_dict if w[0] not in nogo]\n",
    "    counts = [w[1] for w in count_dict if w[0] not in nogo]\n",
    "    x_pos = np.arange(len(words)) \n",
    "    \n",
    "    plt.figure(2, figsize=(10, 8))\n",
    "    plt.subplot(title='10 most common words after KLM replied')\n",
    "    sns.set_context(\"notebook\", font_scale=1.25, rc={\"lines.linewidth\": 2.5})\n",
    "    sns.barplot(x_pos, counts, palette='husl')\n",
    "    plt.xticks(x_pos, words, rotation=45) \n",
    "    plt.xlabel('words')\n",
    "    plt.ylabel('counts')\n",
    "    plt.show()\n",
    "#Initialise the count vectorizer with the English stop words\n",
    "count_vectorizer = CountVectorizer(stop_words='english')\n",
    "#Fit and transform the processed titles\n",
    "count_data = count_vectorizer.fit_transform(c_df2['tweet'])\n",
    "#Visualise the 10 most common words\n",
    "plot_10_most_common_words(count_data, count_vectorizer)"
   ]
  },
  {
   "cell_type": "code",
   "execution_count": null,
   "metadata": {},
   "outputs": [],
   "source": []
  }
 ],
 "metadata": {
  "kernelspec": {
   "display_name": "Python 3",
   "language": "python",
   "name": "python3"
  },
  "language_info": {
   "codemirror_mode": {
    "name": "ipython",
    "version": 3
   },
   "file_extension": ".py",
   "mimetype": "text/x-python",
   "name": "python",
   "nbconvert_exporter": "python",
   "pygments_lexer": "ipython3",
   "version": "3.7.3"
  }
 },
 "nbformat": 4,
 "nbformat_minor": 4
}
