{
 "cells": [
  {
   "cell_type": "code",
   "execution_count": 1,
   "metadata": {},
   "outputs": [],
   "source": [
    "import pandas as pd\n",
    "import matplotlib.pyplot as plt\n",
    "import numpy as np\n",
    "import sklearn as skl\n",
    "import json\n",
    "import pickle\n",
    "import re\n",
    "import pprint\n",
    "import datetime\n",
    "import statistics as st"
   ]
  },
  {
   "cell_type": "code",
   "execution_count": 2,
   "metadata": {},
   "outputs": [],
   "source": [
    "import sqlite3\n",
    "high_performance_mode = False #Changed this to default false\n",
    "db_file_path = \"db.db\" #CHANGE THIS\n",
    "from urllib.parse import unquote\n",
    "from urllib.parse import quote"
   ]
  },
  {
   "cell_type": "code",
   "execution_count": 3,
   "metadata": {},
   "outputs": [
    {
     "name": "stdout",
     "output_type": "stream",
     "text": [
      "Loaded\n"
     ]
    }
   ],
   "source": [
    "##DO NOT TOUCH THESE\n",
    "db = sqlite3.connect(\":memory:\")\n",
    "db2 = sqlite3.connect(db_file_path)\n",
    "##DO NOT TOUCH THESE\n",
    "if high_performance_mode:\n",
    "    db2.backup(db)\n",
    "    db2.close()\n",
    "else:\n",
    "    db = db2\n",
    "db.execute('PRAGMA journal_mode = MEMORY')\n",
    "#Rollback journal in mem so that indexing is faster and crashes are catastrophic >:D\n",
    "db.execute('PRAGMA cache_size = 536870912') #<- 512MB in B\n",
    "#This is dinamically resized but the default is really low so let it grow!\n",
    "db.execute('PRAGMA temp_store = MEMORY')\n",
    "#Anything that needs to be generated, do it in mem because faster\n",
    "db.execute('PRAGMA locking_mode = EXCLUSIVE')\n",
    "#Remove lock/unlock overhead let it zoom\n",
    "print(\"Loaded\")"
   ]
  },
  {
   "cell_type": "code",
   "execution_count": 4,
   "metadata": {},
   "outputs": [],
   "source": [
    "c = db.cursor()\n",
    "class Helper:\n",
    "      def __init__(self, db):\n",
    "        self.db = db;\n",
    "        #If anybody wants to use this Google \"SQLite IN\"\n",
    "        self.airline_names = {20626359: 'virginatlantic', 18332190: 'British Airways', 22536055: 'American Airlines', 1542862735: 'Ryanair', 38676903: 'easyJet', 124476322: 'Lufthansa', 218730857: 'Qantas', 106062176: 'Air France', 56377143: 'Royal Dutch Airlines', 45621423: 'SocialLogin%40etihad.ae', 253340062: 'Singapore Airlines', 26223583: 'airberlin', 2182373406: 'airberlin Assist'}\n",
    "        self.airline_ids = [56377143, 106062176, 18332190, 22536055, 124476322, 26223583, 2182373406, 38676903, 1542862735, 253340062, 218730857, 45621423, 20626359]\n",
    "      def exec_custom(self, query: str):\n",
    "        return self.db.execute(query)\n",
    "      def get_vars(self, table: str):\n",
    "        return self.db.execute(\"pragma table_info('{0}');\".format(table))\n",
    "      def get_tables(self): \n",
    "        return self.db.execute(\"SELECT name FROM sqlite_master WHERE type ='table' AND name NOT LIKE 'sqlite_%';\")\n",
    "      def get_tweet(self, id: int, vars, filter):\n",
    "        return self.db.execute(self.build_query('tweets', vars, filter))\n",
    "      def get_user_tweets(self, id: int):\n",
    "        return self.db.execute(self.build_query('tweets', '*', [['user', id]]))\n",
    "      def get_airline_tweets_by_mention(self, id: int, vars):\n",
    "        return self.db.execute(self.build_query('mentions', vars, \"WHERE user_id = '{0}'\".format(id)))\n",
    "      def get_airline_tweets_by_user_id_in_tweet(self, id: int, vars):\n",
    "        return self.db.execute(self.build_query('tweets', vars, \"WHERE user = '{0}'\".format(id)))\n",
    "      def build_query(self, table, return_values, search_values, raw_filter = 0):\n",
    "        def createLimit(limit: list):\n",
    "            return limit[0] + \" = \" + \"'{0}'\".format(limit[1])\n",
    "        #You'd have to sort and/or/* search values and then apply them accordingly because of how the .join function works and im not about that life\n",
    "        #Or use the list comprehension output to process the logic behind it (but usually complex things require brackets and f that)\n",
    "        if(type(search_values) == list):\n",
    "            query = \"select \" + \",\".join(return_values) + \" from \" + table + \" where \" + ' and '.join([createLimit(limit) for limit in search_values])\n",
    "        else:\n",
    "            query = \"select \" + \",\".join(return_values) + \" from \" + table + \" where \" + search_values\n",
    "        return query\n"
   ]
  },
  {
   "cell_type": "code",
   "execution_count": 5,
   "metadata": {},
   "outputs": [],
   "source": [
    "hp = Helper(c)"
   ]
  },
  {
   "cell_type": "code",
   "execution_count": 6,
   "metadata": {},
   "outputs": [
    {
     "name": "stdout",
     "output_type": "stream",
     "text": [
      "<[tweets]>\n",
      "    id\n",
      "    text\n",
      "    in_reply_to_status_id\n",
      "    in_reply_to_user_id\n",
      "    user\n",
      "    retweeted_status\n",
      "    quoted_status\n",
      "    language\n",
      "    timestamp_ms\n",
      "<[users]>\n",
      "    timestamp\n",
      "    id\n",
      "    name\n",
      "    verified\n",
      "    followers_count\n",
      "    friends_count\n",
      "    listed_count\n",
      "    favourites_count\n",
      "    statuses_count\n",
      "    location\n",
      "<[retweets]>\n",
      "    id\n",
      "    in_reply_to_status_id\n",
      "    in_reply_to_user_id\n",
      "    user\n",
      "<[quotes]>\n",
      "    id\n",
      "    in_reply_to_status_id\n",
      "    in_reply_to_user_id\n",
      "    user\n",
      "<[to_delete]>\n",
      "    id\n",
      "    timestamp\n",
      "<[ent_hashtags]>\n",
      "    id\n",
      "    text\n",
      "<[ent_urls]>\n",
      "    id\n",
      "    url\n",
      "<[ent_mentions]>\n",
      "    id\n",
      "    name\n",
      "    user_id\n",
      "<[convs]>\n",
      "    root\n",
      "    reply\n",
      "    id\n",
      "    level\n"
     ]
    }
   ],
   "source": [
    "#See all tables\n",
    "hp_t = Helper(db)\n",
    "for table_name in hp_t.get_tables():\n",
    "    print('<[{0}]>'.format(table_name[0]))\n",
    "    for column_name in hp_t.get_vars(table_name[0]):\n",
    "        print(\"    {0}\".format(column_name[1]))"
   ]
  },
  {
   "cell_type": "code",
   "execution_count": 7,
   "metadata": {},
   "outputs": [],
   "source": [
    "airlines = {'KLM':56377143, \n",
    "            'AirFrance': 106062176, \n",
    "            'British_Airways': 18332190, \n",
    "            'AmericanAir': 22536055, \n",
    "           'Lufthansa': 124476322, \n",
    "           'AirBerlin': 26223583, \n",
    "           'AirBerlinAssist': 2182373406, \n",
    "           'easyJet': 38676903, \n",
    "           'RyanAir': 1542862735, \n",
    "           'SingaporeAir': 253340062, \n",
    "           'Qantas': 218730857, \n",
    "           'EtihadAirways': 45621423, \n",
    "           'VirginAtlantic': 20626359}"
   ]
  },
  {
   "cell_type": "code",
   "execution_count": 8,
   "metadata": {},
   "outputs": [],
   "source": [
    "air_count = pickle.load(open(\"save2.p\", \"rb\"))"
   ]
  },
  {
   "cell_type": "code",
   "execution_count": 9,
   "metadata": {},
   "outputs": [],
   "source": [
    "del air_count['AirBerlin']['nr_convs']\n",
    "del air_count['AirBerlinAssist']['nr_convs']"
   ]
  },
  {
   "cell_type": "markdown",
   "metadata": {},
   "source": [
    "- KLM received about 133 000 tweets from users (whether directly or as a reply)\n",
    "- did they reply more to famous users? (famous defined as users with more than 5000 followers)"
   ]
  },
  {
   "cell_type": "code",
   "execution_count": 18,
   "metadata": {},
   "outputs": [
    {
     "name": "stdout",
     "output_type": "stream",
     "text": [
      "(1564,)\n"
     ]
    }
   ],
   "source": [
    "q1 = \"\"\"\n",
    "SELECT COUNT(DISTINCT(tweets.id))\n",
    "FROM users, tweets\n",
    "WHERE users.id = tweets.user AND users.id = 56377143 AND tweets.in_reply_to_user_id != 'null'\n",
    "AND tweets.in_reply_to_user_id IN (SELECT id FROM users WHERE followers_count > 5000);\n",
    "\"\"\"\n",
    "for row in hp.exec_custom(q1):\n",
    "    print(row)"
   ]
  },
  {
   "cell_type": "markdown",
   "metadata": {},
   "source": [
    "# A-B-A structure for the sentiment analysis"
   ]
  },
  {
   "cell_type": "markdown",
   "metadata": {},
   "source": [
    "First, find the tweets from users that get a reply later on"
   ]
  },
  {
   "cell_type": "code",
   "execution_count": 40,
   "metadata": {},
   "outputs": [
    {
     "data": {
      "text/html": [
       "<div>\n",
       "<style scoped>\n",
       "    .dataframe tbody tr th:only-of-type {\n",
       "        vertical-align: middle;\n",
       "    }\n",
       "\n",
       "    .dataframe tbody tr th {\n",
       "        vertical-align: top;\n",
       "    }\n",
       "\n",
       "    .dataframe thead th {\n",
       "        text-align: right;\n",
       "    }\n",
       "</style>\n",
       "<table border=\"1\" class=\"dataframe\">\n",
       "  <thead>\n",
       "    <tr style=\"text-align: right;\">\n",
       "      <th></th>\n",
       "      <th>start</th>\n",
       "      <th>user_id</th>\n",
       "    </tr>\n",
       "  </thead>\n",
       "  <tbody>\n",
       "    <tr>\n",
       "      <th>0</th>\n",
       "      <td>1131185677230575600</td>\n",
       "      <td>824207173425262600</td>\n",
       "    </tr>\n",
       "    <tr>\n",
       "      <th>1</th>\n",
       "      <td>1131215415164702700</td>\n",
       "      <td>123663454</td>\n",
       "    </tr>\n",
       "    <tr>\n",
       "      <th>2</th>\n",
       "      <td>1131260934087991300</td>\n",
       "      <td>267418667</td>\n",
       "    </tr>\n",
       "    <tr>\n",
       "      <th>3</th>\n",
       "      <td>1131277493674156000</td>\n",
       "      <td>2186639444</td>\n",
       "    </tr>\n",
       "    <tr>\n",
       "      <th>4</th>\n",
       "      <td>1131281689051828200</td>\n",
       "      <td>977096243204804600</td>\n",
       "    </tr>\n",
       "    <tr>\n",
       "      <th>...</th>\n",
       "      <td>...</td>\n",
       "      <td>...</td>\n",
       "    </tr>\n",
       "    <tr>\n",
       "      <th>3449</th>\n",
       "      <td>1243899605483323400</td>\n",
       "      <td>66617261</td>\n",
       "    </tr>\n",
       "    <tr>\n",
       "      <th>3450</th>\n",
       "      <td>1243920892272562200</td>\n",
       "      <td>187541638</td>\n",
       "    </tr>\n",
       "    <tr>\n",
       "      <th>3451</th>\n",
       "      <td>1244183751820742700</td>\n",
       "      <td>934431504</td>\n",
       "    </tr>\n",
       "    <tr>\n",
       "      <th>3452</th>\n",
       "      <td>1244521027285045200</td>\n",
       "      <td>52662462</td>\n",
       "    </tr>\n",
       "    <tr>\n",
       "      <th>3453</th>\n",
       "      <td>1244545235130220500</td>\n",
       "      <td>146872603</td>\n",
       "    </tr>\n",
       "  </tbody>\n",
       "</table>\n",
       "<p>3454 rows × 2 columns</p>\n",
       "</div>"
      ],
      "text/plain": [
       "                    start             user_id\n",
       "0     1131185677230575600  824207173425262600\n",
       "1     1131215415164702700           123663454\n",
       "2     1131260934087991300           267418667\n",
       "3     1131277493674156000          2186639444\n",
       "4     1131281689051828200  977096243204804600\n",
       "...                   ...                 ...\n",
       "3449  1243899605483323400            66617261\n",
       "3450  1243920892272562200           187541638\n",
       "3451  1244183751820742700           934431504\n",
       "3452  1244521027285045200            52662462\n",
       "3453  1244545235130220500           146872603\n",
       "\n",
       "[3454 rows x 2 columns]"
      ]
     },
     "execution_count": 40,
     "metadata": {},
     "output_type": "execute_result"
    }
   ],
   "source": [
    "unfiltered_a_q = \"\"\"\n",
    "SELECT DISTINCT(id) as 'start', user as 'user_id'\n",
    "FROM tweets\n",
    "WHERE tweets.user != 56377143 AND tweets.id IN ({0}) AND tweets.in_reply_to_user_id = 'null' \n",
    "AND id IN (SELECT DISTINCT(in_reply_to_status_id) FROM tweets WHERE user = 56377143 AND in_reply_to_status_id != 'null')\n",
    "\"\"\".format(','.join([str(x) for x in air_count['KLM']['ids']]))\n",
    "\n",
    "unfiltered_a = pd.read_sql_query(unfiltered_a_q, db)\n",
    "unfiltered_a"
   ]
  },
  {
   "cell_type": "markdown",
   "metadata": {},
   "source": [
    "We have to filter these tweets to those that end in a ABA structured converstion "
   ]
  },
  {
   "cell_type": "markdown",
   "metadata": {},
   "source": [
    "   - going backwards from the third (A) tweet to klm's reply (B) "
   ]
  },
  {
   "cell_type": "code",
   "execution_count": 41,
   "metadata": {
    "scrolled": false
   },
   "outputs": [
    {
     "data": {
      "text/html": [
       "<div>\n",
       "<style scoped>\n",
       "    .dataframe tbody tr th:only-of-type {\n",
       "        vertical-align: middle;\n",
       "    }\n",
       "\n",
       "    .dataframe tbody tr th {\n",
       "        vertical-align: top;\n",
       "    }\n",
       "\n",
       "    .dataframe thead th {\n",
       "        text-align: right;\n",
       "    }\n",
       "</style>\n",
       "<table border=\"1\" class=\"dataframe\">\n",
       "  <thead>\n",
       "    <tr style=\"text-align: right;\">\n",
       "      <th></th>\n",
       "      <th>change</th>\n",
       "      <th>user_id</th>\n",
       "      <th>klms reply</th>\n",
       "    </tr>\n",
       "  </thead>\n",
       "  <tbody>\n",
       "    <tr>\n",
       "      <th>0</th>\n",
       "      <td>1131190988561629200</td>\n",
       "      <td>824207173425262600</td>\n",
       "      <td>1131188287803142100</td>\n",
       "    </tr>\n",
       "    <tr>\n",
       "      <th>1</th>\n",
       "      <td>1131191297312723000</td>\n",
       "      <td>824207173425262600</td>\n",
       "      <td>1131188287803142100</td>\n",
       "    </tr>\n",
       "    <tr>\n",
       "      <th>2</th>\n",
       "      <td>1131283711679508500</td>\n",
       "      <td>2186639444</td>\n",
       "      <td>1131282681692610600</td>\n",
       "    </tr>\n",
       "    <tr>\n",
       "      <th>3</th>\n",
       "      <td>1131283955230105600</td>\n",
       "      <td>977096243204804600</td>\n",
       "      <td>1131283320266993700</td>\n",
       "    </tr>\n",
       "    <tr>\n",
       "      <th>4</th>\n",
       "      <td>1131503882079809500</td>\n",
       "      <td>146872603</td>\n",
       "      <td>1131502675101659100</td>\n",
       "    </tr>\n",
       "    <tr>\n",
       "      <th>...</th>\n",
       "      <td>...</td>\n",
       "      <td>...</td>\n",
       "      <td>...</td>\n",
       "    </tr>\n",
       "    <tr>\n",
       "      <th>770</th>\n",
       "      <td>1243722308457361400</td>\n",
       "      <td>73875631</td>\n",
       "      <td>1243715503677415400</td>\n",
       "    </tr>\n",
       "    <tr>\n",
       "      <th>771</th>\n",
       "      <td>1244351715790459000</td>\n",
       "      <td>1935225229</td>\n",
       "      <td>1243766315908837400</td>\n",
       "    </tr>\n",
       "    <tr>\n",
       "      <th>772</th>\n",
       "      <td>1244550930365927400</td>\n",
       "      <td>146872603</td>\n",
       "      <td>1244550301018992600</td>\n",
       "    </tr>\n",
       "    <tr>\n",
       "      <th>773</th>\n",
       "      <td>1244559335902118000</td>\n",
       "      <td>146872603</td>\n",
       "      <td>1244550301018992600</td>\n",
       "    </tr>\n",
       "    <tr>\n",
       "      <th>774</th>\n",
       "      <td>1244681370061987800</td>\n",
       "      <td>40791505</td>\n",
       "      <td>1244679294036652000</td>\n",
       "    </tr>\n",
       "  </tbody>\n",
       "</table>\n",
       "<p>775 rows × 3 columns</p>\n",
       "</div>"
      ],
      "text/plain": [
       "                  change             user_id           klms reply\n",
       "0    1131190988561629200  824207173425262600  1131188287803142100\n",
       "1    1131191297312723000  824207173425262600  1131188287803142100\n",
       "2    1131283711679508500          2186639444  1131282681692610600\n",
       "3    1131283955230105600  977096243204804600  1131283320266993700\n",
       "4    1131503882079809500           146872603  1131502675101659100\n",
       "..                   ...                 ...                  ...\n",
       "770  1243722308457361400            73875631  1243715503677415400\n",
       "771  1244351715790459000          1935225229  1243766315908837400\n",
       "772  1244550930365927400           146872603  1244550301018992600\n",
       "773  1244559335902118000           146872603  1244550301018992600\n",
       "774  1244681370061987800            40791505  1244679294036652000\n",
       "\n",
       "[775 rows x 3 columns]"
      ]
     },
     "execution_count": 41,
     "metadata": {},
     "output_type": "execute_result"
    }
   ],
   "source": [
    "b_tweets_id = \"\"\"(SELECT DISTINCT(id) FROM tweets WHERE tweets.user = 56377143 AND in_reply_to_status_id IN ({0}))\"\"\".format( ','.join([str(x) for x in unfiltered_a['start']]))\n",
    "b_tweets_in_reply_user = \"\"\"(SELECT DISTINCT(in_reply_to_user_id) FROM tweets WHERE tweets.user = 56377143 AND in_reply_to_status_id IN ({0}))\"\"\".format( ','.join([str(x) for x in unfiltered_a['start']]))\n",
    "a_tweets = \"\"\"(SELECT DISTINCT(in_reply_to_status_id) FROM tweets WHERE tweets.user = 56377143 AND in_reply_to_status_id IN ({0}))\"\"\".format( ','.join([str(x) for x in unfiltered_a['start']]))\n",
    "backward_a_b_q = \"\"\"\n",
    "SELECT DISTINCT(id) as 'change', user as 'user_id', in_reply_to_status_id as 'klms reply'\n",
    "FROM tweets\n",
    "WHERE tweets.user != 56377143 AND tweets.id IN ({0}) AND tweets.user IN {1}\n",
    "AND tweets.in_reply_to_status_id IN {2}\n",
    "\"\"\".format(','.join([str(x) for x in air_count['KLM']['ids']]), b_tweets_in_reply_user, b_tweets_id)\n",
    "backward_a_b = pd.read_sql_query(backward_a_b_q, db)\n",
    "backward_a_b"
   ]
  },
  {
   "cell_type": "markdown",
   "metadata": {},
   "source": [
    "- first (A) tweets from users that ended in a conversation"
   ]
  },
  {
   "cell_type": "code",
   "execution_count": 48,
   "metadata": {},
   "outputs": [
    {
     "data": {
      "text/html": [
       "<div>\n",
       "<style scoped>\n",
       "    .dataframe tbody tr th:only-of-type {\n",
       "        vertical-align: middle;\n",
       "    }\n",
       "\n",
       "    .dataframe tbody tr th {\n",
       "        vertical-align: top;\n",
       "    }\n",
       "\n",
       "    .dataframe thead th {\n",
       "        text-align: right;\n",
       "    }\n",
       "</style>\n",
       "<table border=\"1\" class=\"dataframe\">\n",
       "  <thead>\n",
       "    <tr style=\"text-align: right;\">\n",
       "      <th></th>\n",
       "      <th>start</th>\n",
       "    </tr>\n",
       "  </thead>\n",
       "  <tbody>\n",
       "    <tr>\n",
       "      <th>0</th>\n",
       "      <td>1131185677230575600</td>\n",
       "    </tr>\n",
       "    <tr>\n",
       "      <th>1</th>\n",
       "      <td>1131277493674156000</td>\n",
       "    </tr>\n",
       "    <tr>\n",
       "      <th>2</th>\n",
       "      <td>1131277493674156000</td>\n",
       "    </tr>\n",
       "    <tr>\n",
       "      <th>3</th>\n",
       "      <td>1131281689051828200</td>\n",
       "    </tr>\n",
       "    <tr>\n",
       "      <th>4</th>\n",
       "      <td>1131281689051828200</td>\n",
       "    </tr>\n",
       "    <tr>\n",
       "      <th>...</th>\n",
       "      <td>...</td>\n",
       "    </tr>\n",
       "    <tr>\n",
       "      <th>719</th>\n",
       "      <td>1243172327854047200</td>\n",
       "    </tr>\n",
       "    <tr>\n",
       "      <th>720</th>\n",
       "      <td>1243702683564834800</td>\n",
       "    </tr>\n",
       "    <tr>\n",
       "      <th>721</th>\n",
       "      <td>1241403462379884500</td>\n",
       "    </tr>\n",
       "    <tr>\n",
       "      <th>722</th>\n",
       "      <td>1244545235130220500</td>\n",
       "    </tr>\n",
       "    <tr>\n",
       "      <th>723</th>\n",
       "      <td>1243746434626846700</td>\n",
       "    </tr>\n",
       "  </tbody>\n",
       "</table>\n",
       "<p>724 rows × 1 columns</p>\n",
       "</div>"
      ],
      "text/plain": [
       "                   start\n",
       "0    1131185677230575600\n",
       "1    1131277493674156000\n",
       "2    1131277493674156000\n",
       "3    1131281689051828200\n",
       "4    1131281689051828200\n",
       "..                   ...\n",
       "719  1243172327854047200\n",
       "720  1243702683564834800\n",
       "721  1241403462379884500\n",
       "722  1244545235130220500\n",
       "723  1243746434626846700\n",
       "\n",
       "[724 rows x 1 columns]"
      ]
     },
     "execution_count": 48,
     "metadata": {},
     "output_type": "execute_result"
    }
   ],
   "source": [
    "a_tweets_q = \"\"\"\n",
    "SELECT in_reply_to_status_id as 'start'\n",
    "FROM tweets\n",
    "WHERE id IN ({0})\n",
    "\"\"\".format(','.join([str(x) for x in backward_a_b['klms reply']]))\n",
    "a_tweets = pd.read_sql_query(a_tweets_q, db)\n",
    "a_tweets"
   ]
  },
  {
   "cell_type": "code",
   "execution_count": null,
   "metadata": {},
   "outputs": [],
   "source": []
  }
 ],
 "metadata": {
  "kernelspec": {
   "display_name": "Python 3",
   "language": "python",
   "name": "python3"
  },
  "language_info": {
   "codemirror_mode": {
    "name": "ipython",
    "version": 3
   },
   "file_extension": ".py",
   "mimetype": "text/x-python",
   "name": "python",
   "nbconvert_exporter": "python",
   "pygments_lexer": "ipython3",
   "version": "3.7.6"
  }
 },
 "nbformat": 4,
 "nbformat_minor": 4
}
