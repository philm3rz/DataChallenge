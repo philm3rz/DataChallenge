{
 "cells": [
  {
   "cell_type": "code",
   "execution_count": 1,
   "metadata": {},
   "outputs": [],
   "source": [
    "#import important modules\n",
    "import pandas as pd\n",
    "import matplotlib.pyplot as plt\n",
    "import numpy as np\n",
    "import sklearn as skl\n",
    "import json\n",
    "import pickle\n",
    "import re\n",
    "import pprint\n",
    "import datetime\n",
    "import statistics as st\n",
    "import seaborn as sns"
   ]
  },
  {
   "cell_type": "code",
   "execution_count": 2,
   "metadata": {},
   "outputs": [],
   "source": [
    "import sqlite3\n",
    "high_performance_mode = False #Changed this to default false\n",
    "db_file_path = \"db.db\" #CHANGE THIS\n",
    "from urllib.parse import unquote\n",
    "from urllib.parse import quote"
   ]
  },
  {
   "cell_type": "code",
   "execution_count": 3,
   "metadata": {},
   "outputs": [
    {
     "name": "stdout",
     "output_type": "stream",
     "text": [
      "Loaded\n"
     ]
    }
   ],
   "source": [
    "##DO NOT TOUCH THESE\n",
    "db = sqlite3.connect(\":memory:\")\n",
    "db2 = sqlite3.connect(db_file_path)\n",
    "##DO NOT TOUCH THESE\n",
    "if high_performance_mode:\n",
    "    db2.backup(db)\n",
    "    db2.close()\n",
    "else:\n",
    "    db = db2\n",
    "db.execute('PRAGMA journal_mode = MEMORY')\n",
    "#Rollback journal in mem so that indexing is faster and crashes are catastrophic >:D\n",
    "db.execute('PRAGMA cache_size = 536870912') #<- 512MB in B\n",
    "#This is dinamically resized but the default is really low so let it grow!\n",
    "db.execute('PRAGMA temp_store = MEMORY')\n",
    "#Anything that needs to be generated, do it in mem because faster\n",
    "db.execute('PRAGMA locking_mode = EXCLUSIVE')\n",
    "#Remove lock/unlock overhead let it zoom\n",
    "print(\"Loaded\")"
   ]
  },
  {
   "cell_type": "code",
   "execution_count": 4,
   "metadata": {},
   "outputs": [],
   "source": [
    "c = db.cursor()\n",
    "class Helper:\n",
    "      def __init__(self, db):\n",
    "        self.db = db;\n",
    "        #If anybody wants to use this Google \"SQLite IN\"\n",
    "        self.airline_names = {20626359: 'virginatlantic', 18332190: 'British Airways', 22536055: 'American Airlines', 1542862735: 'Ryanair', 38676903: 'easyJet', 124476322: 'Lufthansa', 218730857: 'Qantas', 106062176: 'Air France', 56377143: 'Royal Dutch Airlines', 45621423: 'SocialLogin%40etihad.ae', 253340062: 'Singapore Airlines', 26223583: 'airberlin', 2182373406: 'airberlin Assist'}\n",
    "        self.airline_ids = [56377143, 106062176, 18332190, 22536055, 124476322, 26223583, 2182373406, 38676903, 1542862735, 253340062, 218730857, 45621423, 20626359]\n",
    "      def exec_custom(self, query: str):\n",
    "        return self.db.execute(query)\n",
    "      def get_vars(self, table: str):\n",
    "        return self.db.execute(\"pragma table_info('{0}');\".format(table))\n",
    "      def get_tables(self): \n",
    "        return self.db.execute(\"SELECT name FROM sqlite_master WHERE type ='table' AND name NOT LIKE 'sqlite_%';\")\n",
    "      def get_tweet(self, id: int, vars, filter):\n",
    "        return self.db.execute(self.build_query('tweets', vars, filter))\n",
    "      def get_user_tweets(self, id: int):\n",
    "        return self.db.execute(self.build_query('tweets', '*', [['user', id]]))\n",
    "      def get_airline_tweets_by_mention(self, id: int, vars):\n",
    "        return self.db.execute(self.build_query('mentions', vars, \"WHERE user_id = '{0}'\".format(id)))\n",
    "      def get_airline_tweets_by_user_id_in_tweet(self, id: int, vars):\n",
    "        return self.db.execute(self.build_query('tweets', vars, \"WHERE user = '{0}'\".format(id)))\n",
    "      def build_query(self, table, return_values, search_values, raw_filter = 0):\n",
    "        def createLimit(limit: list):\n",
    "            return limit[0] + \" = \" + \"'{0}'\".format(limit[1])\n",
    "        #You'd have to sort and/or/* search values and then apply them accordingly because of how the .join function works and im not about that life\n",
    "        #Or use the list comprehension output to process the logic behind it (but usually complex things require brackets and f that)\n",
    "        if(type(search_values) == list):\n",
    "            query = \"select \" + \",\".join(return_values) + \" from \" + table + \" where \" + ' and '.join([createLimit(limit) for limit in search_values])\n",
    "        else:\n",
    "            query = \"select \" + \",\".join(return_values) + \" from \" + table + \" where \" + search_values\n",
    "        return query\n"
   ]
  },
  {
   "cell_type": "code",
   "execution_count": 5,
   "metadata": {},
   "outputs": [],
   "source": [
    "hp = Helper(c)"
   ]
  },
  {
   "cell_type": "code",
   "execution_count": 6,
   "metadata": {},
   "outputs": [
    {
     "name": "stdout",
     "output_type": "stream",
     "text": [
      "<[tweets]>\n",
      "    id\n",
      "    text\n",
      "    in_reply_to_status_id\n",
      "    in_reply_to_user_id\n",
      "    user\n",
      "    retweeted_status\n",
      "    quoted_status\n",
      "    language\n",
      "    timestamp_ms\n",
      "<[users]>\n",
      "    timestamp\n",
      "    id\n",
      "    name\n",
      "    verified\n",
      "    followers_count\n",
      "    friends_count\n",
      "    listed_count\n",
      "    favourites_count\n",
      "    statuses_count\n",
      "    location\n",
      "<[retweets]>\n",
      "    id\n",
      "    in_reply_to_status_id\n",
      "    in_reply_to_user_id\n",
      "    user\n",
      "<[quotes]>\n",
      "    id\n",
      "    in_reply_to_status_id\n",
      "    in_reply_to_user_id\n",
      "    user\n",
      "<[to_delete]>\n",
      "    id\n",
      "    timestamp\n",
      "<[ent_hashtags]>\n",
      "    id\n",
      "    text\n",
      "<[ent_urls]>\n",
      "    id\n",
      "    url\n",
      "<[ent_mentions]>\n",
      "    id\n",
      "    name\n",
      "    user_id\n",
      "<[convs]>\n",
      "    root\n",
      "    reply\n",
      "    id\n",
      "    level\n"
     ]
    }
   ],
   "source": [
    "#See all tables\n",
    "hp_t = Helper(db)\n",
    "for table_name in hp_t.get_tables():\n",
    "    print('<[{0}]>'.format(table_name[0]))\n",
    "    for column_name in hp_t.get_vars(table_name[0]):\n",
    "        print(\"    {0}\".format(column_name[1]))"
   ]
  },
  {
   "cell_type": "code",
   "execution_count": 7,
   "metadata": {},
   "outputs": [],
   "source": [
    "airlines = {'KLM':56377143, \n",
    "            'AirFrance': 106062176, \n",
    "            'British_Airways': 18332190, \n",
    "            'AmericanAir': 22536055, \n",
    "           'Lufthansa': 124476322, \n",
    "           'AirBerlin': 26223583, \n",
    "           'AirBerlinAssist': 2182373406, \n",
    "           'easyJet': 38676903, \n",
    "           'RyanAir': 1542862735, \n",
    "           'SingaporeAir': 253340062, \n",
    "           'Qantas': 218730857, \n",
    "           'EtihadAirways': 45621423, \n",
    "           'VirginAtlantic': 20626359}"
   ]
  },
  {
   "cell_type": "code",
   "execution_count": 8,
   "metadata": {},
   "outputs": [],
   "source": [
    "air_count = pickle.load(open(\"save2.p\", \"rb\"))"
   ]
  },
  {
   "cell_type": "code",
   "execution_count": 9,
   "metadata": {},
   "outputs": [],
   "source": [
    "#noticed there are two keys we don't need\n",
    "del air_count['AirBerlin']['nr_convs']\n",
    "del air_count['AirBerlinAssist']['nr_convs']"
   ]
  },
  {
   "cell_type": "markdown",
   "metadata": {},
   "source": [
    "# A-B-A structure for the sentiment analysis"
   ]
  },
  {
   "cell_type": "markdown",
   "metadata": {},
   "source": [
    "First, find the tweets from users that get a reply later on (only KLM)"
   ]
  },
  {
   "cell_type": "code",
   "execution_count": 10,
   "metadata": {},
   "outputs": [
    {
     "data": {
      "text/html": [
       "<div>\n",
       "<style scoped>\n",
       "    .dataframe tbody tr th:only-of-type {\n",
       "        vertical-align: middle;\n",
       "    }\n",
       "\n",
       "    .dataframe tbody tr th {\n",
       "        vertical-align: top;\n",
       "    }\n",
       "\n",
       "    .dataframe thead th {\n",
       "        text-align: right;\n",
       "    }\n",
       "</style>\n",
       "<table border=\"1\" class=\"dataframe\">\n",
       "  <thead>\n",
       "    <tr style=\"text-align: right;\">\n",
       "      <th></th>\n",
       "      <th>start</th>\n",
       "      <th>user_id</th>\n",
       "    </tr>\n",
       "  </thead>\n",
       "  <tbody>\n",
       "    <tr>\n",
       "      <th>0</th>\n",
       "      <td>1131185677230575600</td>\n",
       "      <td>824207173425262600</td>\n",
       "    </tr>\n",
       "    <tr>\n",
       "      <th>1</th>\n",
       "      <td>1131215415164702700</td>\n",
       "      <td>123663454</td>\n",
       "    </tr>\n",
       "    <tr>\n",
       "      <th>2</th>\n",
       "      <td>1131260934087991300</td>\n",
       "      <td>267418667</td>\n",
       "    </tr>\n",
       "    <tr>\n",
       "      <th>3</th>\n",
       "      <td>1131277493674156000</td>\n",
       "      <td>2186639444</td>\n",
       "    </tr>\n",
       "    <tr>\n",
       "      <th>4</th>\n",
       "      <td>1131281689051828200</td>\n",
       "      <td>977096243204804600</td>\n",
       "    </tr>\n",
       "    <tr>\n",
       "      <th>...</th>\n",
       "      <td>...</td>\n",
       "      <td>...</td>\n",
       "    </tr>\n",
       "    <tr>\n",
       "      <th>3449</th>\n",
       "      <td>1243899605483323400</td>\n",
       "      <td>66617261</td>\n",
       "    </tr>\n",
       "    <tr>\n",
       "      <th>3450</th>\n",
       "      <td>1243920892272562200</td>\n",
       "      <td>187541638</td>\n",
       "    </tr>\n",
       "    <tr>\n",
       "      <th>3451</th>\n",
       "      <td>1244183751820742700</td>\n",
       "      <td>934431504</td>\n",
       "    </tr>\n",
       "    <tr>\n",
       "      <th>3452</th>\n",
       "      <td>1244521027285045200</td>\n",
       "      <td>52662462</td>\n",
       "    </tr>\n",
       "    <tr>\n",
       "      <th>3453</th>\n",
       "      <td>1244545235130220500</td>\n",
       "      <td>146872603</td>\n",
       "    </tr>\n",
       "  </tbody>\n",
       "</table>\n",
       "<p>3454 rows × 2 columns</p>\n",
       "</div>"
      ],
      "text/plain": [
       "                    start             user_id\n",
       "0     1131185677230575600  824207173425262600\n",
       "1     1131215415164702700           123663454\n",
       "2     1131260934087991300           267418667\n",
       "3     1131277493674156000          2186639444\n",
       "4     1131281689051828200  977096243204804600\n",
       "...                   ...                 ...\n",
       "3449  1243899605483323400            66617261\n",
       "3450  1243920892272562200           187541638\n",
       "3451  1244183751820742700           934431504\n",
       "3452  1244521027285045200            52662462\n",
       "3453  1244545235130220500           146872603\n",
       "\n",
       "[3454 rows x 2 columns]"
      ]
     },
     "execution_count": 10,
     "metadata": {},
     "output_type": "execute_result"
    }
   ],
   "source": [
    "unfiltered_a_q = \"\"\"\n",
    "SELECT DISTINCT(id) as 'start', user as 'user_id'\n",
    "FROM tweets\n",
    "WHERE tweets.user != 56377143 AND tweets.id IN ({0}) AND tweets.in_reply_to_user_id = 'null' \n",
    "AND id IN (SELECT DISTINCT(in_reply_to_status_id) FROM tweets WHERE user = 56377143 AND in_reply_to_status_id != 'null')\n",
    "\"\"\".format(','.join([str(x) for x in air_count['KLM']['ids']]))\n",
    "\n",
    "unfiltered_a = pd.read_sql_query(unfiltered_a_q, db)\n",
    "unfiltered_a #these are the tweets directly sent from users that get a reply"
   ]
  },
  {
   "cell_type": "markdown",
   "metadata": {},
   "source": [
    "We have to filter these tweets to those that end in a ABA structured converstion "
   ]
  },
  {
   "cell_type": "markdown",
   "metadata": {},
   "source": [
    "   - going backwards from the third (A) tweet to klm's reply (B) "
   ]
  },
  {
   "cell_type": "code",
   "execution_count": 11,
   "metadata": {
    "scrolled": false
   },
   "outputs": [
    {
     "data": {
      "text/html": [
       "<div>\n",
       "<style scoped>\n",
       "    .dataframe tbody tr th:only-of-type {\n",
       "        vertical-align: middle;\n",
       "    }\n",
       "\n",
       "    .dataframe tbody tr th {\n",
       "        vertical-align: top;\n",
       "    }\n",
       "\n",
       "    .dataframe thead th {\n",
       "        text-align: right;\n",
       "    }\n",
       "</style>\n",
       "<table border=\"1\" class=\"dataframe\">\n",
       "  <thead>\n",
       "    <tr style=\"text-align: right;\">\n",
       "      <th></th>\n",
       "      <th>change</th>\n",
       "      <th>user_id</th>\n",
       "      <th>klms reply</th>\n",
       "    </tr>\n",
       "  </thead>\n",
       "  <tbody>\n",
       "    <tr>\n",
       "      <th>0</th>\n",
       "      <td>1131190988561629200</td>\n",
       "      <td>824207173425262600</td>\n",
       "      <td>1131188287803142100</td>\n",
       "    </tr>\n",
       "    <tr>\n",
       "      <th>1</th>\n",
       "      <td>1131191297312723000</td>\n",
       "      <td>824207173425262600</td>\n",
       "      <td>1131188287803142100</td>\n",
       "    </tr>\n",
       "    <tr>\n",
       "      <th>2</th>\n",
       "      <td>1131283711679508500</td>\n",
       "      <td>2186639444</td>\n",
       "      <td>1131282681692610600</td>\n",
       "    </tr>\n",
       "    <tr>\n",
       "      <th>3</th>\n",
       "      <td>1131283955230105600</td>\n",
       "      <td>977096243204804600</td>\n",
       "      <td>1131283320266993700</td>\n",
       "    </tr>\n",
       "    <tr>\n",
       "      <th>4</th>\n",
       "      <td>1131503882079809500</td>\n",
       "      <td>146872603</td>\n",
       "      <td>1131502675101659100</td>\n",
       "    </tr>\n",
       "    <tr>\n",
       "      <th>...</th>\n",
       "      <td>...</td>\n",
       "      <td>...</td>\n",
       "      <td>...</td>\n",
       "    </tr>\n",
       "    <tr>\n",
       "      <th>770</th>\n",
       "      <td>1243722308457361400</td>\n",
       "      <td>73875631</td>\n",
       "      <td>1243715503677415400</td>\n",
       "    </tr>\n",
       "    <tr>\n",
       "      <th>771</th>\n",
       "      <td>1244351715790459000</td>\n",
       "      <td>1935225229</td>\n",
       "      <td>1243766315908837400</td>\n",
       "    </tr>\n",
       "    <tr>\n",
       "      <th>772</th>\n",
       "      <td>1244550930365927400</td>\n",
       "      <td>146872603</td>\n",
       "      <td>1244550301018992600</td>\n",
       "    </tr>\n",
       "    <tr>\n",
       "      <th>773</th>\n",
       "      <td>1244559335902118000</td>\n",
       "      <td>146872603</td>\n",
       "      <td>1244550301018992600</td>\n",
       "    </tr>\n",
       "    <tr>\n",
       "      <th>774</th>\n",
       "      <td>1244681370061987800</td>\n",
       "      <td>40791505</td>\n",
       "      <td>1244679294036652000</td>\n",
       "    </tr>\n",
       "  </tbody>\n",
       "</table>\n",
       "<p>775 rows × 3 columns</p>\n",
       "</div>"
      ],
      "text/plain": [
       "                  change             user_id           klms reply\n",
       "0    1131190988561629200  824207173425262600  1131188287803142100\n",
       "1    1131191297312723000  824207173425262600  1131188287803142100\n",
       "2    1131283711679508500          2186639444  1131282681692610600\n",
       "3    1131283955230105600  977096243204804600  1131283320266993700\n",
       "4    1131503882079809500           146872603  1131502675101659100\n",
       "..                   ...                 ...                  ...\n",
       "770  1243722308457361400            73875631  1243715503677415400\n",
       "771  1244351715790459000          1935225229  1243766315908837400\n",
       "772  1244550930365927400           146872603  1244550301018992600\n",
       "773  1244559335902118000           146872603  1244550301018992600\n",
       "774  1244681370061987800            40791505  1244679294036652000\n",
       "\n",
       "[775 rows x 3 columns]"
      ]
     },
     "execution_count": 11,
     "metadata": {},
     "output_type": "execute_result"
    }
   ],
   "source": [
    "b_tweets_id = \"\"\"(SELECT DISTINCT(id) FROM tweets WHERE tweets.user = 56377143 AND in_reply_to_status_id IN ({0}))\"\"\".format( ','.join([str(x) for x in unfiltered_a['start']]))\n",
    "b_tweets_in_reply_user = \"\"\"(SELECT DISTINCT(in_reply_to_user_id) FROM tweets WHERE tweets.user = 56377143 AND in_reply_to_status_id IN ({0}))\"\"\".format( ','.join([str(x) for x in unfiltered_a['start']]))\n",
    "a_tweets = \"\"\"(SELECT DISTINCT(in_reply_to_status_id) FROM tweets WHERE tweets.user = 56377143 AND in_reply_to_status_id IN ({0}))\"\"\".format( ','.join([str(x) for x in unfiltered_a['start']]))\n",
    "backward_a_b_q = \"\"\"\n",
    "SELECT DISTINCT(id) as 'change', user as 'user_id', in_reply_to_status_id as 'klms reply'\n",
    "FROM tweets\n",
    "WHERE tweets.user != 56377143 AND tweets.id IN ({0}) AND tweets.user IN {1}\n",
    "AND tweets.in_reply_to_status_id IN {2}\n",
    "\"\"\".format(','.join([str(x) for x in air_count['KLM']['ids']]), b_tweets_in_reply_user, b_tweets_id)\n",
    "backward_a_b = pd.read_sql_query(backward_a_b_q, db)\n",
    "backward_a_b #klms reply to original user tweet and a users reply to that reply"
   ]
  },
  {
   "cell_type": "markdown",
   "metadata": {},
   "source": [
    "- first (A) tweets from users that ended in a conversation"
   ]
  },
  {
   "cell_type": "code",
   "execution_count": 12,
   "metadata": {},
   "outputs": [
    {
     "data": {
      "text/html": [
       "<div>\n",
       "<style scoped>\n",
       "    .dataframe tbody tr th:only-of-type {\n",
       "        vertical-align: middle;\n",
       "    }\n",
       "\n",
       "    .dataframe tbody tr th {\n",
       "        vertical-align: top;\n",
       "    }\n",
       "\n",
       "    .dataframe thead th {\n",
       "        text-align: right;\n",
       "    }\n",
       "</style>\n",
       "<table border=\"1\" class=\"dataframe\">\n",
       "  <thead>\n",
       "    <tr style=\"text-align: right;\">\n",
       "      <th></th>\n",
       "      <th>start</th>\n",
       "    </tr>\n",
       "  </thead>\n",
       "  <tbody>\n",
       "    <tr>\n",
       "      <th>0</th>\n",
       "      <td>1131185677230575600</td>\n",
       "    </tr>\n",
       "    <tr>\n",
       "      <th>1</th>\n",
       "      <td>1131277493674156000</td>\n",
       "    </tr>\n",
       "    <tr>\n",
       "      <th>2</th>\n",
       "      <td>1131277493674156000</td>\n",
       "    </tr>\n",
       "    <tr>\n",
       "      <th>3</th>\n",
       "      <td>1131281689051828200</td>\n",
       "    </tr>\n",
       "    <tr>\n",
       "      <th>4</th>\n",
       "      <td>1131281689051828200</td>\n",
       "    </tr>\n",
       "    <tr>\n",
       "      <th>...</th>\n",
       "      <td>...</td>\n",
       "    </tr>\n",
       "    <tr>\n",
       "      <th>719</th>\n",
       "      <td>1243172327854047200</td>\n",
       "    </tr>\n",
       "    <tr>\n",
       "      <th>720</th>\n",
       "      <td>1243702683564834800</td>\n",
       "    </tr>\n",
       "    <tr>\n",
       "      <th>721</th>\n",
       "      <td>1241403462379884500</td>\n",
       "    </tr>\n",
       "    <tr>\n",
       "      <th>722</th>\n",
       "      <td>1244545235130220500</td>\n",
       "    </tr>\n",
       "    <tr>\n",
       "      <th>723</th>\n",
       "      <td>1243746434626846700</td>\n",
       "    </tr>\n",
       "  </tbody>\n",
       "</table>\n",
       "<p>724 rows × 1 columns</p>\n",
       "</div>"
      ],
      "text/plain": [
       "                   start\n",
       "0    1131185677230575600\n",
       "1    1131277493674156000\n",
       "2    1131277493674156000\n",
       "3    1131281689051828200\n",
       "4    1131281689051828200\n",
       "..                   ...\n",
       "719  1243172327854047200\n",
       "720  1243702683564834800\n",
       "721  1241403462379884500\n",
       "722  1244545235130220500\n",
       "723  1243746434626846700\n",
       "\n",
       "[724 rows x 1 columns]"
      ]
     },
     "execution_count": 12,
     "metadata": {},
     "output_type": "execute_result"
    }
   ],
   "source": [
    "a_tweets_q = \"\"\"\n",
    "SELECT in_reply_to_status_id as 'start'\n",
    "FROM tweets\n",
    "WHERE id IN ({0})\n",
    "\"\"\".format(','.join([str(x) for x in backward_a_b['klms reply']]))\n",
    "a_tweets = pd.read_sql_query(a_tweets_q, db)\n",
    "a_tweets #filtered original first tweets that get a reply and reply to a reply "
   ]
  },
  {
   "cell_type": "markdown",
   "metadata": {},
   "source": [
    "# Plots for user followers "
   ]
  },
  {
   "cell_type": "markdown",
   "metadata": {},
   "source": [
    "- KLM received about 133 000 tweets from users (whether directly or as a reply)\n",
    "- did they respond more to popular users?"
   ]
  },
  {
   "cell_type": "code",
   "execution_count": 24,
   "metadata": {},
   "outputs": [
    {
     "data": {
      "text/html": [
       "<div>\n",
       "<style scoped>\n",
       "    .dataframe tbody tr th:only-of-type {\n",
       "        vertical-align: middle;\n",
       "    }\n",
       "\n",
       "    .dataframe tbody tr th {\n",
       "        vertical-align: top;\n",
       "    }\n",
       "\n",
       "    .dataframe thead th {\n",
       "        text-align: right;\n",
       "    }\n",
       "</style>\n",
       "<table border=\"1\" class=\"dataframe\">\n",
       "  <thead>\n",
       "    <tr style=\"text-align: right;\">\n",
       "      <th></th>\n",
       "      <th>user</th>\n",
       "      <th>followers_count</th>\n",
       "    </tr>\n",
       "  </thead>\n",
       "  <tbody>\n",
       "    <tr>\n",
       "      <th>0</th>\n",
       "      <td>824207173425262600</td>\n",
       "      <td>3694</td>\n",
       "    </tr>\n",
       "    <tr>\n",
       "      <th>1</th>\n",
       "      <td>123663454</td>\n",
       "      <td>3753</td>\n",
       "    </tr>\n",
       "    <tr>\n",
       "      <th>2</th>\n",
       "      <td>267418667</td>\n",
       "      <td>3766</td>\n",
       "    </tr>\n",
       "    <tr>\n",
       "      <th>3</th>\n",
       "      <td>2186639444</td>\n",
       "      <td>360</td>\n",
       "    </tr>\n",
       "    <tr>\n",
       "      <th>4</th>\n",
       "      <td>977096243204804600</td>\n",
       "      <td>364</td>\n",
       "    </tr>\n",
       "    <tr>\n",
       "      <th>...</th>\n",
       "      <td>...</td>\n",
       "      <td>...</td>\n",
       "    </tr>\n",
       "    <tr>\n",
       "      <th>3449</th>\n",
       "      <td>66617261</td>\n",
       "      <td>34422</td>\n",
       "    </tr>\n",
       "    <tr>\n",
       "      <th>3450</th>\n",
       "      <td>187541638</td>\n",
       "      <td>33532</td>\n",
       "    </tr>\n",
       "    <tr>\n",
       "      <th>3451</th>\n",
       "      <td>934431504</td>\n",
       "      <td>33428</td>\n",
       "    </tr>\n",
       "    <tr>\n",
       "      <th>3452</th>\n",
       "      <td>52662462</td>\n",
       "      <td>33428</td>\n",
       "    </tr>\n",
       "    <tr>\n",
       "      <th>3453</th>\n",
       "      <td>146872603</td>\n",
       "      <td>33510</td>\n",
       "    </tr>\n",
       "  </tbody>\n",
       "</table>\n",
       "<p>3454 rows × 2 columns</p>\n",
       "</div>"
      ],
      "text/plain": [
       "                    user  followers_count\n",
       "0     824207173425262600             3694\n",
       "1              123663454             3753\n",
       "2              267418667             3766\n",
       "3             2186639444              360\n",
       "4     977096243204804600              364\n",
       "...                  ...              ...\n",
       "3449            66617261            34422\n",
       "3450           187541638            33532\n",
       "3451           934431504            33428\n",
       "3452            52662462            33428\n",
       "3453           146872603            33510\n",
       "\n",
       "[3454 rows x 2 columns]"
      ]
     },
     "execution_count": 24,
     "metadata": {},
     "output_type": "execute_result"
    }
   ],
   "source": [
    "followers = pd.DataFrame()\n",
    "followers['user'] = unfiltered_a['user_id'] #users that sent a request and got an answer\n",
    "\n",
    "followers_q = \"\"\"\n",
    "SELECT followers_count\n",
    "FROM users\n",
    "WHERE id IN ({0})\n",
    "\"\"\".format(','.join([str(x) for x in followers['user']]))\n",
    "#get the number of followers from these users \n",
    "followers_2 = pd.read_sql_query(followers_2_q, db)\n",
    "followers['followers_count'] = followers_2['followers_count']\n",
    "followers"
   ]
  },
  {
   "cell_type": "code",
   "execution_count": 25,
   "metadata": {},
   "outputs": [
    {
     "data": {
      "image/png": "[encoded data removed]",
      "text/plain": [
       "<Figure size 1080x720 with 1 Axes>"
      ]
     },
     "metadata": {
      "needs_background": "light"
     },
     "output_type": "display_data"
    }
   ],
   "source": [
    "plt.figure(figsize=(15,10))\n",
    "sns.distplot(followers['followers_count'], hist=False, kde_kws = {'shade': True})\n",
    "plt.title('Number of followers from users that got a reply from KLM', size=20);"
   ]
  },
  {
   "cell_type": "markdown",
   "metadata": {},
   "source": [
    "This only shows us the absolute numbers of the followers count. Now we will bin the numbers and check for percentages of KLM's replies to those 'popularity bins' of customers "
   ]
  },
  {
   "cell_type": "code",
   "execution_count": 34,
   "metadata": {},
   "outputs": [
    {
     "data": {
      "text/plain": [
       "[177.0,\n",
       " 459.0,\n",
       " 886.0,\n",
       " 1330.0,\n",
       " 1729.0,\n",
       " 2346.0,\n",
       " 3353.0,\n",
       " 7649.0,\n",
       " 19056.0,\n",
       " 4867376.0]"
      ]
     },
     "execution_count": 34,
     "metadata": {},
     "output_type": "execute_result"
    }
   ],
   "source": [
    "bins = [np.percentile(followers['followers_count'], (n+1)*10) for n in range(10)] \n",
    "for i in range(len(bins)):\n",
    "    bins[i] = round(bins[i])\n",
    "bins #these are the percentiles of followers_count"
   ]
  },
  {
   "cell_type": "code",
   "execution_count": 35,
   "metadata": {},
   "outputs": [
    {
     "data": {
      "text/plain": [
       "[1217, 1836, 2215, 2423, 2538, 2649, 2763, 2893, 2969, 3051]"
      ]
     },
     "execution_count": 35,
     "metadata": {},
     "output_type": "execute_result"
    }
   ],
   "source": [
    "cum_freq = []\n",
    "for i in bins:\n",
    "    bins_q = \"\"\"\n",
    "    SELECT COUNT(DISTINCT(id))\n",
    "    FROM users\n",
    "    WHERE id IN ({0}) AND followers_count <= {1}\n",
    "    \"\"\".format(','.join([str(x) for x in followers['user']]), i)\n",
    "    for row in hp.exec_custom(bins_q):\n",
    "        cum_freq.append(row[0])\n",
    "cum_freq #how many users there are with less or equal to every followers_count percentile"
   ]
  },
  {
   "cell_type": "markdown",
   "metadata": {},
   "source": [
    "We now get how many users that got a reply there are in each bin"
   ]
  },
  {
   "cell_type": "code",
   "execution_count": 36,
   "metadata": {},
   "outputs": [
    {
     "data": {
      "text/plain": [
       "[1217, 619, 379, 208, 115, 111, 114, 130, 76, 82]"
      ]
     },
     "execution_count": 36,
     "metadata": {},
     "output_type": "execute_result"
    }
   ],
   "source": [
    "bin_freq = [cum_freq[0]]\n",
    "for i in range(len(cum_freq)-1):\n",
    "    bin_freq.append(cum_freq[i+1]-cum_freq[i])\n",
    "bin_freq"
   ]
  },
  {
   "cell_type": "code",
   "execution_count": 37,
   "metadata": {},
   "outputs": [
    {
     "data": {
      "text/html": [
       "<div>\n",
       "<style scoped>\n",
       "    .dataframe tbody tr th:only-of-type {\n",
       "        vertical-align: middle;\n",
       "    }\n",
       "\n",
       "    .dataframe tbody tr th {\n",
       "        vertical-align: top;\n",
       "    }\n",
       "\n",
       "    .dataframe thead th {\n",
       "        text-align: right;\n",
       "    }\n",
       "</style>\n",
       "<table border=\"1\" class=\"dataframe\">\n",
       "  <thead>\n",
       "    <tr style=\"text-align: right;\">\n",
       "      <th></th>\n",
       "      <th>start</th>\n",
       "      <th>user_id</th>\n",
       "    </tr>\n",
       "  </thead>\n",
       "  <tbody>\n",
       "    <tr>\n",
       "      <th>0</th>\n",
       "      <td>1131173345435762700</td>\n",
       "      <td>67642736</td>\n",
       "    </tr>\n",
       "    <tr>\n",
       "      <th>1</th>\n",
       "      <td>1131173692086599700</td>\n",
       "      <td>728236673037914100</td>\n",
       "    </tr>\n",
       "    <tr>\n",
       "      <th>2</th>\n",
       "      <td>1131175578869092400</td>\n",
       "      <td>1065921377654444000</td>\n",
       "    </tr>\n",
       "    <tr>\n",
       "      <th>3</th>\n",
       "      <td>1131179496994934800</td>\n",
       "      <td>56459096</td>\n",
       "    </tr>\n",
       "    <tr>\n",
       "      <th>4</th>\n",
       "      <td>1131179799764983800</td>\n",
       "      <td>976913773381537800</td>\n",
       "    </tr>\n",
       "    <tr>\n",
       "      <th>...</th>\n",
       "      <td>...</td>\n",
       "      <td>...</td>\n",
       "    </tr>\n",
       "    <tr>\n",
       "      <th>55817</th>\n",
       "      <td>1244693028524130300</td>\n",
       "      <td>80128823</td>\n",
       "    </tr>\n",
       "    <tr>\n",
       "      <th>55818</th>\n",
       "      <td>1244693094412533800</td>\n",
       "      <td>80128823</td>\n",
       "    </tr>\n",
       "    <tr>\n",
       "      <th>55819</th>\n",
       "      <td>1244693824519184400</td>\n",
       "      <td>1870191091</td>\n",
       "    </tr>\n",
       "    <tr>\n",
       "      <th>55820</th>\n",
       "      <td>1244694239793070000</td>\n",
       "      <td>314566049</td>\n",
       "    </tr>\n",
       "    <tr>\n",
       "      <th>55821</th>\n",
       "      <td>1244696155851837400</td>\n",
       "      <td>91104226</td>\n",
       "    </tr>\n",
       "  </tbody>\n",
       "</table>\n",
       "<p>55822 rows × 2 columns</p>\n",
       "</div>"
      ],
      "text/plain": [
       "                     start              user_id\n",
       "0      1131173345435762700             67642736\n",
       "1      1131173692086599700   728236673037914100\n",
       "2      1131175578869092400  1065921377654444000\n",
       "3      1131179496994934800             56459096\n",
       "4      1131179799764983800   976913773381537800\n",
       "...                    ...                  ...\n",
       "55817  1244693028524130300             80128823\n",
       "55818  1244693094412533800             80128823\n",
       "55819  1244693824519184400           1870191091\n",
       "55820  1244694239793070000            314566049\n",
       "55821  1244696155851837400             91104226\n",
       "\n",
       "[55822 rows x 2 columns]"
      ]
     },
     "execution_count": 37,
     "metadata": {},
     "output_type": "execute_result"
    }
   ],
   "source": [
    "sent_from_users_q = \"\"\"\n",
    "SELECT DISTINCT(tweets.id) as 'start', tweets.user as 'user_id'\n",
    "FROM tweets\n",
    "WHERE user != 56377143 AND id IN ({0}) AND in_reply_to_user_id = 'null' \n",
    "\"\"\".format(','.join([str(x) for x in air_count['KLM']['ids']]))\n",
    "\n",
    "all_sent_direct = pd.read_sql_query(sent_from_users_q, db)\n",
    "all_sent_direct #all requests from users to klm whether replied or not "
   ]
  },
  {
   "cell_type": "code",
   "execution_count": 38,
   "metadata": {},
   "outputs": [
    {
     "data": {
      "text/html": [
       "<div>\n",
       "<style scoped>\n",
       "    .dataframe tbody tr th:only-of-type {\n",
       "        vertical-align: middle;\n",
       "    }\n",
       "\n",
       "    .dataframe tbody tr th {\n",
       "        vertical-align: top;\n",
       "    }\n",
       "\n",
       "    .dataframe thead th {\n",
       "        text-align: right;\n",
       "    }\n",
       "</style>\n",
       "<table border=\"1\" class=\"dataframe\">\n",
       "  <thead>\n",
       "    <tr style=\"text-align: right;\">\n",
       "      <th></th>\n",
       "      <th>user</th>\n",
       "      <th>followers_count</th>\n",
       "    </tr>\n",
       "  </thead>\n",
       "  <tbody>\n",
       "    <tr>\n",
       "      <th>0</th>\n",
       "      <td>67642736</td>\n",
       "      <td>109</td>\n",
       "    </tr>\n",
       "    <tr>\n",
       "      <th>1</th>\n",
       "      <td>728236673037914100</td>\n",
       "      <td>44323</td>\n",
       "    </tr>\n",
       "    <tr>\n",
       "      <th>2</th>\n",
       "      <td>1065921377654444000</td>\n",
       "      <td>20</td>\n",
       "    </tr>\n",
       "    <tr>\n",
       "      <th>3</th>\n",
       "      <td>56459096</td>\n",
       "      <td>732</td>\n",
       "    </tr>\n",
       "    <tr>\n",
       "      <th>4</th>\n",
       "      <td>976913773381537800</td>\n",
       "      <td>1629</td>\n",
       "    </tr>\n",
       "    <tr>\n",
       "      <th>...</th>\n",
       "      <td>...</td>\n",
       "      <td>...</td>\n",
       "    </tr>\n",
       "    <tr>\n",
       "      <th>55817</th>\n",
       "      <td>80128823</td>\n",
       "      <td>441</td>\n",
       "    </tr>\n",
       "    <tr>\n",
       "      <th>55818</th>\n",
       "      <td>80128823</td>\n",
       "      <td>770</td>\n",
       "    </tr>\n",
       "    <tr>\n",
       "      <th>55819</th>\n",
       "      <td>1870191091</td>\n",
       "      <td>393</td>\n",
       "    </tr>\n",
       "    <tr>\n",
       "      <th>55820</th>\n",
       "      <td>314566049</td>\n",
       "      <td>385</td>\n",
       "    </tr>\n",
       "    <tr>\n",
       "      <th>55821</th>\n",
       "      <td>91104226</td>\n",
       "      <td>4090</td>\n",
       "    </tr>\n",
       "  </tbody>\n",
       "</table>\n",
       "<p>55822 rows × 2 columns</p>\n",
       "</div>"
      ],
      "text/plain": [
       "                      user  followers_count\n",
       "0                 67642736              109\n",
       "1       728236673037914100            44323\n",
       "2      1065921377654444000               20\n",
       "3                 56459096              732\n",
       "4       976913773381537800             1629\n",
       "...                    ...              ...\n",
       "55817             80128823              441\n",
       "55818             80128823              770\n",
       "55819           1870191091              393\n",
       "55820            314566049              385\n",
       "55821             91104226             4090\n",
       "\n",
       "[55822 rows x 2 columns]"
      ]
     },
     "execution_count": 38,
     "metadata": {},
     "output_type": "execute_result"
    }
   ],
   "source": [
    "followers_all = pd.DataFrame()\n",
    "followers_all['user'] = all_sent_direct['user_id']\n",
    "\n",
    "followers_all_q = \"\"\"\n",
    "SELECT followers_count\n",
    "FROM users\n",
    "WHERE id IN ({0})\n",
    "\"\"\".format(','.join([str(x) for x in followers_all['user']]))\n",
    "#get the number of followers from these users \n",
    "followers_all_2 = pd.read_sql_query(followers_all_q, db)\n",
    "followers_all['followers_count'] = followers_all_2['followers_count']\n",
    "followers_all"
   ]
  },
  {
   "cell_type": "code",
   "execution_count": 41,
   "metadata": {},
   "outputs": [
    {
     "data": {
      "text/plain": [
       "[9719, 14507, 17888, 19828, 21009, 22247, 23463, 25342, 26560, 27953]"
      ]
     },
     "execution_count": 41,
     "metadata": {},
     "output_type": "execute_result"
    }
   ],
   "source": [
    "cum_freq_all = []\n",
    "for i in bins:\n",
    "    bins_q = \"\"\"\n",
    "    SELECT COUNT(DISTINCT(id))\n",
    "    FROM users\n",
    "    WHERE id IN ({0}) AND followers_count <= {1}\n",
    "    \"\"\".format(','.join([str(x) for x in all_sent_direct['user_id']]), i)\n",
    "    for row in hp.exec_custom(bins_q):\n",
    "        cum_freq_all.append(row[0])\n",
    "cum_freq_all #how many users there are with less or equal to every followers_count percentile   "
   ]
  },
  {
   "cell_type": "code",
   "execution_count": 42,
   "metadata": {},
   "outputs": [
    {
     "data": {
      "text/plain": [
       "[9719, 4788, 3381, 1940, 1181, 1238, 1216, 1879, 1218, 1393]"
      ]
     },
     "execution_count": 42,
     "metadata": {},
     "output_type": "execute_result"
    }
   ],
   "source": [
    "bin_freq_all = [cum_freq_all[0]]\n",
    "for i in range(len(cum_freq_all)-1):\n",
    "    bin_freq_all.append(cum_freq_all[i+1]-cum_freq_all[i])\n",
    "bin_freq_all "
   ]
  },
  {
   "cell_type": "code",
   "execution_count": 55,
   "metadata": {},
   "outputs": [],
   "source": [
    "ratio_per_bin = pd.DataFrame({'percentile_followers' : ['0-10', '10-20', '20-30', '30-40', '40-50', '50-60', '60-70', '70-80', '80-90', '90-100']})\n",
    "#added bins for the x axis\n",
    "ratios = [] \n",
    "for i in range(len(bin_freq)):\n",
    "    ratios.append(bin_freq[i]/bin_freq_all[i])\n",
    "ratio_per_bin['ratio'] = ratios #ratio of tweets that get a reply to all sent for each bin"
   ]
  },
  {
   "cell_type": "code",
   "execution_count": 56,
   "metadata": {},
   "outputs": [
    {
     "data": {
      "text/html": [
       "<div>\n",
       "<style scoped>\n",
       "    .dataframe tbody tr th:only-of-type {\n",
       "        vertical-align: middle;\n",
       "    }\n",
       "\n",
       "    .dataframe tbody tr th {\n",
       "        vertical-align: top;\n",
       "    }\n",
       "\n",
       "    .dataframe thead th {\n",
       "        text-align: right;\n",
       "    }\n",
       "</style>\n",
       "<table border=\"1\" class=\"dataframe\">\n",
       "  <thead>\n",
       "    <tr style=\"text-align: right;\">\n",
       "      <th></th>\n",
       "      <th>percentile_followers</th>\n",
       "      <th>ratio</th>\n",
       "    </tr>\n",
       "  </thead>\n",
       "  <tbody>\n",
       "    <tr>\n",
       "      <th>0</th>\n",
       "      <td>0-10</td>\n",
       "      <td>0.125219</td>\n",
       "    </tr>\n",
       "    <tr>\n",
       "      <th>1</th>\n",
       "      <td>10-20</td>\n",
       "      <td>0.129282</td>\n",
       "    </tr>\n",
       "    <tr>\n",
       "      <th>2</th>\n",
       "      <td>20-30</td>\n",
       "      <td>0.112097</td>\n",
       "    </tr>\n",
       "    <tr>\n",
       "      <th>3</th>\n",
       "      <td>30-40</td>\n",
       "      <td>0.107216</td>\n",
       "    </tr>\n",
       "    <tr>\n",
       "      <th>4</th>\n",
       "      <td>40-50</td>\n",
       "      <td>0.097375</td>\n",
       "    </tr>\n",
       "    <tr>\n",
       "      <th>5</th>\n",
       "      <td>50-60</td>\n",
       "      <td>0.089661</td>\n",
       "    </tr>\n",
       "    <tr>\n",
       "      <th>6</th>\n",
       "      <td>60-70</td>\n",
       "      <td>0.093750</td>\n",
       "    </tr>\n",
       "    <tr>\n",
       "      <th>7</th>\n",
       "      <td>70-80</td>\n",
       "      <td>0.069186</td>\n",
       "    </tr>\n",
       "    <tr>\n",
       "      <th>8</th>\n",
       "      <td>80-90</td>\n",
       "      <td>0.062397</td>\n",
       "    </tr>\n",
       "    <tr>\n",
       "      <th>9</th>\n",
       "      <td>90-100</td>\n",
       "      <td>0.058866</td>\n",
       "    </tr>\n",
       "  </tbody>\n",
       "</table>\n",
       "</div>"
      ],
      "text/plain": [
       "  percentile_followers     ratio\n",
       "0                 0-10  0.125219\n",
       "1                10-20  0.129282\n",
       "2                20-30  0.112097\n",
       "3                30-40  0.107216\n",
       "4                40-50  0.097375\n",
       "5                50-60  0.089661\n",
       "6                60-70  0.093750\n",
       "7                70-80  0.069186\n",
       "8                80-90  0.062397\n",
       "9               90-100  0.058866"
      ]
     },
     "execution_count": 56,
     "metadata": {},
     "output_type": "execute_result"
    }
   ],
   "source": [
    "ratio_per_bin"
   ]
  },
  {
   "cell_type": "code",
   "execution_count": 79,
   "metadata": {},
   "outputs": [
    {
     "data": {
      "image/png": "[encoded data removed]",
      "text/plain": [
       "<Figure size 1080x504 with 1 Axes>"
      ]
     },
     "metadata": {
      "needs_background": "light"
     },
     "output_type": "display_data"
    }
   ],
   "source": [
    "plt.figure(figsize=(15, 7))\n",
    "plt.bar(ratio_per_bin['percentile_followers'], ratio_per_bin['ratio'])\n",
    "plt.title(\"Respond ratio per 'popularity' group of users\", size=20)\n",
    "plt.xlabel('Percentile bins based on the number of followers users have', size=14)\n",
    "plt.ylabel('Ratio of replies from KLM', size=14)\n",
    "plt.ylim(0, 0.2)\n",
    "plt.text(x='0-10', y=0.175, s='Less popular users', fontsize=12)\n",
    "plt.text(x='80-90', y=0.175, s='More popular users', fontsize=12)\n",
    "plt.arrow(x=2, y=0.175, dx=5.5, dy=0, shape='right');"
   ]
  },
  {
   "cell_type": "code",
   "execution_count": null,
   "metadata": {},
   "outputs": [],
   "source": []
  }
 ],
 "metadata": {
  "kernelspec": {
   "display_name": "Python 3",
   "language": "python",
   "name": "python3"
  },
  "language_info": {
   "codemirror_mode": {
    "name": "ipython",
    "version": 3
   },
   "file_extension": ".py",
   "mimetype": "text/x-python",
   "name": "python",
   "nbconvert_exporter": "python",
   "pygments_lexer": "ipython3",
   "version": "3.7.6"
  }
 },
 "nbformat": 4,
 "nbformat_minor": 4
}
