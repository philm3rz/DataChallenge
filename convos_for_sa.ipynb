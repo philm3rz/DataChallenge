{
 "cells": [
  {
   "cell_type": "code",
   "execution_count": null,
   "metadata": {},
   "outputs": [],
   "source": [
    "#import important modules\n",
    "import pandas as pd\n",
    "import matplotlib.pyplot as plt\n",
    "import numpy as np\n",
    "import sklearn as skl\n",
    "import json\n",
    "import pickle\n",
    "import re\n",
    "import pprint\n",
    "import datetime\n",
    "import statistics as st"
   ]
  },
  {
   "cell_type": "code",
   "execution_count": null,
   "metadata": {},
   "outputs": [],
   "source": [
    "import sqlite3\n",
    "high_performance_mode = False #Changed this to default false\n",
    "db_file_path = \"db.db\" #CHANGE THIS\n",
    "from urllib.parse import unquote\n",
    "from urllib.parse import quote"
   ]
  },
  {
   "cell_type": "code",
   "execution_count": null,
   "metadata": {},
   "outputs": [],
   "source": [
    "##DO NOT TOUCH THESE\n",
    "db = sqlite3.connect(\":memory:\")\n",
    "db2 = sqlite3.connect(db_file_path)\n",
    "##DO NOT TOUCH THESE\n",
    "if high_performance_mode:\n",
    "    db2.backup(db)\n",
    "    db2.close()\n",
    "else:\n",
    "    db = db2\n",
    "db.execute('PRAGMA journal_mode = MEMORY')\n",
    "#Rollback journal in mem so that indexing is faster and crashes are catastrophic >:D\n",
    "db.execute('PRAGMA cache_size = 536870912') #<- 512MB in B\n",
    "#This is dinamically resized but the default is really low so let it grow!\n",
    "db.execute('PRAGMA temp_store = MEMORY')\n",
    "#Anything that needs to be generated, do it in mem because faster\n",
    "db.execute('PRAGMA locking_mode = EXCLUSIVE')\n",
    "#Remove lock/unlock overhead let it zoom\n",
    "print(\"Loaded\")"
   ]
  },
  {
   "cell_type": "code",
   "execution_count": null,
   "metadata": {},
   "outputs": [],
   "source": [
    "c = db.cursor()\n",
    "class Helper:\n",
    "      def __init__(self, db):\n",
    "        self.db = db;\n",
    "        #If anybody wants to use this Google \"SQLite IN\"\n",
    "        self.airline_names = {20626359: 'virginatlantic', 18332190: 'British Airways', 22536055: 'American Airlines', 1542862735: 'Ryanair', 38676903: 'easyJet', 124476322: 'Lufthansa', 218730857: 'Qantas', 106062176: 'Air France', 56377143: 'Royal Dutch Airlines', 45621423: 'SocialLogin%40etihad.ae', 253340062: 'Singapore Airlines', 26223583: 'airberlin', 2182373406: 'airberlin Assist'}\n",
    "        self.airline_ids = [56377143, 106062176, 18332190, 22536055, 124476322, 26223583, 2182373406, 38676903, 1542862735, 253340062, 218730857, 45621423, 20626359]\n",
    "      def exec_custom(self, query: str):\n",
    "        return self.db.execute(query)\n",
    "      def get_vars(self, table: str):\n",
    "        return self.db.execute(\"pragma table_info('{0}');\".format(table))\n",
    "      def get_tables(self): \n",
    "        return self.db.execute(\"SELECT name FROM sqlite_master WHERE type ='table' AND name NOT LIKE 'sqlite_%';\")\n",
    "      def get_tweet(self, id: int, vars, filter):\n",
    "        return self.db.execute(self.build_query('tweets', vars, filter))\n",
    "      def get_user_tweets(self, id: int):\n",
    "        return self.db.execute(self.build_query('tweets', '*', [['user', id]]))\n",
    "      def get_airline_tweets_by_mention(self, id: int, vars):\n",
    "        return self.db.execute(self.build_query('mentions', vars, \"WHERE user_id = '{0}'\".format(id)))\n",
    "      def get_airline_tweets_by_user_id_in_tweet(self, id: int, vars):\n",
    "        return self.db.execute(self.build_query('tweets', vars, \"WHERE user = '{0}'\".format(id)))\n",
    "      def build_query(self, table, return_values, search_values, raw_filter = 0):\n",
    "        def createLimit(limit: list):\n",
    "            return limit[0] + \" = \" + \"'{0}'\".format(limit[1])\n",
    "        #You'd have to sort and/or/* search values and then apply them accordingly because of how the .join function works and im not about that life\n",
    "        #Or use the list comprehension output to process the logic behind it (but usually complex things require brackets and f that)\n",
    "        if(type(search_values) == list):\n",
    "            query = \"select \" + \",\".join(return_values) + \" from \" + table + \" where \" + ' and '.join([createLimit(limit) for limit in search_values])\n",
    "        else:\n",
    "            query = \"select \" + \",\".join(return_values) + \" from \" + table + \" where \" + search_values\n",
    "        return query\n"
   ]
  },
  {
   "cell_type": "code",
   "execution_count": null,
   "metadata": {},
   "outputs": [],
   "source": [
    "hp = Helper(c)"
   ]
  },
  {
   "cell_type": "code",
   "execution_count": null,
   "metadata": {},
   "outputs": [],
   "source": [
    "#See all tables\n",
    "hp_t = Helper(db)\n",
    "for table_name in hp_t.get_tables():\n",
    "    print('<[{0}]>'.format(table_name[0]))\n",
    "    for column_name in hp_t.get_vars(table_name[0]):\n",
    "        print(\"    {0}\".format(column_name[1]))"
   ]
  },
  {
   "cell_type": "code",
   "execution_count": null,
   "metadata": {},
   "outputs": [],
   "source": [
    "airlines = {'KLM':56377143, \n",
    "            'AirFrance': 106062176, \n",
    "            'British_Airways': 18332190, \n",
    "            'AmericanAir': 22536055, \n",
    "           'Lufthansa': 124476322, \n",
    "           'AirBerlin': 26223583, \n",
    "           'AirBerlinAssist': 2182373406, \n",
    "           'easyJet': 38676903, \n",
    "           'RyanAir': 1542862735, \n",
    "           'SingaporeAir': 253340062, \n",
    "           'Qantas': 218730857, \n",
    "           'EtihadAirways': 45621423, \n",
    "           'VirginAtlantic': 20626359}"
   ]
  },
  {
   "cell_type": "code",
   "execution_count": null,
   "metadata": {},
   "outputs": [],
   "source": [
    "air_count = pickle.load(open(\"save2.p\", \"rb\"))"
   ]
  },
  {
   "cell_type": "code",
   "execution_count": null,
   "metadata": {},
   "outputs": [],
   "source": [
    "#noticed there are two keys we don't need\n",
    "del air_count['AirBerlin']['nr_convs']\n",
    "del air_count['AirBerlinAssist']['nr_convs']"
   ]
  },
  {
   "cell_type": "markdown",
   "metadata": {},
   "source": [
    "- KLM received about 133 000 tweets from users (whether directly or as a reply)\n",
    "- did they reply more to famous users? (famous defined as users with more than 5000 followers)"
   ]
  },
  {
   "cell_type": "code",
   "execution_count": null,
   "metadata": {},
   "outputs": [],
   "source": [
    "q1 = \"\"\"\n",
    "SELECT COUNT(DISTINCT(tweets.id))\n",
    "FROM users, tweets\n",
    "WHERE users.id = tweets.user AND users.id = 56377143 AND tweets.in_reply_to_user_id != 'null'\n",
    "AND tweets.in_reply_to_user_id IN (SELECT id FROM users WHERE followers_count > 5000);\n",
    "\"\"\"\n",
    "for row in hp.exec_custom(q1):\n",
    "    print(row)"
   ]
  },
  {
   "cell_type": "markdown",
   "metadata": {},
   "source": [
    "# A-B-A structure for the sentiment analysis"
   ]
  },
  {
   "cell_type": "markdown",
   "metadata": {},
   "source": [
    "First, find the tweets from users that get a reply later on (only KLM)"
   ]
  },
  {
   "cell_type": "code",
   "execution_count": null,
   "metadata": {},
   "outputs": [],
   "source": [
    "unfiltered_a_q = \"\"\"\n",
    "SELECT DISTINCT(id) as 'start', user as 'user_id'\n",
    "FROM tweets\n",
    "WHERE tweets.user != 56377143 AND tweets.id IN ({0}) AND tweets.in_reply_to_user_id = 'null' \n",
    "AND id IN (SELECT DISTINCT(in_reply_to_status_id) FROM tweets WHERE user = 56377143 AND in_reply_to_status_id != 'null')\n",
    "\"\"\".format(','.join([str(x) for x in air_count['KLM']['ids']]))\n",
    "\n",
    "unfiltered_a = pd.read_sql_query(unfiltered_a_q, db)\n",
    "unfiltered_a #these are the tweets directly sent from users that get a reply"
   ]
  },
  {
   "cell_type": "markdown",
   "metadata": {},
   "source": [
    "We have to filter these tweets to those that end in a ABA structured converstion "
   ]
  },
  {
   "cell_type": "markdown",
   "metadata": {},
   "source": [
    "   - going backwards from the third (A) tweet to klm's reply (B) "
   ]
  },
  {
   "cell_type": "code",
   "execution_count": null,
   "metadata": {
    "scrolled": false
   },
   "outputs": [],
   "source": [
    "b_tweets_id = \"\"\"(SELECT DISTINCT(id) FROM tweets WHERE tweets.user = 56377143 AND in_reply_to_status_id IN ({0}))\"\"\".format( ','.join([str(x) for x in unfiltered_a['start']]))\n",
    "b_tweets_in_reply_user = \"\"\"(SELECT DISTINCT(in_reply_to_user_id) FROM tweets WHERE tweets.user = 56377143 AND in_reply_to_status_id IN ({0}))\"\"\".format( ','.join([str(x) for x in unfiltered_a['start']]))\n",
    "a_tweets = \"\"\"(SELECT DISTINCT(in_reply_to_status_id) FROM tweets WHERE tweets.user = 56377143 AND in_reply_to_status_id IN ({0}))\"\"\".format( ','.join([str(x) for x in unfiltered_a['start']]))\n",
    "backward_a_b_q = \"\"\"\n",
    "SELECT DISTINCT(id) as 'change', user as 'user_id', in_reply_to_status_id as 'klms reply'\n",
    "FROM tweets\n",
    "WHERE tweets.user != 56377143 AND tweets.id IN ({0}) AND tweets.user IN {1}\n",
    "AND tweets.in_reply_to_status_id IN {2}\n",
    "\"\"\".format(','.join([str(x) for x in air_count['KLM']['ids']]), b_tweets_in_reply_user, b_tweets_id)\n",
    "backward_a_b = pd.read_sql_query(backward_a_b_q, db)\n",
    "backward_a_b #klms reply to original user tweet and a users reply to that reply"
   ]
  },
  {
   "cell_type": "markdown",
   "metadata": {},
   "source": [
    "- first (A) tweets from users that ended in a conversation"
   ]
  },
  {
   "cell_type": "code",
   "execution_count": null,
   "metadata": {},
   "outputs": [],
   "source": [
    "a_tweets_q = \"\"\"\n",
    "SELECT in_reply_to_status_id as 'start'\n",
    "FROM tweets\n",
    "WHERE id IN ({0})\n",
    "\"\"\".format(','.join([str(x) for x in backward_a_b['klms reply']]))\n",
    "a_tweets = pd.read_sql_query(a_tweets_q, db)\n",
    "a_tweets #filtered original first tweets that get a reply and reply to a reply "
   ]
  },
  {
   "cell_type": "code",
   "execution_count": null,
   "metadata": {},
   "outputs": [],
   "source": []
  }
 ],
 "metadata": {
  "kernelspec": {
   "display_name": "Python 3",
   "language": "python",
   "name": "python3"
  },
  "language_info": {
   "codemirror_mode": {
    "name": "ipython",
    "version": 3
   },
   "file_extension": ".py",
   "mimetype": "text/x-python",
   "name": "python",
   "nbconvert_exporter": "python",
   "pygments_lexer": "ipython3",
   "version": "3.7.6"
  }
 },
 "nbformat": 4,
 "nbformat_minor": 4
}
