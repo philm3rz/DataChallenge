{
 "cells": [
  {
   "cell_type": "code",
   "execution_count": 2,
   "metadata": {},
   "outputs": [],
   "source": [
    "import pymongo\n",
    "from pymongo import MongoClient\n",
    "import pandas as pd\n",
    "import numpy as np\n",
    "import re\n",
    "import json\n",
    "from textblob import TextBlob\n",
    "from wordcloud import WordCloud, STOPWORDS \n",
    "import matplotlib.pyplot as plt \n",
    "#from emoji_unicode import UNICODE_EMO\n",
    "import nltk\n",
    "from nltk.tokenize import word_tokenize\n",
    "from nltk.tokenize import sent_tokenize\n",
    "from nltk.corpus import stopwords\n",
    "from nltk.text import Text\n",
    "import string, re\n",
    "from textblob_nl.nl import sentiment as pattern_sentiment\n",
    "from textblob.classifiers import NaiveBayesClassifier\n",
    "pd.set_option('max_colwidth', 1000)\n",
    "import seaborn as sns\n",
    "import matplotlib.pyplot as plt"
   ]
  },
  {
   "cell_type": "code",
   "execution_count": 3,
   "metadata": {},
   "outputs": [],
   "source": [
    "client = MongoClient('localhost', 27017)\n",
    "mydb = client.tweet\n",
    "convos = mydb['convos']\n",
    "tweets = mydb['_tweets']"
   ]
  },
  {
   "cell_type": "code",
   "execution_count": 4,
   "metadata": {},
   "outputs": [],
   "source": [
    "air_names = ['@KLM', '@AirFrance', '@British_Airways', '@AmericanAir', '@Lufthansa', '@easyJet', '@RyanAir', '@SingaporeAir', '@Qantas', '@EtihadAirways', '@VirginAtlantic']"
   ]
  },
  {
   "cell_type": "code",
   "execution_count": 5,
   "metadata": {},
   "outputs": [],
   "source": [
    "airlines = {'KLM':56377143, \n",
    "            'AirFrance': 106062176, \n",
    "            'British_Airways': 18332190, \n",
    "            'AmericanAir': 22536055, \n",
    "           'Lufthansa': 124476322, \n",
    "           'AirBerlin': 26223583, \n",
    "           'AirBerlinAssist': 2182373406, \n",
    "           'easyJet': 38676903, \n",
    "           'RyanAir': 1542862735, \n",
    "           'SingaporeAir': 253340062, \n",
    "           'Qantas': 218730857, \n",
    "           'EtihadAirways': 45621423, \n",
    "           'VirginAtlantic': 20626359}"
   ]
  },
  {
   "cell_type": "markdown",
   "metadata": {},
   "source": [
    "* Created a dataframe which includes tweets in english to the airlines, along with the tweet id, user id and timestamp."
   ]
  },
  {
   "cell_type": "code",
   "execution_count": 6,
   "metadata": {},
   "outputs": [],
   "source": [
    "jdf = pd.DataFrame()\n",
    "jdf['tweet'] = [t['text'] for t in tweets.find({}) for n in air_names if n in t['text'] if t['language']=='eng']\n",
    "jdf['id'] = [t['id'] for t in tweets.find({}) for n in air_names if n in t['text'] if t['language']=='eng']\n",
    "jdf['user_id'] = [t['user']['id'] for t in tweets.find({}) for n in air_names if n in t['text'] if t['language']=='eng']\n",
    "jdf['timestamp'] = [t['timestamp_ms'] for t in tweets.find({}) for n in air_names if n in t['text'] if t['language']=='eng']"
   ]
  },
  {
   "cell_type": "markdown",
   "metadata": {},
   "source": [
    "* Added a new column which states which airline the tweet is referring to."
   ]
  },
  {
   "cell_type": "code",
   "execution_count": 7,
   "metadata": {
    "scrolled": true
   },
   "outputs": [
    {
     "name": "stderr",
     "output_type": "stream",
     "text": [
      "C:\\Users\\jonal\\Anacondaa\\lib\\site-packages\\ipykernel_launcher.py:2: FutureWarning: The pandas.np module is deprecated and will be removed from pandas in a future version. Import numpy directly instead\n",
      "  \n",
      "C:\\Users\\jonal\\Anacondaa\\lib\\site-packages\\ipykernel_launcher.py:3: FutureWarning: The pandas.np module is deprecated and will be removed from pandas in a future version. Import numpy directly instead\n",
      "  This is separate from the ipykernel package so we can avoid doing imports until\n",
      "C:\\Users\\jonal\\Anacondaa\\lib\\site-packages\\ipykernel_launcher.py:4: FutureWarning: The pandas.np module is deprecated and will be removed from pandas in a future version. Import numpy directly instead\n",
      "  after removing the cwd from sys.path.\n",
      "C:\\Users\\jonal\\Anacondaa\\lib\\site-packages\\ipykernel_launcher.py:5: FutureWarning: The pandas.np module is deprecated and will be removed from pandas in a future version. Import numpy directly instead\n",
      "  \"\"\"\n",
      "C:\\Users\\jonal\\Anacondaa\\lib\\site-packages\\ipykernel_launcher.py:6: FutureWarning: The pandas.np module is deprecated and will be removed from pandas in a future version. Import numpy directly instead\n",
      "  \n",
      "C:\\Users\\jonal\\Anacondaa\\lib\\site-packages\\ipykernel_launcher.py:7: FutureWarning: The pandas.np module is deprecated and will be removed from pandas in a future version. Import numpy directly instead\n",
      "  import sys\n",
      "C:\\Users\\jonal\\Anacondaa\\lib\\site-packages\\ipykernel_launcher.py:8: FutureWarning: The pandas.np module is deprecated and will be removed from pandas in a future version. Import numpy directly instead\n",
      "  \n",
      "C:\\Users\\jonal\\Anacondaa\\lib\\site-packages\\ipykernel_launcher.py:9: FutureWarning: The pandas.np module is deprecated and will be removed from pandas in a future version. Import numpy directly instead\n",
      "  if __name__ == '__main__':\n",
      "C:\\Users\\jonal\\Anacondaa\\lib\\site-packages\\ipykernel_launcher.py:10: FutureWarning: The pandas.np module is deprecated and will be removed from pandas in a future version. Import numpy directly instead\n",
      "  # Remove the CWD from sys.path while we load stuff.\n",
      "C:\\Users\\jonal\\Anacondaa\\lib\\site-packages\\ipykernel_launcher.py:11: FutureWarning: The pandas.np module is deprecated and will be removed from pandas in a future version. Import numpy directly instead\n",
      "  # This is added back by InteractiveShellApp.init_path()\n",
      "C:\\Users\\jonal\\Anacondaa\\lib\\site-packages\\ipykernel_launcher.py:12: FutureWarning: The pandas.np module is deprecated and will be removed from pandas in a future version. Import numpy directly instead\n",
      "  if sys.path[0] == '':\n",
      "C:\\Users\\jonal\\Anacondaa\\lib\\site-packages\\ipykernel_launcher.py:13: FutureWarning: The pandas.np module is deprecated and will be removed from pandas in a future version. Import numpy directly instead\n",
      "  del sys.path[0]\n",
      "C:\\Users\\jonal\\Anacondaa\\lib\\site-packages\\ipykernel_launcher.py:14: FutureWarning: The pandas.np module is deprecated and will be removed from pandas in a future version. Import numpy directly instead\n",
      "  \n"
     ]
    }
   ],
   "source": [
    "temp=jdf.tweet.fillna(\"0\")\n",
    "jdf['airline'] = pd.np.where(temp.str.contains(\"@KLM\"),\"KLM\",\n",
    "           pd.np.where(temp.str.contains(\"@British_Airways\"), \"British_Airways\",\n",
    "           pd.np.where(temp.str.contains(\"@easyJet\"), \"easyJet\",\n",
    "           pd.np.where(temp.str.contains(\"@AmericanAir\"), \"AmericanAir\",\n",
    "           pd.np.where(temp.str.contains(\"@Lufthansa\"), \"Lufthansa\",\n",
    "           pd.np.where(temp.str.contains(\"@RyanAir\"), \"RyanAir\",\n",
    "           pd.np.where(temp.str.contains(\"@AirBerlin\"), \"AirBerlin\",\n",
    "           pd.np.where(temp.str.contains(\"@AirBerlinAssist\"), \"AirBerlinAssist\",\n",
    "           pd.np.where(temp.str.contains(\"@AirFrance\"), \"AirFrance\",\n",
    "           pd.np.where(temp.str.contains(\"@SingaporeAir\"),\"SingaporeAir\",\n",
    "           pd.np.where(temp.str.contains(\"@Qantas\"), \"Qantas\",\n",
    "           pd.np.where(temp.str.contains(\"@EtihadAirways\"), \"EtihadAirways\",\n",
    "           pd.np.where(temp.str.contains(\"@VirginAtlantic\"), \"VirginAtlantic\", \"na\")))))))))))))"
   ]
  },
  {
   "cell_type": "code",
   "execution_count": 8,
   "metadata": {},
   "outputs": [
    {
     "data": {
      "text/html": [
       "<div>\n",
       "<style scoped>\n",
       "    .dataframe tbody tr th:only-of-type {\n",
       "        vertical-align: middle;\n",
       "    }\n",
       "\n",
       "    .dataframe tbody tr th {\n",
       "        vertical-align: top;\n",
       "    }\n",
       "\n",
       "    .dataframe thead th {\n",
       "        text-align: right;\n",
       "    }\n",
       "</style>\n",
       "<table border=\"1\" class=\"dataframe\">\n",
       "  <thead>\n",
       "    <tr style=\"text-align: right;\">\n",
       "      <th></th>\n",
       "      <th>tweet</th>\n",
       "      <th>id</th>\n",
       "      <th>user_id</th>\n",
       "      <th>timestamp</th>\n",
       "      <th>airline</th>\n",
       "    </tr>\n",
       "  </thead>\n",
       "  <tbody>\n",
       "    <tr>\n",
       "      <th>0</th>\n",
       "      <td>@easyJet It is impossible to get in contact with you by using that e-mail address. So there is no claim yet which I can follow on that damage luggage website. So what to do?</td>\n",
       "      <td>1131173038194606100</td>\n",
       "      <td>19610469</td>\n",
       "      <td>1558527643141</td>\n",
       "      <td>easyJet</td>\n",
       "    </tr>\n",
       "    <tr>\n",
       "      <th>1</th>\n",
       "      <td>Do you remember when you joined Twitter? I do! #MyTwitterAnniversary Meh. Sure let’s fly Full throttle into this Jovian Sh*tstorm. @NasaJuno #JunoMission @KLM  #Wintje https://t.co/2PaxhMimlu</td>\n",
       "      <td>1131173692086599700</td>\n",
       "      <td>728236673037914100</td>\n",
       "      <td>1558527799041</td>\n",
       "      <td>KLM</td>\n",
       "    </tr>\n",
       "    <tr>\n",
       "      <th>2</th>\n",
       "      <td>@AmericanAir flight delays this morning due to mechanical problems. A hassle, but glad to be on the ground while they fix the problems. #beingproductive</td>\n",
       "      <td>1131174000695160800</td>\n",
       "      <td>204548115</td>\n",
       "      <td>1558527872619</td>\n",
       "      <td>AmericanAir</td>\n",
       "    </tr>\n",
       "    <tr>\n",
       "      <th>3</th>\n",
       "      <td>@AmericanAir started out being charged for my luggage when I used my AAdvantage card so it should have been free.  Now in Philly, only to find the plane needs a 4 hour repair. Mysteriously now they say 2 hours.  Closing my account and won't be flying AA again</td>\n",
       "      <td>1131174316014489600</td>\n",
       "      <td>39829618</td>\n",
       "      <td>1558527947797</td>\n",
       "      <td>AmericanAir</td>\n",
       "    </tr>\n",
       "    <tr>\n",
       "      <th>4</th>\n",
       "      <td>So @AmericanAir @EWRairport lied to an old lady causing her to miss her flight #934 to LHR. She arrived at 6:05am for a flight departing at 8:30am,mum has no medication,is in a wheelchair and they just ignore the fact they caused this.Worse airline company. Zero customer service</td>\n",
       "      <td>1131173065122078700</td>\n",
       "      <td>2730172562</td>\n",
       "      <td>1558527649561</td>\n",
       "      <td>AmericanAir</td>\n",
       "    </tr>\n",
       "  </tbody>\n",
       "</table>\n",
       "</div>"
      ],
      "text/plain": [
       "                                                                                                                                                                                                                                                                                     tweet  \\\n",
       "0                                                                                                            @easyJet It is impossible to get in contact with you by using that e-mail address. So there is no claim yet which I can follow on that damage luggage website. So what to do?   \n",
       "1                                                                                          Do you remember when you joined Twitter? I do! #MyTwitterAnniversary Meh. Sure let’s fly Full throttle into this Jovian Sh*tstorm. @NasaJuno #JunoMission @KLM  #Wintje https://t.co/2PaxhMimlu   \n",
       "2                                                                                                                                 @AmericanAir flight delays this morning due to mechanical problems. A hassle, but glad to be on the ground while they fix the problems. #beingproductive   \n",
       "3                      @AmericanAir started out being charged for my luggage when I used my AAdvantage card so it should have been free.  Now in Philly, only to find the plane needs a 4 hour repair. Mysteriously now they say 2 hours.  Closing my account and won't be flying AA again   \n",
       "4  So @AmericanAir @EWRairport lied to an old lady causing her to miss her flight #934 to LHR. She arrived at 6:05am for a flight departing at 8:30am,mum has no medication,is in a wheelchair and they just ignore the fact they caused this.Worse airline company. Zero customer service   \n",
       "\n",
       "                    id             user_id      timestamp      airline  \n",
       "0  1131173038194606100            19610469  1558527643141      easyJet  \n",
       "1  1131173692086599700  728236673037914100  1558527799041          KLM  \n",
       "2  1131174000695160800           204548115  1558527872619  AmericanAir  \n",
       "3  1131174316014489600            39829618  1558527947797  AmericanAir  \n",
       "4  1131173065122078700          2730172562  1558527649561  AmericanAir  "
      ]
     },
     "execution_count": 8,
     "metadata": {},
     "output_type": "execute_result"
    }
   ],
   "source": [
    "jdf.head()"
   ]
  },
  {
   "cell_type": "markdown",
   "metadata": {},
   "source": [
    "* Created a function which cleans the text by removing links, hashtags, @mentions and other redundant things to make the sentiment analysis easier. And then applied it do the tweets in the dataframe."
   ]
  },
  {
   "cell_type": "code",
   "execution_count": 27,
   "metadata": {},
   "outputs": [],
   "source": [
    "def cleantxt(text):\n",
    "    text = text.lower()\n",
    "    text = re.sub('airline', '', text)\n",
    "    text = re.sub('please', '', text)\n",
    "    text = re.sub('travel', '', text)\n",
    "    text = re.sub('airways', '', text)\n",
    "    text = re.sub('amp', '', text)\n",
    "    text = re.sub('amsterdam', '', text)\n",
    "    text = re.sub('singapore', '', text)\n",
    "    text = re.sub('people', '', text)\n",
    "    text = re.sub('flight', '', text)\n",
    "    text = re.sub('\\[.*?\\]', '', text) \n",
    "    text = re.sub(r'@[A-Za-z0-9]+', '', text) \n",
    "    text = re.sub(r'https?:\\/\\/\\S+', '', text) \n",
    "    text = re.sub(r'RT[\\s]+', '', text) \n",
    "    text = re.sub(r'#[A-Za-z0-9]+', '', text)  \n",
    "    text = re.sub('[%s]' % re.escape(string.punctuation), '', text)\n",
    "    text = re.sub('\\w*\\d\\w*', '', text)\n",
    "    text = re.sub('\\n', '', text)\n",
    "    #for emot in UNICODE_EMO:\n",
    "    #    text = re.sub(r'('+emot+')', \"_\".join(UNICODE_EMO[emot].replace(\",\",\"\").replace(\":\",\"\").split()), text)\n",
    "    return text"
   ]
  },
  {
   "cell_type": "code",
   "execution_count": 10,
   "metadata": {},
   "outputs": [
    {
     "data": {
      "text/html": [
       "<div>\n",
       "<style scoped>\n",
       "    .dataframe tbody tr th:only-of-type {\n",
       "        vertical-align: middle;\n",
       "    }\n",
       "\n",
       "    .dataframe tbody tr th {\n",
       "        vertical-align: top;\n",
       "    }\n",
       "\n",
       "    .dataframe thead th {\n",
       "        text-align: right;\n",
       "    }\n",
       "</style>\n",
       "<table border=\"1\" class=\"dataframe\">\n",
       "  <thead>\n",
       "    <tr style=\"text-align: right;\">\n",
       "      <th></th>\n",
       "      <th>tweet</th>\n",
       "    </tr>\n",
       "  </thead>\n",
       "  <tbody>\n",
       "    <tr>\n",
       "      <th>0</th>\n",
       "      <td>it is impossible to get in contact with you by using that email address so there is no claim yet which i can follow on that damage luggage website so what to do</td>\n",
       "    </tr>\n",
       "    <tr>\n",
       "      <th>1</th>\n",
       "      <td>do you remember when you joined twitter i do  meh sure let’s fly full throttle into this jovian shtstorm</td>\n",
       "    </tr>\n",
       "    <tr>\n",
       "      <th>2</th>\n",
       "      <td>delays this morning due to mechanical problems a hassle but glad to be on the ground while they fix the problems</td>\n",
       "    </tr>\n",
       "    <tr>\n",
       "      <th>3</th>\n",
       "      <td>started out being charged for my luggage when i used my aadvantage card so it should have been free  now in philly only to find the plane needs a  hour repair mysteriously now they say  hours  closing my account and wont be flying aa again</td>\n",
       "    </tr>\n",
       "    <tr>\n",
       "      <th>4</th>\n",
       "      <td>so   lied to an old lady causing her to miss her   to lhr she arrived at  for a  departing at  has no medicationis in a wheelchair and they just ignore the fact they caused thisworse  company zero customer service</td>\n",
       "    </tr>\n",
       "    <tr>\n",
       "      <th>...</th>\n",
       "      <td>...</td>\n",
       "    </tr>\n",
       "    <tr>\n",
       "      <th>736814</th>\n",
       "      <td>trying to get a hold of a customer service person to talk through options for my upcoming  due to  but every time i call theres not even an option to hold or receive a call back it just hangs up help</td>\n",
       "    </tr>\n",
       "    <tr>\n",
       "      <th>736815</th>\n",
       "      <td>it’s a total nightmare i’ve just seen that ny has declared a state emergency so i’m hoping our bookings will be cancelled and refunded or we can change the dates 🤞🏼😩</td>\n",
       "    </tr>\n",
       "    <tr>\n",
       "      <th>736816</th>\n",
       "      <td>my mother is due to  she is  years old with a pacemaker i find it really very hard to believe ba would not give her a credit note given the global health warnings poor lady is equally depressed about losing money as getting ill have a heart ba</td>\n",
       "    </tr>\n",
       "    <tr>\n",
       "      <th>736817</th>\n",
       "      <td>absent fever and risk factors  attendants as screeners come on mike your playing advocatus diaboli to a nonsensical extreme</td>\n",
       "    </tr>\n",
       "    <tr>\n",
       "      <th>736818</th>\n",
       "      <td>i have two college students stuck in berlin who cannot get home because customer service representatives at  are unreachable i see available s but cannot change the booking online because one of the tickets was purchased with a voucher</td>\n",
       "    </tr>\n",
       "  </tbody>\n",
       "</table>\n",
       "<p>736819 rows × 1 columns</p>\n",
       "</div>"
      ],
      "text/plain": [
       "                                                                                                                                                                                                                                                        tweet\n",
       "0                                                                                            it is impossible to get in contact with you by using that email address so there is no claim yet which i can follow on that damage luggage website so what to do\n",
       "1                                                                                                                                              do you remember when you joined twitter i do  meh sure let’s fly full throttle into this jovian shtstorm      \n",
       "2                                                                                                                                           delays this morning due to mechanical problems a hassle but glad to be on the ground while they fix the problems \n",
       "3             started out being charged for my luggage when i used my aadvantage card so it should have been free  now in philly only to find the plane needs a  hour repair mysteriously now they say  hours  closing my account and wont be flying aa again\n",
       "4                                       so   lied to an old lady causing her to miss her   to lhr she arrived at  for a  departing at  has no medicationis in a wheelchair and they just ignore the fact they caused thisworse  company zero customer service\n",
       "...                                                                                                                                                                                                                                                       ...\n",
       "736814                                                trying to get a hold of a customer service person to talk through options for my upcoming  due to  but every time i call theres not even an option to hold or receive a call back it just hangs up help\n",
       "736815                                                                                  it’s a total nightmare i’ve just seen that ny has declared a state emergency so i’m hoping our bookings will be cancelled and refunded or we can change the dates 🤞🏼😩\n",
       "736816    my mother is due to  she is  years old with a pacemaker i find it really very hard to believe ba would not give her a credit note given the global health warnings poor lady is equally depressed about losing money as getting ill have a heart ba\n",
       "736817                                                                                                                            absent fever and risk factors  attendants as screeners come on mike your playing advocatus diaboli to a nonsensical extreme\n",
       "736818            i have two college students stuck in berlin who cannot get home because customer service representatives at  are unreachable i see available s but cannot change the booking online because one of the tickets was purchased with a voucher\n",
       "\n",
       "[736819 rows x 1 columns]"
      ]
     },
     "execution_count": 10,
     "metadata": {},
     "output_type": "execute_result"
    }
   ],
   "source": [
    "jdf['tweet'] = jdf['tweet'].apply(cleantxt)\n",
    "jdf[['tweet']]"
   ]
  },
  {
   "cell_type": "markdown",
   "metadata": {},
   "source": [
    "* Getting most common words and removing them because not much value"
   ]
  },
  {
   "cell_type": "code",
   "execution_count": 11,
   "metadata": {},
   "outputs": [
    {
     "data": {
      "text/plain": [
       "[('to', 950036),\n",
       " ('the', 791394),\n",
       " ('and', 513489),\n",
       " ('a', 506324),\n",
       " ('i', 466897),\n",
       " ('you', 368348),\n",
       " ('for', 349753),\n",
       " ('on', 309170),\n",
       " ('in', 303023),\n",
       " ('of', 296865),\n",
       " ('is', 285683),\n",
       " ('my', 268935),\n",
       " ('have', 200113),\n",
       " ('with', 199548),\n",
       " ('it', 192244),\n",
       " ('this', 188206),\n",
       " ('that', 178468),\n",
       " ('your', 168172),\n",
       " ('not', 162926),\n",
       " ('are', 153902)]"
      ]
     },
     "execution_count": 11,
     "metadata": {},
     "output_type": "execute_result"
    }
   ],
   "source": [
    "from collections import Counter\n",
    "cnt = Counter()\n",
    "for text in jdf[\"tweet\"].values:\n",
    "    for word in text.split():\n",
    "        cnt[word] += 1\n",
    "        \n",
    "cnt.most_common(20)"
   ]
  },
  {
   "cell_type": "code",
   "execution_count": 12,
   "metadata": {},
   "outputs": [
    {
     "data": {
      "text/html": [
       "<div>\n",
       "<style scoped>\n",
       "    .dataframe tbody tr th:only-of-type {\n",
       "        vertical-align: middle;\n",
       "    }\n",
       "\n",
       "    .dataframe tbody tr th {\n",
       "        vertical-align: top;\n",
       "    }\n",
       "\n",
       "    .dataframe thead th {\n",
       "        text-align: right;\n",
       "    }\n",
       "</style>\n",
       "<table border=\"1\" class=\"dataframe\">\n",
       "  <thead>\n",
       "    <tr style=\"text-align: right;\">\n",
       "      <th></th>\n",
       "      <th>tweet</th>\n",
       "    </tr>\n",
       "  </thead>\n",
       "  <tbody>\n",
       "    <tr>\n",
       "      <th>0</th>\n",
       "      <td>impossible get contact by using that email address so there no claim yet which can follow that damage luggage website so what do</td>\n",
       "    </tr>\n",
       "    <tr>\n",
       "      <th>1</th>\n",
       "      <td>do remember when joined twitter do meh sure let’s fly full throttle into jovian shtstorm</td>\n",
       "    </tr>\n",
       "    <tr>\n",
       "      <th>2</th>\n",
       "      <td>delays morning due mechanical problems hassle but glad be ground while they fix problems</td>\n",
       "    </tr>\n",
       "    <tr>\n",
       "      <th>3</th>\n",
       "      <td>started out being charged luggage when used aadvantage card so should been free now philly only find plane needs hour repair mysteriously now they say hours closing account wont be flying aa again</td>\n",
       "    </tr>\n",
       "    <tr>\n",
       "      <th>4</th>\n",
       "      <td>so lied an old lady causing her miss her lhr she arrived at departing at has no medicationis wheelchair they just ignore fact they caused thisworse company zero customer service</td>\n",
       "    </tr>\n",
       "  </tbody>\n",
       "</table>\n",
       "</div>"
      ],
      "text/plain": [
       "                                                                                                                                                                                                  tweet\n",
       "0                                                                      impossible get contact by using that email address so there no claim yet which can follow that damage luggage website so what do\n",
       "1                                                                                                              do remember when joined twitter do meh sure let’s fly full throttle into jovian shtstorm\n",
       "2                                                                                                              delays morning due mechanical problems hassle but glad be ground while they fix problems\n",
       "3  started out being charged luggage when used aadvantage card so should been free now philly only find plane needs hour repair mysteriously now they say hours closing account wont be flying aa again\n",
       "4                     so lied an old lady causing her miss her lhr she arrived at departing at has no medicationis wheelchair they just ignore fact they caused thisworse company zero customer service"
      ]
     },
     "execution_count": 12,
     "metadata": {},
     "output_type": "execute_result"
    }
   ],
   "source": [
    "FREQWORDS = set([w for (w, wc) in cnt.most_common(16)])\n",
    "def remove_freqwords(text):\n",
    "    \"\"\"custom function to remove the frequent words\"\"\"\n",
    "    return \" \".join([word for word in str(text).split() if word not in FREQWORDS])\n",
    "\n",
    "jdf['tweet'] = jdf['tweet'].apply(remove_freqwords)\n",
    "jdf[['tweet']].head()"
   ]
  },
  {
   "cell_type": "markdown",
   "metadata": {},
   "source": [
    "* Training a classifier which then classifies each tweet into a positive one or negative."
   ]
  },
  {
   "cell_type": "code",
   "execution_count": 32,
   "metadata": {},
   "outputs": [
    {
     "data": {
      "text/plain": [
       "0.8947368421052632"
      ]
     },
     "execution_count": 32,
     "metadata": {},
     "output_type": "execute_result"
    }
   ],
   "source": [
    "train = [\n",
    "    ('i wish the food service was better', 'neg'),\n",
    "    ('Great costumer service!', 'pos'),\n",
    "    ('I am happy with the flight and service', 'pos'),\n",
    "    ('glad I chose this airline', 'pos'),\n",
    "    ('fucking costumer service is so bad', 'neg'),\n",
    "    ('The flight was late, I am not happy with this', 'neg'),\n",
    "    ('I will never fly with this airline again', 'neg'),\n",
    "    ('Airline sucks at organization, total nightmare', 'neg'),\n",
    "    ('Staff was very helpful, very nice', 'pos'),\n",
    "    ('great to see such developments!', 'pos'),\n",
    "    ('Today was my last trip outside schengen with klm / amsterdam is the worst airport for international connecting flights', 'neg'),\n",
    "    ('I like flying with this airline!', 'pos'),\n",
    "    ('its not helping me at all. Companies too big to solve real problems', 'neg'),\n",
    "    ('your staff seemingly unaware', 'neg'),\n",
    "    ('Thank you. But thats not enough. If my flight is delayed more than 3 hours, you must advise Im entitled to assistance AND compensation. Not just say download the brochure.', 'neg'),\n",
    "    ('worst experience in my life,', 'neg'),\n",
    "    ('last minute flight cancellation, very dissapointed', 'neg'),\n",
    "    ('great job at cancelling our flight again!', 'neg'), #sarcasm\n",
    "    ('you have truly excelled yourself in providing the worst customer service ever', 'neg'), #sarcasm\n",
    "    ('the food on this airplane was delicious', 'pos'),\n",
    "    ('delighted with the costumer service here', 'pos'),\n",
    "    ('the money was refunded quite fast, thanks', 'pos'),\n",
    "    ('i lost my bag/luggage, but the flight attendants helped me, thank you', 'pos'),\n",
    "    ('i was disappointed because noone helped me find my luggage/bag', 'neg'),\n",
    "    ('the flight was very pleasant and fast', 'pos'),\n",
    "    ('very slow check-in', 'neg'),\n",
    "    ('the food was bad, maybe u should fix that', 'neg'),\n",
    "    ('im trying reserve seat upcoming every time give technical error site invite contact resolve help please', 'neg'),\n",
    "    ('very uncomfortable seats, my back hurts', 'neg'),\n",
    "    ('the flight was delayed AGAIN, so typical of them', 'neg'),\n",
    "    ('great work take a suit carrier off me and then have me waste a full hour waiting on your incompetent services', 'neg')\n",
    "]\n",
    "\n",
    "test = [\n",
    "    ('I wish the food on the plane was better, disgusting', 'neg'),\n",
    "    ('the check-in was very slow', 'neg'),\n",
    "    ('i wish the check in was faster', 'neg'),\n",
    "    ('delightful with the costumer service!', 'pos'),\n",
    "    ('the flight was fast and steady', 'pos'),\n",
    "    ('fucking costumer service sucks', 'neg'),\n",
    "    ('it took so long to get my money refunded, maybe you can fix that', 'neg'),\n",
    "    ('good job at cancelling the flight', 'neg'), #sarcasm\n",
    "    ('no one from this agency helped me find my bag', 'neg'),\n",
    "    ('flight attendant helped me with finding my bag, thank you', 'pos'),\n",
    "    ('helpful staff, glad i chose this airline', 'pos'),\n",
    "    ('im having technical issues in the site, help please', 'neg'),\n",
    "    ('me and my family are happy with your service', 'pos'),\n",
    "    ('the seats were very uncomfortable,', 'neg'),\n",
    "    ('no space for my legs','neg'),\n",
    "    ('2/10 experience, people were treated badly', 'neg'),\n",
    "    ('your reply didnt help me at all', 'neg'),\n",
    "    ('thank you for replying, that helped a lot', 'pos'),\n",
    "    ('i hope you actually reply to me this time, i have a big problem', 'neg')\n",
    "]\n",
    "\n",
    "cl = NaiveBayesClassifier(train)\n",
    "cl.accuracy(test)"
   ]
  },
  {
   "cell_type": "markdown",
   "metadata": {},
   "source": [
    "* Created a function based on the classifier, and applied it to the tweets."
   ]
  },
  {
   "cell_type": "code",
   "execution_count": 33,
   "metadata": {},
   "outputs": [],
   "source": [
    "def classify(text):\n",
    "    prob_dist = cl.prob_classify(text)\n",
    "    return prob_dist.max()"
   ]
  },
  {
   "cell_type": "code",
   "execution_count": 98,
   "metadata": {},
   "outputs": [
    {
     "data": {
      "text/plain": [
       "'pos'"
      ]
     },
     "execution_count": 98,
     "metadata": {},
     "output_type": "execute_result"
    }
   ],
   "source": [
    "classify('happy with the great work they do providing services under very challenging conditions. big thanks to all of you')"
   ]
  },
  {
   "cell_type": "code",
   "execution_count": 99,
   "metadata": {},
   "outputs": [
    {
     "data": {
      "text/plain": [
       "'neg'"
      ]
     },
     "execution_count": 99,
     "metadata": {},
     "output_type": "execute_result"
    }
   ],
   "source": [
    "classify('how about a refund? you cancelled my flight, forced me to accept vouchers and now say that you will not refund for 12 months!')"
   ]
  },
  {
   "cell_type": "code",
   "execution_count": 15,
   "metadata": {
    "scrolled": true
   },
   "outputs": [],
   "source": [
    "jdf['class'] = jdf['tweet'].apply(classify)"
   ]
  },
  {
   "cell_type": "code",
   "execution_count": 16,
   "metadata": {
    "scrolled": true
   },
   "outputs": [
    {
     "data": {
      "text/html": [
       "<div>\n",
       "<style scoped>\n",
       "    .dataframe tbody tr th:only-of-type {\n",
       "        vertical-align: middle;\n",
       "    }\n",
       "\n",
       "    .dataframe tbody tr th {\n",
       "        vertical-align: top;\n",
       "    }\n",
       "\n",
       "    .dataframe thead th {\n",
       "        text-align: right;\n",
       "    }\n",
       "</style>\n",
       "<table border=\"1\" class=\"dataframe\">\n",
       "  <thead>\n",
       "    <tr style=\"text-align: right;\">\n",
       "      <th></th>\n",
       "      <th>tweet</th>\n",
       "      <th>id</th>\n",
       "      <th>user_id</th>\n",
       "      <th>timestamp</th>\n",
       "      <th>airline</th>\n",
       "      <th>class</th>\n",
       "    </tr>\n",
       "  </thead>\n",
       "  <tbody>\n",
       "    <tr>\n",
       "      <th>0</th>\n",
       "      <td>impossible get contact by using that email address so there no claim yet which can follow that damage luggage website so what do</td>\n",
       "      <td>1131173038194606100</td>\n",
       "      <td>19610469</td>\n",
       "      <td>1558527643141</td>\n",
       "      <td>easyJet</td>\n",
       "      <td>neg</td>\n",
       "    </tr>\n",
       "    <tr>\n",
       "      <th>1</th>\n",
       "      <td>do remember when joined twitter do meh sure let’s fly full throttle into jovian shtstorm</td>\n",
       "      <td>1131173692086599700</td>\n",
       "      <td>728236673037914100</td>\n",
       "      <td>1558527799041</td>\n",
       "      <td>KLM</td>\n",
       "      <td>neg</td>\n",
       "    </tr>\n",
       "    <tr>\n",
       "      <th>2</th>\n",
       "      <td>delays morning due mechanical problems hassle but glad be ground while they fix problems</td>\n",
       "      <td>1131174000695160800</td>\n",
       "      <td>204548115</td>\n",
       "      <td>1558527872619</td>\n",
       "      <td>AmericanAir</td>\n",
       "      <td>pos</td>\n",
       "    </tr>\n",
       "    <tr>\n",
       "      <th>3</th>\n",
       "      <td>started out being charged luggage when used aadvantage card so should been free now philly only find plane needs hour repair mysteriously now they say hours closing account wont be flying aa again</td>\n",
       "      <td>1131174316014489600</td>\n",
       "      <td>39829618</td>\n",
       "      <td>1558527947797</td>\n",
       "      <td>AmericanAir</td>\n",
       "      <td>neg</td>\n",
       "    </tr>\n",
       "    <tr>\n",
       "      <th>4</th>\n",
       "      <td>so lied an old lady causing her miss her lhr she arrived at departing at has no medicationis wheelchair they just ignore fact they caused thisworse company zero customer service</td>\n",
       "      <td>1131173065122078700</td>\n",
       "      <td>2730172562</td>\n",
       "      <td>1558527649561</td>\n",
       "      <td>AmericanAir</td>\n",
       "      <td>neg</td>\n",
       "    </tr>\n",
       "  </tbody>\n",
       "</table>\n",
       "</div>"
      ],
      "text/plain": [
       "                                                                                                                                                                                                  tweet  \\\n",
       "0                                                                      impossible get contact by using that email address so there no claim yet which can follow that damage luggage website so what do   \n",
       "1                                                                                                              do remember when joined twitter do meh sure let’s fly full throttle into jovian shtstorm   \n",
       "2                                                                                                              delays morning due mechanical problems hassle but glad be ground while they fix problems   \n",
       "3  started out being charged luggage when used aadvantage card so should been free now philly only find plane needs hour repair mysteriously now they say hours closing account wont be flying aa again   \n",
       "4                     so lied an old lady causing her miss her lhr she arrived at departing at has no medicationis wheelchair they just ignore fact they caused thisworse company zero customer service   \n",
       "\n",
       "                    id             user_id      timestamp      airline class  \n",
       "0  1131173038194606100            19610469  1558527643141      easyJet   neg  \n",
       "1  1131173692086599700  728236673037914100  1558527799041          KLM   neg  \n",
       "2  1131174000695160800           204548115  1558527872619  AmericanAir   pos  \n",
       "3  1131174316014489600            39829618  1558527947797  AmericanAir   neg  \n",
       "4  1131173065122078700          2730172562  1558527649561  AmericanAir   neg  "
      ]
     },
     "execution_count": 16,
     "metadata": {},
     "output_type": "execute_result"
    }
   ],
   "source": [
    "jdf.head()"
   ]
  },
  {
   "cell_type": "code",
   "execution_count": 17,
   "metadata": {},
   "outputs": [
    {
     "data": {
      "text/plain": [
       "neg    616016\n",
       "pos    120803\n",
       "Name: class, dtype: int64"
      ]
     },
     "execution_count": 17,
     "metadata": {},
     "output_type": "execute_result"
    }
   ],
   "source": [
    "jdf['class'].value_counts()"
   ]
  },
  {
   "cell_type": "code",
   "execution_count": 18,
   "metadata": {},
   "outputs": [
    {
     "data": {
      "text/plain": [
       "AmericanAir        259106\n",
       "British_Airways    200517\n",
       "easyJet            102991\n",
       "KLM                 46782\n",
       "Qantas              44506\n",
       "VirginAtlantic      42709\n",
       "SingaporeAir        18694\n",
       "EtihadAirways       12667\n",
       "Lufthansa            5230\n",
       "AirFrance            3457\n",
       "RyanAir               160\n",
       "Name: airline, dtype: int64"
      ]
     },
     "execution_count": 18,
     "metadata": {},
     "output_type": "execute_result"
    }
   ],
   "source": [
    "jdf['airline'].value_counts()"
   ]
  },
  {
   "cell_type": "markdown",
   "metadata": {},
   "source": [
    "* Visualization of most used words from the tweets split into negative and positive."
   ]
  },
  {
   "cell_type": "code",
   "execution_count": null,
   "metadata": {
    "scrolled": true
   },
   "outputs": [],
   "source": [
    "negdf = jdf[jdf['class']=='neg']\n",
    "negwords = ''.join([t for t in negdf['tweet']])\n",
    " \n",
    "wordcloud = WordCloud(stopwords=STOPWORDS,\n",
    "                      background_color='black',\n",
    "                      width=500,\n",
    "                      height=300\n",
    "                     ).generate(negwords)\n",
    "plt.figure(1,figsize=(7, 7))\n",
    "plt.imshow(wordcloud)\n",
    "plt.axis('off')\n",
    "plt.title('Most used words in the negative class')\n",
    "plt.show()"
   ]
  },
  {
   "cell_type": "code",
   "execution_count": null,
   "metadata": {},
   "outputs": [],
   "source": [
    "posdf = jdf[jdf['class']=='pos']\n",
    "poswords = ''.join([t for t in posdf['tweet']])\n",
    "wordcloud = WordCloud(stopwords=STOPWORDS,\n",
    "                      background_color='black',\n",
    "                      width=500,\n",
    "                      height=300\n",
    "                     ).generate(poswords)\n",
    "plt.figure(1,figsize=(7, 7))\n",
    "plt.imshow(wordcloud)\n",
    "plt.axis('off')\n",
    "plt.title('Most used words in the positive class')\n",
    "plt.show()"
   ]
  },
  {
   "cell_type": "markdown",
   "metadata": {},
   "source": [
    "* Negative words used when tweeting KLM"
   ]
  },
  {
   "cell_type": "code",
   "execution_count": null,
   "metadata": {},
   "outputs": [],
   "source": [
    "knegdf = jdf[jdf['class']=='neg']\n",
    "klmneg = knegdf[knegdf['airline']=='KLM']\n",
    "klmnegwords = ''.join([t for t in klmneg['tweet'] ])\n",
    "wlst = ['food', 'time', 'hour', 'wait', 'miss', 'suck','fuck','shit','seat','loud','fix','line','lost','lose','bag','talk','flew','call','fast','slow','pay'\n",
    "       ,'long','care','shame','']\n",
    "\n",
    "finalst = [w for w in klmnegwords.split() if len(w)>5 or w in wlst]\n",
    "finafina = ' '.join([w for w in finalst])\n",
    "wordcloud = WordCloud(stopwords=STOPWORDS,\n",
    "                      background_color='black',\n",
    "                      width=500,\n",
    "                      height=300,\n",
    "                      collocations=False\n",
    "                     ).generate(finafina)\n",
    "plt.figure(1,figsize=(15, 15))\n",
    "plt.imshow(wordcloud, interpolation='bilinear')\n",
    "plt.axis('off')\n",
    "plt.title('Negative words used for KLM',fontsize=15)\n",
    "plt.show()"
   ]
  },
  {
   "cell_type": "code",
   "execution_count": null,
   "metadata": {},
   "outputs": [],
   "source": [
    "for t in klmneg['tweet']:\n",
    "    if 'breastfeeding' in t :\n",
    "        print(t)"
   ]
  },
  {
   "cell_type": "markdown",
   "metadata": {},
   "source": [
    "Top 15 most used words in the negative tweets sent to KLM "
   ]
  },
  {
   "cell_type": "code",
   "execution_count": null,
   "metadata": {},
   "outputs": [],
   "source": [
    "cnt = Counter()\n",
    "for w in finalst:\n",
    "    if w not in STOPWORDS:\n",
    "        cnt[w] += 1\n",
    "        \n",
    "cnt.most_common(15)"
   ]
  },
  {
   "cell_type": "markdown",
   "metadata": {},
   "source": [
    "* Negative words used for Singapore Air"
   ]
  },
  {
   "cell_type": "code",
   "execution_count": null,
   "metadata": {},
   "outputs": [],
   "source": [
    "snegdf = jdf[jdf['class']=='neg']\n",
    "sneg = snegdf[snegdf['airline']=='SingaporeAir']\n",
    "snegwords = ''.join([t for t in sneg['tweet']])\n",
    "wlst = ['food', 'time', 'hour', 'wait', 'miss', 'suck','fuck','shit','seat','loud', 'card','air','help','fix','card','line','need','lost','lose','bag','talk','flew','call','fast','slow','pay'\n",
    "       ,'long','care','shame']\n",
    "\n",
    "finalst = [w for w in snegwords.split() if len(w)>5 or w in wlst]\n",
    "finafina = ' '.join([w for w in finalst])\n",
    "wordcloud = WordCloud(stopwords=STOPWORDS,\n",
    "                      background_color='black',\n",
    "                      width=500,\n",
    "                      height=300,\n",
    "                      collocations=False\n",
    "                     ).generate(finafina)\n",
    "\n",
    "plt.figure(1,figsize=(15, 15))\n",
    "plt.imshow(wordcloud)\n",
    "plt.axis('off')\n",
    "plt.title('Negative words used for Singapore Air',fontsize=15)\n",
    "plt.show()"
   ]
  },
  {
   "cell_type": "markdown",
   "metadata": {},
   "source": [
    "Top 15 most used words in the negative tweets sent to Singapore Air"
   ]
  },
  {
   "cell_type": "code",
   "execution_count": null,
   "metadata": {},
   "outputs": [],
   "source": [
    "cnt = Counter()\n",
    "for w in finalst:\n",
    "    if w not in STOPWORDS:\n",
    "        cnt[w] += 1\n",
    "        \n",
    "cnt.most_common(15)"
   ]
  },
  {
   "cell_type": "code",
   "execution_count": null,
   "metadata": {},
   "outputs": [],
   "source": [
    "kposdf = jdf[jdf['class']=='pos']\n",
    "klmpos = kposdf[kposdf['airline']=='KLM']\n",
    "klmposwords = ''.join([t for t in klmpos['tweet']])\n",
    "nowlst = ['will','make','new','day','see','need','still','im','india','even','wa','ha','via','got','take','uk','dont','want',\n",
    "        'think','from','us','any','don']\n",
    "pfinalst = [w for w in klmposwords.split() if len(w)>5 or if w not in nowlst]\n",
    "\n",
    "pfinafina = ' '.join([w for w in pfinalst])\n",
    "wordcloud = WordCloud(stopwords=STOPWORDS,\n",
    "                      background_color='black',\n",
    "                      width=500,\n",
    "                      height=300\n",
    "                     ).generate(pfinafina)\n",
    "plt.figure(1,figsize=(10, 10))\n",
    "plt.imshow(wordcloud)\n",
    "plt.axis('off')\n",
    "plt.title('Positive words used for KLM')\n",
    "plt.show()"
   ]
  },
  {
   "cell_type": "markdown",
   "metadata": {},
   "source": [
    "* Some visualized comparisons between airlines.\n",
    "\n",
    "Number received tweets per airline"
   ]
  },
  {
   "cell_type": "code",
   "execution_count": 68,
   "metadata": {},
   "outputs": [
    {
     "data": {
      "text/plain": [
       "Text(0, 0.5, 'No. of Tweets')"
      ]
     },
     "execution_count": 68,
     "metadata": {},
     "output_type": "execute_result"
    },
    {
     "data": {
      "image/png": "[encoded data removed]",
      "text/plain": [
       "<Figure size 1080x288 with 1 Axes>"
      ]
     },
     "metadata": {
      "needs_background": "light"
     },
     "output_type": "display_data"
    }
   ],
   "source": [
    "#colors=sns.dark_palette(\"purple\") \n",
    "pd.Series(jdf[\"airline\"]).value_counts().plot(kind = \"bar\",\n",
    "                        figsize=(15,4),fontsize=10,rot = 0, title = \"Total No. of Tweets for each Airlines\").get_xticklabels()[3].set_color('red');\n",
    "#a[3].set_color('r')\n",
    "plt.xlabel('Airlines', fontsize=10)\n",
    "plt.ylabel('No. of Tweets', fontsize=10)"
   ]
  },
  {
   "cell_type": "markdown",
   "metadata": {},
   "source": [
    "Number of positive and negative tweets per airline"
   ]
  },
  {
   "cell_type": "code",
   "execution_count": 21,
   "metadata": {},
   "outputs": [
    {
     "data": {
      "image/png": "[encoded data removed]",
      "text/plain": [
       "<Figure size 2160x720 with 11 Axes>"
      ]
     },
     "metadata": {
      "needs_background": "light"
     },
     "output_type": "display_data"
    }
   ],
   "source": [
    "#there was nothing for airberlinassist so i just removed it to make the visualization better\n",
    "air_names2 = ['KLM', 'British_Airways', 'AirFrance', 'AmericanAir', 'Lufthansa',  'easyJet', 'RyanAir', 'SingaporeAir', 'Qantas', 'EtihadAirways', 'VirginAtlantic'] \n",
    "\n",
    "plt.figure(1,figsize=(30, 10))\n",
    "\n",
    "for i in air_names2:\n",
    "    indices= air_names2.index(i)\n",
    "    plt.subplot(2, 6, indices+1)\n",
    "    new_df=jdf[jdf['airline']==i]\n",
    "    count=new_df['class'].value_counts()\n",
    "    Index = [1,2]\n",
    "    colorsi = [\"red\", \"windows blue\"]\n",
    "    plt.bar(Index, count, color=sns.xkcd_palette(colorsi))\n",
    "    plt.xticks(Index,['negative','positive'])\n",
    "    plt.ylabel('Count')\n",
    "    plt.xlabel('Mood')\n",
    "    plt.title('Pos/neg difference of '+i)"
   ]
  },
  {
   "cell_type": "markdown",
   "metadata": {},
   "source": [
    "Percentage of positive and negative tweets sent to each airline."
   ]
  },
  {
   "cell_type": "code",
   "execution_count": 22,
   "metadata": {},
   "outputs": [
    {
     "data": {
      "image/png": "[encoded data removed]",
      "text/plain": [
       "<Figure size 2160x720 with 11 Axes>"
      ]
     },
     "metadata": {
      "needs_background": "light"
     },
     "output_type": "display_data"
    }
   ],
   "source": [
    "plt.figure(1,figsize=(30, 10))\n",
    "\n",
    "for i in air_names2:\n",
    "    indices= air_names2.index(i)\n",
    "    plt.subplot(2, 6, indices+1)\n",
    "    new_df=jdf[jdf['airline']==i]\n",
    "    count=new_df['class'].value_counts()/len(new_df['tweet'])\n",
    "    Index = [1,2]\n",
    "    colorsi = [\"red\", \"windows blue\"]\n",
    "    plt.bar(Index, count, color=sns.xkcd_palette(colorsi))\n",
    "    plt.xticks(Index,['negative','positive'])\n",
    "    plt.ylabel('Percentage')\n",
    "    plt.xlabel('Mood')\n",
    "    plt.title('Pos/neg difference of '+i)"
   ]
  },
  {
   "cell_type": "markdown",
   "metadata": {},
   "source": [
    "Another clearer visualization for the differences between airlines. "
   ]
  },
  {
   "cell_type": "code",
   "execution_count": 83,
   "metadata": {},
   "outputs": [
    {
     "data": {
      "text/html": [
       "<div>\n",
       "<style scoped>\n",
       "    .dataframe tbody tr th:only-of-type {\n",
       "        vertical-align: middle;\n",
       "    }\n",
       "\n",
       "    .dataframe tbody tr th {\n",
       "        vertical-align: top;\n",
       "    }\n",
       "\n",
       "    .dataframe thead th {\n",
       "        text-align: right;\n",
       "    }\n",
       "</style>\n",
       "<table border=\"1\" class=\"dataframe\">\n",
       "  <thead>\n",
       "    <tr style=\"text-align: right;\">\n",
       "      <th>airline</th>\n",
       "      <th>AirFrance</th>\n",
       "      <th>AmericanAir</th>\n",
       "      <th>British_Airways</th>\n",
       "      <th>EtihadAirways</th>\n",
       "      <th>KLM</th>\n",
       "      <th>Lufthansa</th>\n",
       "      <th>Qantas</th>\n",
       "      <th>RyanAir</th>\n",
       "      <th>SingaporeAir</th>\n",
       "      <th>VirginAtlantic</th>\n",
       "      <th>easyJet</th>\n",
       "    </tr>\n",
       "    <tr>\n",
       "      <th>class</th>\n",
       "      <th></th>\n",
       "      <th></th>\n",
       "      <th></th>\n",
       "      <th></th>\n",
       "      <th></th>\n",
       "      <th></th>\n",
       "      <th></th>\n",
       "      <th></th>\n",
       "      <th></th>\n",
       "      <th></th>\n",
       "      <th></th>\n",
       "    </tr>\n",
       "  </thead>\n",
       "  <tbody>\n",
       "    <tr>\n",
       "      <th>neg</th>\n",
       "      <td>84.755568</td>\n",
       "      <td>85.14083</td>\n",
       "      <td>82.585018</td>\n",
       "      <td>83.539907</td>\n",
       "      <td>83.916891</td>\n",
       "      <td>85.258126</td>\n",
       "      <td>83.667371</td>\n",
       "      <td>78.75</td>\n",
       "      <td>80.977854</td>\n",
       "      <td>79.908216</td>\n",
       "      <td>83.45972</td>\n",
       "    </tr>\n",
       "    <tr>\n",
       "      <th>pos</th>\n",
       "      <td>15.244432</td>\n",
       "      <td>14.85917</td>\n",
       "      <td>17.414982</td>\n",
       "      <td>16.460093</td>\n",
       "      <td>16.083109</td>\n",
       "      <td>14.741874</td>\n",
       "      <td>16.332629</td>\n",
       "      <td>21.25</td>\n",
       "      <td>19.022146</td>\n",
       "      <td>20.091784</td>\n",
       "      <td>16.54028</td>\n",
       "    </tr>\n",
       "  </tbody>\n",
       "</table>\n",
       "</div>"
      ],
      "text/plain": [
       "airline  AirFrance  AmericanAir  British_Airways  EtihadAirways        KLM  \\\n",
       "class                                                                        \n",
       "neg      84.755568     85.14083        82.585018      83.539907  83.916891   \n",
       "pos      15.244432     14.85917        17.414982      16.460093  16.083109   \n",
       "\n",
       "airline  Lufthansa     Qantas  RyanAir  SingaporeAir  VirginAtlantic   easyJet  \n",
       "class                                                                           \n",
       "neg      85.258126  83.667371    78.75     80.977854       79.908216  83.45972  \n",
       "pos      14.741874  16.332629    21.25     19.022146       20.091784  16.54028  "
      ]
     },
     "execution_count": 83,
     "metadata": {},
     "output_type": "execute_result"
    }
   ],
   "source": [
    "#.sort_values(by=jdf['airline'].value_counts())\n",
    "#pd.crosstab(jdf['airline'], jdf['class']).sort_values('neg', ascending=False)\n",
    "pd.crosstab(jdf['class'], jdf['airline']).apply(lambda x: x / x.sum() * 100, axis=0)#.plot(kind='bar',figsize=(8,8),stacked=True,color=sns.xkcd_palette(colorsi))"
   ]
  },
  {
   "cell_type": "code",
   "execution_count": 1,
   "metadata": {},
   "outputs": [
    {
     "ename": "NameError",
     "evalue": "name 'pd' is not defined",
     "output_type": "error",
     "traceback": [
      "\u001b[1;31m---------------------------------------------------------------------------\u001b[0m",
      "\u001b[1;31mNameError\u001b[0m                                 Traceback (most recent call last)",
      "\u001b[1;32m<ipython-input-1-cd0e7cce64fc>\u001b[0m in \u001b[0;36m<module>\u001b[1;34m\u001b[0m\n\u001b[1;32m----> 1\u001b[1;33m \u001b[0mv\u001b[0m \u001b[1;33m=\u001b[0m \u001b[0mpd\u001b[0m\u001b[1;33m.\u001b[0m\u001b[0mcrosstab\u001b[0m\u001b[1;33m(\u001b[0m\u001b[0mjdf\u001b[0m\u001b[1;33m[\u001b[0m\u001b[1;34m'airline'\u001b[0m\u001b[1;33m]\u001b[0m\u001b[1;33m,\u001b[0m \u001b[0mjdf\u001b[0m\u001b[1;33m[\u001b[0m\u001b[1;34m'class'\u001b[0m\u001b[1;33m]\u001b[0m\u001b[1;33m)\u001b[0m\u001b[1;33m.\u001b[0m\u001b[0msort_values\u001b[0m\u001b[1;33m(\u001b[0m\u001b[1;34m'neg'\u001b[0m\u001b[1;33m,\u001b[0m \u001b[0mascending\u001b[0m\u001b[1;33m=\u001b[0m\u001b[1;32mFalse\u001b[0m\u001b[1;33m)\u001b[0m\u001b[1;31m#.plot(kind=\"bar\",title='Pos/Neg Received Tweets per Airline',figsize=(8,8),stacked=True, color=sns.xkcd_palette(colorsi))\u001b[0m\u001b[1;33m\u001b[0m\u001b[1;33m\u001b[0m\u001b[0m\n\u001b[0m\u001b[0;32m      2\u001b[0m \u001b[0mv1\u001b[0m \u001b[1;33m=\u001b[0m \u001b[0mv\u001b[0m\u001b[1;33m.\u001b[0m\u001b[0mplot\u001b[0m\u001b[1;33m(\u001b[0m\u001b[0mkind\u001b[0m\u001b[1;33m=\u001b[0m\u001b[1;34m\"bar\"\u001b[0m\u001b[1;33m,\u001b[0m\u001b[0mfigsize\u001b[0m\u001b[1;33m=\u001b[0m\u001b[1;33m(\u001b[0m\u001b[1;36m8\u001b[0m\u001b[1;33m,\u001b[0m\u001b[1;36m8\u001b[0m\u001b[1;33m)\u001b[0m\u001b[1;33m,\u001b[0m\u001b[0mstacked\u001b[0m\u001b[1;33m=\u001b[0m\u001b[1;32mTrue\u001b[0m\u001b[1;33m,\u001b[0m \u001b[0mcolor\u001b[0m\u001b[1;33m=\u001b[0m\u001b[0msns\u001b[0m\u001b[1;33m.\u001b[0m\u001b[0mxkcd_palette\u001b[0m\u001b[1;33m(\u001b[0m\u001b[0mcolorsi\u001b[0m\u001b[1;33m)\u001b[0m\u001b[1;33m)\u001b[0m\u001b[1;33m\u001b[0m\u001b[1;33m\u001b[0m\u001b[0m\n\u001b[0;32m      3\u001b[0m \u001b[0mv1\u001b[0m\u001b[1;33m.\u001b[0m\u001b[0mget_xticklabels\u001b[0m\u001b[1;33m(\u001b[0m\u001b[1;33m)\u001b[0m\u001b[1;33m[\u001b[0m\u001b[1;36m3\u001b[0m\u001b[1;33m]\u001b[0m\u001b[1;33m.\u001b[0m\u001b[0mset_color\u001b[0m\u001b[1;33m(\u001b[0m\u001b[1;34m'red'\u001b[0m\u001b[1;33m)\u001b[0m\u001b[1;33m\u001b[0m\u001b[1;33m\u001b[0m\u001b[0m\n\u001b[0;32m      4\u001b[0m \u001b[0mv1\u001b[0m\u001b[1;33m.\u001b[0m\u001b[0mset_title\u001b[0m\u001b[1;33m(\u001b[0m\u001b[1;34m'Pos/Neg Received Tweets per Airline'\u001b[0m\u001b[1;33m,\u001b[0m \u001b[0msize\u001b[0m\u001b[1;33m=\u001b[0m\u001b[1;36m18\u001b[0m\u001b[1;33m,\u001b[0m \u001b[0mfontweight\u001b[0m\u001b[1;33m=\u001b[0m\u001b[1;34m'bold'\u001b[0m\u001b[1;33m)\u001b[0m\u001b[1;33m\u001b[0m\u001b[1;33m\u001b[0m\u001b[0m\n\u001b[0;32m      5\u001b[0m \u001b[0mv1\u001b[0m\u001b[1;33m.\u001b[0m\u001b[0mset_xlabel\u001b[0m\u001b[1;33m(\u001b[0m\u001b[1;34m'Airline'\u001b[0m\u001b[1;33m,\u001b[0m\u001b[0mfontweight\u001b[0m\u001b[1;33m=\u001b[0m\u001b[1;34m'bold'\u001b[0m\u001b[1;33m)\u001b[0m\u001b[1;33m\u001b[0m\u001b[1;33m\u001b[0m\u001b[0m\n",
      "\u001b[1;31mNameError\u001b[0m: name 'pd' is not defined"
     ]
    }
   ],
   "source": [
    "v = pd.crosstab(jdf['airline'], jdf['class']).sort_values('neg', ascending=False)#.plot(kind=\"bar\",title='Pos/Neg Received Tweets per Airline',figsize=(8,8),stacked=True, color=sns.xkcd_palette(colorsi))\n",
    "v1 = v.plot(kind=\"bar\",figsize=(8,8),stacked=True, color=sns.xkcd_palette(colorsi))\n",
    "v1.get_xticklabels()[3].set_color('red')\n",
    "v1.set_title('Pos/Neg Received Tweets per Airline', size=18, fontweight='bold')\n",
    "v1.set_xlabel('Airline',fontweight='bold')\n",
    "v1.set_ylabel('Count of tweets',fontweight='bold')\n",
    "plt.xticks(rotation=45) \n",
    "plt.legend(bbox_to_anchor=(1.05, 1), loc=2);"
   ]
  },
  {
   "cell_type": "code",
   "execution_count": 89,
   "metadata": {
    "scrolled": false
   },
   "outputs": [
    {
     "data": {
      "image/png": "[encoded data removed]",
      "text/plain": [
       "<Figure size 576x576 with 1 Axes>"
      ]
     },
     "metadata": {
      "needs_background": "light"
     },
     "output_type": "display_data"
    }
   ],
   "source": [
    "v1 = pd.crosstab(jdf['airline'], jdf['class']).apply(lambda x: x / x.sum() * 100, axis=1).sort_values('neg', ascending=False)\n",
    "v2 = v1.plot(kind='bar',figsize=(8,8),stacked=True,color=sns.xkcd_palette(colorsi))\n",
    "v2.get_xticklabels()[3].set_color('red')\n",
    "v2.set_title('Percentage of Pos/Neg Received Tweets per Airline', size=18, fontweight='bold')\n",
    "v2.set_xlabel('Airline', fontweight='bold')\n",
    "plt.xticks(rotation=45) \n",
    "v2.set_ylabel('Percentage (%)' , fontweight='bold')\n",
    "plt.legend(bbox_to_anchor=(1.05, 1), loc=2);"
   ]
  },
  {
   "cell_type": "code",
   "execution_count": null,
   "metadata": {},
   "outputs": [],
   "source": [
    "with open('conversations.json', 'r') as convo_json:\n",
    "    convos = json.load(convo_json)"
   ]
  },
  {
   "cell_type": "markdown",
   "metadata": {},
   "source": [
    "### Getting the breastfeeding tweet replies sentiment"
   ]
  },
  {
   "cell_type": "code",
   "execution_count": 13,
   "metadata": {},
   "outputs": [
    {
     "data": {
      "text/plain": [
       "[1151049902673322000]"
      ]
     },
     "execution_count": 13,
     "metadata": {},
     "output_type": "execute_result"
    }
   ],
   "source": [
    "[t['id'] for t in tweets.find({}) if '@HeatherYemm Breastfeeding is permitted at KLM flights. However, to ensure that all our passengers of all backgrounds feel comfortable on board, we may request a mother to cover herself while breastfeeding, should other passengers be offended by this' in t['text'] if t['language']=='eng']\n"
   ]
  },
  {
   "cell_type": "code",
   "execution_count": 16,
   "metadata": {},
   "outputs": [],
   "source": [
    "breast = pd.DataFrame()\n",
    "breast['tweet'] = [t['text'] for t in tweets.find({}) if t['in_reply_to_status_id'] == 1151049902673322000 if t['language']=='eng']"
   ]
  },
  {
   "cell_type": "code",
   "execution_count": 20,
   "metadata": {},
   "outputs": [
    {
     "data": {
      "text/html": [
       "<div>\n",
       "<style scoped>\n",
       "    .dataframe tbody tr th:only-of-type {\n",
       "        vertical-align: middle;\n",
       "    }\n",
       "\n",
       "    .dataframe tbody tr th {\n",
       "        vertical-align: top;\n",
       "    }\n",
       "\n",
       "    .dataframe thead th {\n",
       "        text-align: right;\n",
       "    }\n",
       "</style>\n",
       "<table border=\"1\" class=\"dataframe\">\n",
       "  <thead>\n",
       "    <tr style=\"text-align: right;\">\n",
       "      <th></th>\n",
       "      <th>tweet</th>\n",
       "    </tr>\n",
       "  </thead>\n",
       "  <tbody>\n",
       "    <tr>\n",
       "      <th>0</th>\n",
       "      <td>@KLM @HeatherYemm I don't even know what to say ☹️ permitted to feed a hungry child?? What if your attitude makes me uncomfortable? What would you put a blanket over then?</td>\n",
       "    </tr>\n",
       "    <tr>\n",
       "      <th>1</th>\n",
       "      <td>@KLM @HeatherYemm This is so wrong and upsetting. I have breastfed both my girls on many flights and I cannot imagine being asked to cover up because it offends someone to see a baby being fed. I guess I won’t be taking @klm. Unbelievably disappointing.</td>\n",
       "    </tr>\n",
       "    <tr>\n",
       "      <th>2</th>\n",
       "      <td>@KLM @HeatherYemm “Permitted” is the key problem here. \\n\\nIt should be “supported.” \\n\\nIf someone is “offended” they can look elsewhere or sit somewhere else.</td>\n",
       "    </tr>\n",
       "    <tr>\n",
       "      <th>3</th>\n",
       "      <td>@KLM @HeatherYemm You seriously thought putting this policy out in the public domain was a good idea?  Man, you gotta pay your marketing peeps more than minimum wage; this was a childish mistake. Gooooooood luck finding a new job, you novice Twitter manager.  Bummer.</td>\n",
       "    </tr>\n",
       "    <tr>\n",
       "      <th>4</th>\n",
       "      <td>@KLM @HeatherYemm no one “permits” anyone to breastfed, I’d maybe change your wording. If someone is offended they can firstly look away and then they look into the depths of their soul for the perverse reason they are offended by a woman feeding their child! Terrible policy!</td>\n",
       "    </tr>\n",
       "    <tr>\n",
       "      <th>5</th>\n",
       "      <td>@KLM @HeatherYemm perhaps you hand that blanket to the person who would be offended and ask them cover their eyes instead of handing it to the mom</td>\n",
       "    </tr>\n",
       "    <tr>\n",
       "      <th>6</th>\n",
       "      <td>@KLM @HeatherYemm Wow! Feeding an infant is \"pemitted\" on your flights?\\n\\n To ensure comfort of all passengers, please request those who are offended by feeding an infant to move, avert their eyes, or give them a blanket to cover their heads!</td>\n",
       "    </tr>\n",
       "    <tr>\n",
       "      <th>7</th>\n",
       "      <td>@KLM @HeatherYemm Maybe covers should be handed out to passengers when they purchase something from the drinks trolley too. I find it offensive when people eat with their mouths open.</td>\n",
       "    </tr>\n",
       "    <tr>\n",
       "      <th>8</th>\n",
       "      <td>@KLM @HeatherYemm Then I urge you to toss a blanket at everyone that flies with you. I can't stand people chewing with their mouths open, something which I see frequently. While breastfeeding is a necessity, open-mouth chewing is just bad manners.</td>\n",
       "    </tr>\n",
       "    <tr>\n",
       "      <th>9</th>\n",
       "      <td>@KLM @HeatherYemm Wow. My partner fed our boy countless times on @easyJet on takeoff, landing and whenever he wanted it. No covering, no fuss, no issue. Pull your head from your arse, @KLM. If somebody is offended by breastfeeding then the issue is theirs, not the mothers. Support the mum first.</td>\n",
       "    </tr>\n",
       "  </tbody>\n",
       "</table>\n",
       "</div>"
      ],
      "text/plain": [
       "                                                                                                                                                                                                                                                                                                      tweet\n",
       "0                                                                                                                               @KLM @HeatherYemm I don't even know what to say ☹️ permitted to feed a hungry child?? What if your attitude makes me uncomfortable? What would you put a blanket over then?\n",
       "1                                             @KLM @HeatherYemm This is so wrong and upsetting. I have breastfed both my girls on many flights and I cannot imagine being asked to cover up because it offends someone to see a baby being fed. I guess I won’t be taking @klm. Unbelievably disappointing.\n",
       "2                                                                                                                                          @KLM @HeatherYemm “Permitted” is the key problem here. \\n\\nIt should be “supported.” \\n\\nIf someone is “offended” they can look elsewhere or sit somewhere else.\n",
       "3                               @KLM @HeatherYemm You seriously thought putting this policy out in the public domain was a good idea?  Man, you gotta pay your marketing peeps more than minimum wage; this was a childish mistake. Gooooooood luck finding a new job, you novice Twitter manager.  Bummer.\n",
       "4                      @KLM @HeatherYemm no one “permits” anyone to breastfed, I’d maybe change your wording. If someone is offended they can firstly look away and then they look into the depths of their soul for the perverse reason they are offended by a woman feeding their child! Terrible policy!\n",
       "5                                                                                                                                                        @KLM @HeatherYemm perhaps you hand that blanket to the person who would be offended and ask them cover their eyes instead of handing it to the mom\n",
       "6                                                       @KLM @HeatherYemm Wow! Feeding an infant is \"pemitted\" on your flights?\\n\\n To ensure comfort of all passengers, please request those who are offended by feeding an infant to move, avert their eyes, or give them a blanket to cover their heads!\n",
       "7                                                                                                                   @KLM @HeatherYemm Maybe covers should be handed out to passengers when they purchase something from the drinks trolley too. I find it offensive when people eat with their mouths open.\n",
       "8                                                   @KLM @HeatherYemm Then I urge you to toss a blanket at everyone that flies with you. I can't stand people chewing with their mouths open, something which I see frequently. While breastfeeding is a necessity, open-mouth chewing is just bad manners.\n",
       "9  @KLM @HeatherYemm Wow. My partner fed our boy countless times on @easyJet on takeoff, landing and whenever he wanted it. No covering, no fuss, no issue. Pull your head from your arse, @KLM. If somebody is offended by breastfeeding then the issue is theirs, not the mothers. Support the mum first."
      ]
     },
     "execution_count": 20,
     "metadata": {},
     "output_type": "execute_result"
    }
   ],
   "source": [
    "breast.head(10)"
   ]
  },
  {
   "cell_type": "code",
   "execution_count": 29,
   "metadata": {},
   "outputs": [],
   "source": [
    "breast['tweet']=breast['tweet'].apply(cleantxt)"
   ]
  },
  {
   "cell_type": "code",
   "execution_count": 30,
   "metadata": {},
   "outputs": [
    {
     "data": {
      "text/plain": [
       "[('to', 2618),\n",
       " ('a', 2283),\n",
       " ('the', 2061),\n",
       " ('you', 1515),\n",
       " ('is', 1377),\n",
       " ('and', 1322),\n",
       " ('i', 1043),\n",
       " ('of', 981),\n",
       " ('offended', 828),\n",
       " ('this', 807),\n",
       " ('be', 762),\n",
       " ('in', 718),\n",
       " ('that', 715),\n",
       " ('are', 711),\n",
       " ('if', 695),\n",
       " ('with', 693),\n",
       " ('breastfeeding', 686),\n",
       " ('not', 665),\n",
       " ('their', 664),\n",
       " ('cover', 656)]"
      ]
     },
     "execution_count": 30,
     "metadata": {},
     "output_type": "execute_result"
    }
   ],
   "source": [
    "from collections import Counter\n",
    "cnt = Counter()\n",
    "for text in breast[\"tweet\"].values:\n",
    "    for word in text.split():\n",
    "        cnt[word] += 1\n",
    "        \n",
    "#cnt.most_common(20)"
   ]
  },
  {
   "cell_type": "code",
   "execution_count": 31,
   "metadata": {},
   "outputs": [],
   "source": [
    "FREQWORDS = set([w for (w, wc) in cnt.most_common(16)])\n",
    "def remove_freqwords(text):\n",
    "    \"\"\"custom function to remove the frequent words\"\"\"\n",
    "    return \" \".join([word for word in str(text).split() if word not in FREQWORDS])\n",
    "\n",
    "breast['tweet'] = breast['tweet'].apply(remove_freqwords)\n",
    "#breast[['tweet']].head()"
   ]
  },
  {
   "cell_type": "code",
   "execution_count": 34,
   "metadata": {},
   "outputs": [],
   "source": [
    "breast['class'] = breast['tweet'].apply(classify)"
   ]
  },
  {
   "cell_type": "code",
   "execution_count": 35,
   "metadata": {},
   "outputs": [
    {
     "data": {
      "text/html": [
       "<div>\n",
       "<style scoped>\n",
       "    .dataframe tbody tr th:only-of-type {\n",
       "        vertical-align: middle;\n",
       "    }\n",
       "\n",
       "    .dataframe tbody tr th {\n",
       "        vertical-align: top;\n",
       "    }\n",
       "\n",
       "    .dataframe thead th {\n",
       "        text-align: right;\n",
       "    }\n",
       "</style>\n",
       "<table border=\"1\" class=\"dataframe\">\n",
       "  <thead>\n",
       "    <tr style=\"text-align: right;\">\n",
       "      <th></th>\n",
       "      <th>tweet</th>\n",
       "      <th>class</th>\n",
       "    </tr>\n",
       "  </thead>\n",
       "  <tbody>\n",
       "    <tr>\n",
       "      <th>0</th>\n",
       "      <td>dont even know what say ☹️ permitted feed hungry child what your attitude makes me uncomfortable what would put blanket over then</td>\n",
       "      <td>neg</td>\n",
       "    </tr>\n",
       "    <tr>\n",
       "      <th>1</th>\n",
       "      <td>so wrong upsetting have breastfed both my girls on many s cannot imagine being asked cover up because it offends someone see baby being fed guess won’t taking unbelievably disappointing</td>\n",
       "      <td>neg</td>\n",
       "    </tr>\n",
       "    <tr>\n",
       "      <th>2</th>\n",
       "      <td>“permitted” key problem here it should “supported” someone “offended” they can look elsewhere or sit somewhere else</td>\n",
       "      <td>pos</td>\n",
       "    </tr>\n",
       "    <tr>\n",
       "      <th>3</th>\n",
       "      <td>seriously thought putting policy out public domain was good idea man gotta pay your marketing peeps more than minimum wage was childish mistake gooooooood luck finding new job novice twitter manager bummer</td>\n",
       "      <td>neg</td>\n",
       "    </tr>\n",
       "    <tr>\n",
       "      <th>4</th>\n",
       "      <td>no one “permits” anyone breastfed i’d maybe change your wording someone they can firstly look away then they look into depths their soul for perverse reason they by woman feeding their child terrible policy</td>\n",
       "      <td>neg</td>\n",
       "    </tr>\n",
       "    <tr>\n",
       "      <th>...</th>\n",
       "      <td>...</td>\n",
       "      <td>...</td>\n",
       "    </tr>\n",
       "    <tr>\n",
       "      <th>2093</th>\n",
       "      <td>im someone by baby feeding itself maybe it’s idea give person</td>\n",
       "      <td>neg</td>\n",
       "    </tr>\n",
       "    <tr>\n",
       "      <th>2094</th>\n",
       "      <td>nourishing baby loving supportive mutually beneficial act for baby lactating mother united states women legally protected breastfeed without cover immune any notion public indecency who trying stop baby from eating</td>\n",
       "      <td>neg</td>\n",
       "    </tr>\n",
       "    <tr>\n",
       "      <th>2095</th>\n",
       "      <td>mother feeding her child only offensive who have indecent thoughts when seeing it there nothing insulting offensive or disrespectful doing what women have done since beginning time tell other passengers mind their own business silly</td>\n",
       "      <td>neg</td>\n",
       "    </tr>\n",
       "    <tr>\n",
       "      <th>2096</th>\n",
       "      <td>quite stupid publish todays society only considering their own opinion as common rule get these stupid answers for some religions klm destinations its not acceptable for others more liberal it we better avoid selfish egocentric idiots onboard</td>\n",
       "      <td>neg</td>\n",
       "    </tr>\n",
       "    <tr>\n",
       "      <th>2097</th>\n",
       "      <td>by woman feeding her child sick insecure pathetic fuck shouldn’t allowed fly or leave house</td>\n",
       "      <td>neg</td>\n",
       "    </tr>\n",
       "  </tbody>\n",
       "</table>\n",
       "<p>2098 rows × 2 columns</p>\n",
       "</div>"
      ],
      "text/plain": [
       "                                                                                                                                                                                                                                                   tweet  \\\n",
       "0                                                                                                                      dont even know what say ☹️ permitted feed hungry child what your attitude makes me uncomfortable what would put blanket over then   \n",
       "1                                                              so wrong upsetting have breastfed both my girls on many s cannot imagine being asked cover up because it offends someone see baby being fed guess won’t taking unbelievably disappointing   \n",
       "2                                                                                                                                    “permitted” key problem here it should “supported” someone “offended” they can look elsewhere or sit somewhere else   \n",
       "3                                          seriously thought putting policy out public domain was good idea man gotta pay your marketing peeps more than minimum wage was childish mistake gooooooood luck finding new job novice twitter manager bummer   \n",
       "4                                         no one “permits” anyone breastfed i’d maybe change your wording someone they can firstly look away then they look into depths their soul for perverse reason they by woman feeding their child terrible policy   \n",
       "...                                                                                                                                                                                                                                                  ...   \n",
       "2093                                                                                                                                                                                       im someone by baby feeding itself maybe it’s idea give person   \n",
       "2094                              nourishing baby loving supportive mutually beneficial act for baby lactating mother united states women legally protected breastfeed without cover immune any notion public indecency who trying stop baby from eating   \n",
       "2095            mother feeding her child only offensive who have indecent thoughts when seeing it there nothing insulting offensive or disrespectful doing what women have done since beginning time tell other passengers mind their own business silly   \n",
       "2096  quite stupid publish todays society only considering their own opinion as common rule get these stupid answers for some religions klm destinations its not acceptable for others more liberal it we better avoid selfish egocentric idiots onboard   \n",
       "2097                                                                                                                                                         by woman feeding her child sick insecure pathetic fuck shouldn’t allowed fly or leave house   \n",
       "\n",
       "     class  \n",
       "0      neg  \n",
       "1      neg  \n",
       "2      pos  \n",
       "3      neg  \n",
       "4      neg  \n",
       "...    ...  \n",
       "2093   neg  \n",
       "2094   neg  \n",
       "2095   neg  \n",
       "2096   neg  \n",
       "2097   neg  \n",
       "\n",
       "[2098 rows x 2 columns]"
      ]
     },
     "execution_count": 35,
     "metadata": {},
     "output_type": "execute_result"
    }
   ],
   "source": [
    "breast"
   ]
  },
  {
   "cell_type": "code",
   "execution_count": 40,
   "metadata": {},
   "outputs": [
    {
     "data": {
      "text/plain": [
       "neg    89.70448\n",
       "pos    10.29552\n",
       "Name: class, dtype: float64"
      ]
     },
     "execution_count": 40,
     "metadata": {},
     "output_type": "execute_result"
    }
   ],
   "source": [
    "breast['class'].value_counts()/len(breast['tweet'])*100"
   ]
  },
  {
   "cell_type": "code",
   "execution_count": null,
   "metadata": {},
   "outputs": [],
   "source": []
  }
 ],
 "metadata": {
  "kernelspec": {
   "display_name": "Python 3",
   "language": "python",
   "name": "python3"
  },
  "language_info": {
   "codemirror_mode": {
    "name": "ipython",
    "version": 3
   },
   "file_extension": ".py",
   "mimetype": "text/x-python",
   "name": "python",
   "nbconvert_exporter": "python",
   "pygments_lexer": "ipython3",
   "version": "3.7.3"
  }
 },
 "nbformat": 4,
 "nbformat_minor": 2
}
