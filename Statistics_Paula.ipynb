{
 "cells": [
  {
   "cell_type": "code",
   "execution_count": 1,
   "metadata": {},
   "outputs": [],
   "source": [
    "#import important modules\n",
    "import pymongo as pm\n",
    "import pandas as pd\n",
    "import matplotlib.pyplot as plt\n",
    "import numpy as np\n",
    "import sklearn as skl\n",
    "from pymongo import MongoClient\n",
    "import json\n",
    "import pickle\n",
    "import re\n",
    "import pprint\n",
    "import datetime\n",
    "import statistics as st"
   ]
  },
  {
   "cell_type": "code",
   "execution_count": 2,
   "metadata": {},
   "outputs": [],
   "source": [
    "with open('editeddata/conversations.json', 'r') as convo_json:\n",
    "    convos = json.load(convo_json)"
   ]
  },
  {
   "cell_type": "code",
   "execution_count": 3,
   "metadata": {},
   "outputs": [],
   "source": [
    "client = MongoClient('localhost', 27017)\n",
    "mydb = client.tweets\n",
    "col = mydb['_tweets']"
   ]
  },
  {
   "cell_type": "code",
   "execution_count": 4,
   "metadata": {},
   "outputs": [],
   "source": [
    "airlines = {'KLM':56377143, \n",
    "            'AirFrance': 106062176, \n",
    "            'British_Airways': 18332190, \n",
    "            'AmericanAir': 22536055, \n",
    "           'Lufthansa': 124476322, \n",
    "           'AirBerlin': 26223583, \n",
    "           'AirBerlinAssist': 2182373406, \n",
    "           'easyJet': 38676903, \n",
    "           'RyanAir': 1542862735, \n",
    "           'SingaporeAir': 253340062, \n",
    "           'Qantas': 218730857, \n",
    "           'EtihadAirways': 45621423, \n",
    "           'VirginAtlantic': 20626359}"
   ]
  },
  {
   "cell_type": "code",
   "execution_count": 5,
   "metadata": {},
   "outputs": [],
   "source": [
    "air_count = pickle.load(open(\"save.p\", \"rb\"))"
   ]
  },
  {
   "cell_type": "markdown",
   "metadata": {},
   "source": [
    "Get the ratio of replied tweets for every airline"
   ]
  },
  {
   "cell_type": "code",
   "execution_count": 6,
   "metadata": {},
   "outputs": [],
   "source": [
    "for name in airlines:\n",
    "    if len(air_count[name]['ids']) != 0:\n",
    "        conv_tweets = len(air_count[name]['ids']) - len(list(col.find({'user.id': airlines[name], 'in_reply_to_user_id':'none'})))\n",
    "        a = len(list(col.find({'user.id' : airlines[name], 'in_reply_to_user_id' :{'$ne': 'none'}})))\n",
    "        air_count[name]['rep_to_all'] = a / conv_tweets\n",
    "        if a != 0:\n",
    "            air_count[name]['rec_to_rep'] = (conv_tweets - a) / a \n",
    "        else:\n",
    "            air_count[name]['rec_to_rep'] = conv_tweets\n",
    "    else:\n",
    "        air_count[name]['rep_to_all'] = 0\n",
    "        air_count[name]['rec_to_rep'] = 0"
   ]
  },
  {
   "cell_type": "markdown",
   "metadata": {},
   "source": [
    "Received over reply tweets. \n",
    "We exclude AirBerlin (which didn't reply at all to its cutomers) and AirBerlinAssist (which doesn't have any tweets associated with them)"
   ]
  },
  {
   "cell_type": "code",
   "execution_count": 21,
   "metadata": {},
   "outputs": [
    {
     "data": {
      "text/html": [
       "<div>\n",
       "<style scoped>\n",
       "    .dataframe tbody tr th:only-of-type {\n",
       "        vertical-align: middle;\n",
       "    }\n",
       "\n",
       "    .dataframe tbody tr th {\n",
       "        vertical-align: top;\n",
       "    }\n",
       "\n",
       "    .dataframe thead th {\n",
       "        text-align: right;\n",
       "    }\n",
       "</style>\n",
       "<table border=\"1\" class=\"dataframe\">\n",
       "  <thead>\n",
       "    <tr style=\"text-align: right;\">\n",
       "      <th></th>\n",
       "      <th>airline</th>\n",
       "      <th>rec_to_rep_ratio</th>\n",
       "    </tr>\n",
       "  </thead>\n",
       "  <tbody>\n",
       "    <tr>\n",
       "      <th>0</th>\n",
       "      <td>EtihadAirways</td>\n",
       "      <td>41.679287</td>\n",
       "    </tr>\n",
       "    <tr>\n",
       "      <th>1</th>\n",
       "      <td>Qantas</td>\n",
       "      <td>16.264645</td>\n",
       "    </tr>\n",
       "    <tr>\n",
       "      <th>2</th>\n",
       "      <td>AmericanAir</td>\n",
       "      <td>14.689286</td>\n",
       "    </tr>\n",
       "    <tr>\n",
       "      <th>3</th>\n",
       "      <td>Lufthansa</td>\n",
       "      <td>9.579556</td>\n",
       "    </tr>\n",
       "    <tr>\n",
       "      <th>4</th>\n",
       "      <td>KLM</td>\n",
       "      <td>6.780810</td>\n",
       "    </tr>\n",
       "    <tr>\n",
       "      <th>5</th>\n",
       "      <td>RyanAir</td>\n",
       "      <td>4.331509</td>\n",
       "    </tr>\n",
       "    <tr>\n",
       "      <th>6</th>\n",
       "      <td>AirFrance</td>\n",
       "      <td>3.796608</td>\n",
       "    </tr>\n",
       "    <tr>\n",
       "      <th>7</th>\n",
       "      <td>easyJet</td>\n",
       "      <td>3.737165</td>\n",
       "    </tr>\n",
       "    <tr>\n",
       "      <th>8</th>\n",
       "      <td>VirginAtlantic</td>\n",
       "      <td>3.497543</td>\n",
       "    </tr>\n",
       "    <tr>\n",
       "      <th>9</th>\n",
       "      <td>British_Airways</td>\n",
       "      <td>3.039093</td>\n",
       "    </tr>\n",
       "    <tr>\n",
       "      <th>10</th>\n",
       "      <td>SingaporeAir</td>\n",
       "      <td>2.451467</td>\n",
       "    </tr>\n",
       "  </tbody>\n",
       "</table>\n",
       "</div>"
      ],
      "text/plain": [
       "            airline  rec_to_rep_ratio\n",
       "0     EtihadAirways         41.679287\n",
       "1            Qantas         16.264645\n",
       "2       AmericanAir         14.689286\n",
       "3         Lufthansa          9.579556\n",
       "4               KLM          6.780810\n",
       "5           RyanAir          4.331509\n",
       "6         AirFrance          3.796608\n",
       "7           easyJet          3.737165\n",
       "8    VirginAtlantic          3.497543\n",
       "9   British_Airways          3.039093\n",
       "10     SingaporeAir          2.451467"
      ]
     },
     "execution_count": 21,
     "metadata": {},
     "output_type": "execute_result"
    }
   ],
   "source": [
    "reps = pd.DataFrame(columns=['airline', 'rec_to_rep_ratio'])\n",
    "reps['airline'] = [i for i in airlines.keys() if i not in 'AirBerlinAssist']\n",
    "reps['rec_to_rep_ratio'] = [air_count[name]['rec_to_rep'] for name in airlines if name not in 'AirBerlinAssist']\n",
    "reps_sort = reps.sort_values(by='rec_to_rep_ratio', ascending=False)\n",
    "reps_sort = reps_sort.reset_index(drop=True)\n",
    "reps_sort"
   ]
  },
  {
   "cell_type": "markdown",
   "metadata": {},
   "source": [
    "The point is to be low on the table as that indicates a low number of received tweets per a reply"
   ]
  },
  {
   "cell_type": "code",
   "execution_count": 13,
   "metadata": {},
   "outputs": [
    {
     "data": {
      "image/png": "[encoded data removed]",
      "text/plain": [
       "<Figure size 864x360 with 1 Axes>"
      ]
     },
     "metadata": {
      "needs_background": "light"
     },
     "output_type": "display_data"
    }
   ],
   "source": [
    "plt.figure(figsize=(12,5))\n",
    "plt.bar(reps_sort['airline'], reps_sort['rec_to_rep_ratio'], color='green')\n",
    "plt.xticks(rotation='45')\n",
    "plt.title('Ratio of received to reply tweets per airline', size=15)\n",
    "plt.ylabel('Number of received per a reply', size=12);"
   ]
  },
  {
   "cell_type": "code",
   "execution_count": 26,
   "metadata": {},
   "outputs": [
    {
     "name": "stdout",
     "output_type": "stream",
     "text": [
      "SingaporeAir: 2.4514672686230248 \n",
      " KLM: 6.780810038767599 \n",
      "Mean: 9.986088144227395\n"
     ]
    }
   ],
   "source": [
    "print('SingaporeAir:', air_count['SingaporeAir']['rec_to_rep'], '\\n', 'KLM:', air_count['KLM']['rec_to_rep'], '\\n' 'Mean:', st.mean(list(reps['rec_to_rep_ratio'])))\n"
   ]
  },
  {
   "cell_type": "code",
   "execution_count": 52,
   "metadata": {},
   "outputs": [
    {
     "data": {
      "text/html": [
       "<div>\n",
       "<style scoped>\n",
       "    .dataframe tbody tr th:only-of-type {\n",
       "        vertical-align: middle;\n",
       "    }\n",
       "\n",
       "    .dataframe tbody tr th {\n",
       "        vertical-align: top;\n",
       "    }\n",
       "\n",
       "    .dataframe thead th {\n",
       "        text-align: right;\n",
       "    }\n",
       "</style>\n",
       "<table border=\"1\" class=\"dataframe\">\n",
       "  <thead>\n",
       "    <tr style=\"text-align: right;\">\n",
       "      <th></th>\n",
       "      <th>airline</th>\n",
       "      <th>rep_to_all</th>\n",
       "    </tr>\n",
       "  </thead>\n",
       "  <tbody>\n",
       "    <tr>\n",
       "      <th>9</th>\n",
       "      <td>SingaporeAir</td>\n",
       "      <td>0.289732</td>\n",
       "    </tr>\n",
       "    <tr>\n",
       "      <th>2</th>\n",
       "      <td>British_Airways</td>\n",
       "      <td>0.247580</td>\n",
       "    </tr>\n",
       "    <tr>\n",
       "      <th>12</th>\n",
       "      <td>VirginAtlantic</td>\n",
       "      <td>0.222344</td>\n",
       "    </tr>\n",
       "    <tr>\n",
       "      <th>7</th>\n",
       "      <td>easyJet</td>\n",
       "      <td>0.211097</td>\n",
       "    </tr>\n",
       "    <tr>\n",
       "      <th>1</th>\n",
       "      <td>AirFrance</td>\n",
       "      <td>0.208481</td>\n",
       "    </tr>\n",
       "    <tr>\n",
       "      <th>8</th>\n",
       "      <td>RyanAir</td>\n",
       "      <td>0.187564</td>\n",
       "    </tr>\n",
       "    <tr>\n",
       "      <th>0</th>\n",
       "      <td>KLM</td>\n",
       "      <td>0.128521</td>\n",
       "    </tr>\n",
       "    <tr>\n",
       "      <th>4</th>\n",
       "      <td>Lufthansa</td>\n",
       "      <td>0.094522</td>\n",
       "    </tr>\n",
       "    <tr>\n",
       "      <th>3</th>\n",
       "      <td>AmericanAir</td>\n",
       "      <td>0.063738</td>\n",
       "    </tr>\n",
       "    <tr>\n",
       "      <th>10</th>\n",
       "      <td>Qantas</td>\n",
       "      <td>0.057922</td>\n",
       "    </tr>\n",
       "    <tr>\n",
       "      <th>11</th>\n",
       "      <td>EtihadAirways</td>\n",
       "      <td>0.023431</td>\n",
       "    </tr>\n",
       "    <tr>\n",
       "      <th>5</th>\n",
       "      <td>AirBerlin</td>\n",
       "      <td>0.000000</td>\n",
       "    </tr>\n",
       "    <tr>\n",
       "      <th>6</th>\n",
       "      <td>AirBerlinAssist</td>\n",
       "      <td>0.000000</td>\n",
       "    </tr>\n",
       "  </tbody>\n",
       "</table>\n",
       "</div>"
      ],
      "text/plain": [
       "            airline  rep_to_all\n",
       "9      SingaporeAir    0.289732\n",
       "2   British_Airways    0.247580\n",
       "12   VirginAtlantic    0.222344\n",
       "7           easyJet    0.211097\n",
       "1         AirFrance    0.208481\n",
       "8           RyanAir    0.187564\n",
       "0               KLM    0.128521\n",
       "4         Lufthansa    0.094522\n",
       "3       AmericanAir    0.063738\n",
       "10           Qantas    0.057922\n",
       "11    EtihadAirways    0.023431\n",
       "5         AirBerlin    0.000000\n",
       "6   AirBerlinAssist    0.000000"
      ]
     },
     "execution_count": 52,
     "metadata": {},
     "output_type": "execute_result"
    }
   ],
   "source": [
    "rep_ratios = pd.DataFrame(columns=['airline', 'rep_to_all'])\n",
    "rep_ratios['airline'] = [i for i in airlines.keys()]\n",
    "rep_ratios['rep_to_all'] = [air_count[name]['rep_to_all'] for name in airlines.keys()]\n",
    "rep_ratios_sort = rep_ratios.sort_values(by='rep_to_all', ascending=False)\n",
    "rep_ratios_sort"
   ]
  },
  {
   "cell_type": "code",
   "execution_count": 53,
   "metadata": {},
   "outputs": [
    {
     "data": {
      "image/png": "[encoded data removed]",
      "text/plain": [
       "<Figure size 864x360 with 1 Axes>"
      ]
     },
     "metadata": {
      "needs_background": "light"
     },
     "output_type": "display_data"
    }
   ],
   "source": [
    "plt.figure(figsize=(12,5))\n",
    "plt.bar(rep_ratios_sort['airline'], rep_ratios_sort['rep_to_all'])\n",
    "plt.xticks(rotation='45')\n",
    "plt.title('Ratio of reply tweets per airline', size=15);"
   ]
  },
  {
   "cell_type": "markdown",
   "metadata": {},
   "source": [
    "Replies over all tweets"
   ]
  },
  {
   "cell_type": "code",
   "execution_count": 54,
   "metadata": {},
   "outputs": [
    {
     "name": "stdout",
     "output_type": "stream",
     "text": [
      "KLM: 0.12852132297505492 \n",
      " Mean: 0.13345621304626304\n"
     ]
    }
   ],
   "source": [
    "print('KLM:', air_count['KLM']['rep_to_all'], '\\n', 'Mean:',  st.mean(list(rep_ratios['rep_to_all'])))\n"
   ]
  },
  {
   "cell_type": "markdown",
   "metadata": {},
   "source": [
    "Number of tweets received from users normalized on the number of followers -> THIS WON'T BE INCLUDED"
   ]
  },
  {
   "cell_type": "code",
   "execution_count": 55,
   "metadata": {},
   "outputs": [],
   "source": [
    "for name in airlines:\n",
    "    if name != 'AirBerlin' and name != 'AirBerlinAssist':\n",
    "        air_count[name]['followers'] = col.find_one({'user.id': airlines[name]})['user']['followers_count']\n",
    "        air_count[name]['norm_tweets'] = (air_count[name]['nr']*(1-air_count[name]['rep_ratio']))/air_count[name]['followers']\n",
    "    else:\n",
    "        air_count[name]['followers'] = 'unknown'\n",
    "        air_count[name]['norm_tweets'] = 'unknown'"
   ]
  },
  {
   "cell_type": "markdown",
   "metadata": {},
   "source": [
    "Note: AirBerlin and AirBerlinAssist are not included since we don't have any tweets from them, hence no information on the number of followers."
   ]
  },
  {
   "cell_type": "code",
   "execution_count": 56,
   "metadata": {},
   "outputs": [
    {
     "name": "stdout",
     "output_type": "stream",
     "text": [
      "0.05690315278679093\n",
      "0.08737490829053558\n",
      "0.16499212861505594\n",
      "0.17534325455220157\n",
      "0.19193193521205879\n",
      "unknown\n",
      "unknown\n",
      "0.2859667462095734\n",
      "0.09204724116437656\n",
      "0.029041847058094955\n",
      "0.18126486170789705\n",
      "0.028696688242086328\n",
      "0.08238347374735909\n"
     ]
    }
   ],
   "source": [
    "for name in airlines:\n",
    "    print(air_count[name]['norm_tweets'])"
   ]
  },
  {
   "cell_type": "markdown",
   "metadata": {},
   "source": [
    "We get the ratio of tweets customers post to the number of followers a company has.\n",
    "This is problematic since we are not sure the people who tweeted about an airline are actually their followers."
   ]
  },
  {
   "cell_type": "code",
   "execution_count": null,
   "metadata": {},
   "outputs": [],
   "source": []
  }
 ],
 "metadata": {
  "kernelspec": {
   "display_name": "Python 3",
   "language": "python",
   "name": "python3"
  },
  "language_info": {
   "codemirror_mode": {
    "name": "ipython",
    "version": 3
   },
   "file_extension": ".py",
   "mimetype": "text/x-python",
   "name": "python",
   "nbconvert_exporter": "python",
   "pygments_lexer": "ipython3",
   "version": "3.7.6"
  }
 },
 "nbformat": 4,
 "nbformat_minor": 4
}
