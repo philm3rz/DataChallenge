{
 "cells": [
  {
   "cell_type": "code",
   "execution_count": null,
   "metadata": {},
   "outputs": [],
   "source": [
    "#import important modules\n",
    "import pymongo as pm\n",
    "import pandas as pd\n",
    "import matplotlib.pyplot as plt\n",
    "import numpy as np\n",
    "import sklearn as skl\n",
    "from pymongo import MongoClient\n",
    "import json\n",
    "import pickle\n",
    "import re\n",
    "import pprint\n",
    "import datetime\n",
    "import statistics as st"
   ]
  },
  {
   "cell_type": "code",
   "execution_count": null,
   "metadata": {},
   "outputs": [],
   "source": [
    "with open('editeddata/conversations.json', 'r') as convo_json:\n",
    "    convos = json.load(convo_json)"
   ]
  },
  {
   "cell_type": "code",
   "execution_count": null,
   "metadata": {},
   "outputs": [],
   "source": [
    "client = MongoClient('localhost', 27017)\n",
    "mydb = client.tweets\n",
    "col = mydb['_tweets']"
   ]
  },
  {
   "cell_type": "code",
   "execution_count": null,
   "metadata": {},
   "outputs": [],
   "source": [
    "airlines = {'KLM':56377143, \n",
    "            'AirFrance': 106062176, \n",
    "            'British_Airways': 18332190, \n",
    "            'AmericanAir': 22536055, \n",
    "           'Lufthansa': 124476322, \n",
    "           'AirBerlin': 26223583, \n",
    "           'AirBerlinAssist': 2182373406, \n",
    "           'easyJet': 38676903, \n",
    "           'RyanAir': 1542862735, \n",
    "           'SingaporeAir': 253340062, \n",
    "           'Qantas': 218730857, \n",
    "           'EtihadAirways': 45621423, \n",
    "           'VirginAtlantic': 20626359}"
   ]
  },
  {
   "cell_type": "code",
   "execution_count": null,
   "metadata": {},
   "outputs": [],
   "source": [
    "air_count = pickle.load(open(\"save.p\", \"rb\"))"
   ]
  },
  {
   "cell_type": "markdown",
   "metadata": {},
   "source": [
    "Get the ratio of replied tweets for every airline"
   ]
  },
  {
   "cell_type": "code",
   "execution_count": null,
   "metadata": {},
   "outputs": [],
   "source": [
    "for name in airlines:\n",
    "    if len(air_count[name]['ids']) != 0:\n",
    "        conv_tweets = len(air_count[name]['ids']) - len(list(col.find({'user.id': airlines[name], 'in_reply_to_user_id':'none'})))\n",
    "        a = len(list(col.find({'user.id' : airlines[name], 'in_reply_to_user_id' :{'$ne': 'none'}})))\n",
    "        air_count[name]['rep_to_all'] = a / conv_tweets\n",
    "        if a != 0:\n",
    "            air_count[name]['rec_to_rep'] = (conv_tweets - a) / a \n",
    "        else:\n",
    "            air_count[name]['rec_to_rep'] = conv_tweets\n",
    "    else:\n",
    "        air_count[name]['rep_to_all'] = 0\n",
    "        air_count[name]['rec_to_rep'] = 0"
   ]
  },
  {
   "cell_type": "markdown",
   "metadata": {},
   "source": [
    "Received over reply tweets. \n",
    "We exclude AirBerlin (which didn't reply at all to its cutomers) and AirBerlinAssist (which doesn't have any tweets associated with them)"
   ]
  },
  {
   "cell_type": "code",
   "execution_count": null,
   "metadata": {},
   "outputs": [],
   "source": [
    "reps = pd.DataFrame(columns=['airline', 'rec_to_rep_ratio'])\n",
    "reps['airline'] = [i for i in airlines.keys() if i not in 'AirBerlinAssist']\n",
    "reps['rec_to_rep_ratio'] = [air_count[name]['rec_to_rep'] for name in airlines if name not in 'AirBerlinAssist']\n",
    "reps_sort = reps.sort_values(by='rec_to_rep_ratio', ascending=False)\n",
    "reps_sort = reps_sort.reset_index(drop=True)\n",
    "reps_sort"
   ]
  },
  {
   "cell_type": "markdown",
   "metadata": {},
   "source": [
    "The point is to be low on the table as that indicates a low number of received tweets per a reply"
   ]
  },
  {
   "cell_type": "code",
   "execution_count": null,
   "metadata": {},
   "outputs": [],
   "source": [
    "plt.figure(figsize=(12,5))\n",
    "plt.bar(reps_sort['airline'], reps_sort['rec_to_rep_ratio'], color='green')\n",
    "plt.xticks(rotation='45')\n",
    "plt.title('Ratio of received to reply tweets per airline', size=15)\n",
    "plt.ylabel('Number of received per a reply', size=12);"
   ]
  },
  {
   "cell_type": "code",
   "execution_count": null,
   "metadata": {},
   "outputs": [],
   "source": [
    "print('SingaporeAir:', air_count['SingaporeAir']['rec_to_rep'], '\\n', 'KLM:', air_count['KLM']['rec_to_rep'], '\\n' 'Mean:', st.mean(list(reps['rec_to_rep_ratio'])))\n"
   ]
  },
  {
   "cell_type": "code",
   "execution_count": null,
   "metadata": {},
   "outputs": [],
   "source": [
    "rep_ratios = pd.DataFrame(columns=['airline', 'rep_to_all'])\n",
    "rep_ratios['airline'] = [i for i in airlines.keys()]\n",
    "rep_ratios['rep_to_all'] = [air_count[name]['rep_to_all'] for name in airlines.keys()]\n",
    "rep_ratios_sort = rep_ratios.sort_values(by='rep_to_all', ascending=False)\n",
    "rep_ratios_sort"
   ]
  },
  {
   "cell_type": "code",
   "execution_count": null,
   "metadata": {},
   "outputs": [],
   "source": [
    "plt.figure(figsize=(12,5))\n",
    "plt.bar(rep_ratios_sort['airline'], rep_ratios_sort['rep_to_all'])\n",
    "plt.xticks(rotation='45')\n",
    "plt.title('Ratio of reply tweets per airline', size=15);"
   ]
  },
  {
   "cell_type": "markdown",
   "metadata": {},
   "source": [
    "Replies over all tweets"
   ]
  },
  {
   "cell_type": "code",
   "execution_count": null,
   "metadata": {},
   "outputs": [],
   "source": [
    "print('KLM:', air_count['KLM']['rep_to_all'], '\\n', 'Mean:',  st.mean(list(rep_ratios['rep_to_all'])))\n"
   ]
  },
  {
   "cell_type": "markdown",
   "metadata": {},
   "source": [
    "Number of tweets received from users normalized on the number of followers -> THIS WON'T BE INCLUDED"
   ]
  },
  {
   "cell_type": "code",
   "execution_count": null,
   "metadata": {},
   "outputs": [],
   "source": [
    "for name in airlines:\n",
    "    if name != 'AirBerlin' and name != 'AirBerlinAssist':\n",
    "        air_count[name]['followers'] = col.find_one({'user.id': airlines[name]})['user']['followers_count']\n",
    "        air_count[name]['norm_tweets'] = (air_count[name]['nr']*(1-air_count[name]['rep_ratio']))/air_count[name]['followers']\n",
    "    else:\n",
    "        air_count[name]['followers'] = 'unknown'\n",
    "        air_count[name]['norm_tweets'] = 'unknown'"
   ]
  },
  {
   "cell_type": "markdown",
   "metadata": {},
   "source": [
    "Note: AirBerlin and AirBerlinAssist are not included since we don't have any tweets from them, hence no information on the number of followers."
   ]
  },
  {
   "cell_type": "code",
   "execution_count": null,
   "metadata": {},
   "outputs": [],
   "source": [
    "for name in airlines:\n",
    "    print(air_count[name]['norm_tweets'])"
   ]
  },
  {
   "cell_type": "markdown",
   "metadata": {},
   "source": [
    "We get the ratio of tweets customers post to the number of followers a company has.\n",
    "This is problematic since we are not sure the people who tweeted about an airline are actually their followers."
   ]
  },
  {
   "cell_type": "code",
   "execution_count": null,
   "metadata": {},
   "outputs": [],
   "source": [
    "import calendar"
   ]
  },
  {
   "cell_type": "code",
   "execution_count": null,
   "metadata": {},
   "outputs": [],
   "source": [
    "rec = []\n",
    "d = []\n",
    "w = []\n",
    "k = 0\n",
    "for i in air_count['KLM']['ids']:\n",
    "    k += 1\n",
    "    t = col.find_one({'id': i})\n",
    "    if t['user']['id'] not in airlines.values():\n",
    "        rec.append(i)\n",
    "        datetime_obj = datetime.date.fromtimestamp(int(t['timestamp_ms'])/1000)\n",
    "        d.append(datetime_obj.strftime('%Y-%m-%d'))\n",
    "        w.append(datetime_obj.weekday())"
   ]
  },
  {
   "cell_type": "code",
   "execution_count": null,
   "metadata": {},
   "outputs": [],
   "source": [
    "klm = pd.DataFrame({'rec_ids' : rec, 'date': d, 'weekday': w})"
   ]
  }
 ],
 "metadata": {
  "kernelspec": {
   "display_name": "Python 3",
   "language": "python",
   "name": "python3"
  },
  "language_info": {
   "codemirror_mode": {
    "name": "ipython",
    "version": 3
   },
   "file_extension": ".py",
   "mimetype": "text/x-python",
   "name": "python",
   "nbconvert_exporter": "python",
   "pygments_lexer": "ipython3",
   "version": "3.7.6"
  }
 },
 "nbformat": 4,
 "nbformat_minor": 4
}
